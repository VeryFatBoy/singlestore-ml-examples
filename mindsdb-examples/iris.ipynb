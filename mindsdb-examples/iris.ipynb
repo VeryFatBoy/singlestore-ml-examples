{
 "cells": [
  {
   "cell_type": "code",
   "metadata": {
    "tags": [],
    "deepnote_variable_name": "df_1",
    "sql_integration_id": "d131030a-9c89-46f1-b2fc-2cdd79a461ca",
    "cell_id": "ac74dd5371ff4326a5a4d0ba925e68e1",
    "deepnote_to_be_reexecuted": false,
    "source_hash": "5a183859",
    "execution_start": 1648835253523,
    "execution_millis": 1940,
    "deepnote_sql_source": "DROP DATABASE IF EXISTS iris_db;",
    "deepnote_cell_type": "sql",
    "deepnote_cell_height": 121
   },
   "source": "\n\ndf_1 = _deepnote_execute_sql(\"\"\"DROP DATABASE IF EXISTS iris_db;\n\"\"\", 'SQL_D131030A_9C89_46F1_B2FC_2CDD79A461CA')\ndf_1",
   "execution_count": null,
   "outputs": []
  },
  {
   "cell_type": "code",
   "metadata": {
    "tags": [],
    "deepnote_variable_name": "df_2",
    "sql_integration_id": "d131030a-9c89-46f1-b2fc-2cdd79a461ca",
    "cell_id": "fc4a809867904aa88b15e4887556fcfc",
    "deepnote_to_be_reexecuted": false,
    "source_hash": "d0adc044",
    "execution_start": 1648835260021,
    "execution_millis": 4964,
    "deepnote_sql_source": "CREATE DATABASE iris_db;",
    "deepnote_cell_type": "sql",
    "deepnote_cell_height": 121
   },
   "source": "\n\ndf_2 = _deepnote_execute_sql(\"\"\"CREATE DATABASE iris_db;\n\"\"\", 'SQL_D131030A_9C89_46F1_B2FC_2CDD79A461CA')\ndf_2",
   "execution_count": null,
   "outputs": []
  },
  {
   "cell_type": "code",
   "metadata": {
    "tags": [],
    "deepnote_variable_name": "df_3",
    "sql_integration_id": "d131030a-9c89-46f1-b2fc-2cdd79a461ca",
    "cell_id": "e703b7bb41dd482ab3776e8341758383",
    "deepnote_to_be_reexecuted": false,
    "source_hash": "102536d2",
    "execution_start": 1648835267703,
    "execution_millis": 104,
    "deepnote_sql_source": "CREATE TABLE iris_db.iris (\n    sepal_length FLOAT,\n    sepal_width FLOAT,\n    petal_length FLOAT,\n    petal_width FLOAT,\n    species VARCHAR(20)\n);",
    "deepnote_cell_type": "sql",
    "deepnote_cell_height": 229
   },
   "source": "\n\ndf_3 = _deepnote_execute_sql(\"\"\"CREATE TABLE iris_db.iris (\n    sepal_length FLOAT,\n    sepal_width FLOAT,\n    petal_length FLOAT,\n    petal_width FLOAT,\n    species VARCHAR(20)\n);\n\"\"\", 'SQL_D131030A_9C89_46F1_B2FC_2CDD79A461CA')\ndf_3",
   "execution_count": null,
   "outputs": []
  },
  {
   "cell_type": "code",
   "metadata": {
    "tags": [],
    "deepnote_variable_name": "df_4",
    "sql_integration_id": "d131030a-9c89-46f1-b2fc-2cdd79a461ca",
    "cell_id": "0b70629456494cfa9b815d0481990516",
    "deepnote_to_be_reexecuted": false,
    "source_hash": "6d9cb648",
    "execution_start": 1648835273387,
    "execution_millis": 53,
    "deepnote_sql_source": "INSERT INTO iris_db.iris VALUES\n(5.1,3.5,1.4,0.2,'Iris-setosa'),\n(4.9,3,1.4,0.2,'Iris-setosa'),\n(4.7,3.2,1.3,0.2,'Iris-setosa'),\n(4.6,3.1,1.5,0.2,'Iris-setosa'),\n(5,3.6,1.4,0.2,'Iris-setosa'),\n(5.4,3.9,1.7,0.4,'Iris-setosa'),\n(4.6,3.4,1.4,0.3,'Iris-setosa'),\n(5,3.4,1.5,0.2,'Iris-setosa'),\n(4.4,2.9,1.4,0.2,'Iris-setosa'),\n(4.9,3.1,1.5,0.1,'Iris-setosa'),\n(5.4,3.7,1.5,0.2,'Iris-setosa'),\n(4.8,3.4,1.6,0.2,'Iris-setosa'),\n(4.8,3,1.4,0.1,'Iris-setosa'),\n(4.3,3,1.1,0.1,'Iris-setosa'),\n(5.8,4,1.2,0.2,'Iris-setosa'),\n(5.7,4.4,1.5,0.4,'Iris-setosa'),\n(5.4,3.9,1.3,0.4,'Iris-setosa'),\n(5.1,3.5,1.4,0.3,'Iris-setosa'),\n(5.7,3.8,1.7,0.3,'Iris-setosa'),\n(5.1,3.8,1.5,0.3,'Iris-setosa'),\n(5.4,3.4,1.7,0.2,'Iris-setosa'),\n(5.1,3.7,1.5,0.4,'Iris-setosa'),\n(4.6,3.6,1,0.2,'Iris-setosa'),\n(5.1,3.3,1.7,0.5,'Iris-setosa'),\n(4.8,3.4,1.9,0.2,'Iris-setosa'),\n(5,3,1.6,0.2,'Iris-setosa'),\n(5,3.4,1.6,0.4,'Iris-setosa'),\n(5.2,3.5,1.5,0.2,'Iris-setosa'),\n(5.2,3.4,1.4,0.2,'Iris-setosa'),\n(4.7,3.2,1.6,0.2,'Iris-setosa'),\n(4.8,3.1,1.6,0.2,'Iris-setosa'),\n(5.4,3.4,1.5,0.4,'Iris-setosa'),\n(5.2,4.1,1.5,0.1,'Iris-setosa'),\n(5.5,4.2,1.4,0.2,'Iris-setosa'),\n(4.9,3.1,1.5,0.1,'Iris-setosa'),\n(5,3.2,1.2,0.2,'Iris-setosa'),\n(5.5,3.5,1.3,0.2,'Iris-setosa'),\n(4.9,3.1,1.5,0.1,'Iris-setosa'),\n(4.4,3,1.3,0.2,'Iris-setosa'),\n(5.1,3.4,1.5,0.2,'Iris-setosa'),\n(5,3.5,1.3,0.3,'Iris-setosa'),\n(4.5,2.3,1.3,0.3,'Iris-setosa'),\n(4.4,3.2,1.3,0.2,'Iris-setosa'),\n(5,3.5,1.6,0.6,'Iris-setosa'),\n(5.1,3.8,1.9,0.4,'Iris-setosa'),\n(4.8,3,1.4,0.3,'Iris-setosa'),\n(5.1,3.8,1.6,0.2,'Iris-setosa'),\n(4.6,3.2,1.4,0.2,'Iris-setosa'),\n(5.3,3.7,1.5,0.2,'Iris-setosa'),\n(5,3.3,1.4,0.2,'Iris-setosa'),\n(7,3.2,4.7,1.4,'Iris-versicolor'),\n(6.4,3.2,4.5,1.5,'Iris-versicolor'),\n(6.9,3.1,4.9,1.5,'Iris-versicolor'),\n(5.5,2.3,4,1.3,'Iris-versicolor'),\n(6.5,2.8,4.6,1.5,'Iris-versicolor'),\n(5.7,2.8,4.5,1.3,'Iris-versicolor'),\n(6.3,3.3,4.7,1.6,'Iris-versicolor'),\n(4.9,2.4,3.3,1,'Iris-versicolor'),\n(6.6,2.9,4.6,1.3,'Iris-versicolor'),\n(5.2,2.7,3.9,1.4,'Iris-versicolor'),\n(5,2,3.5,1,'Iris-versicolor'),\n(5.9,3,4.2,1.5,'Iris-versicolor'),\n(6,2.2,4,1,'Iris-versicolor'),\n(6.1,2.9,4.7,1.4,'Iris-versicolor'),\n(5.6,2.9,3.6,1.3,'Iris-versicolor'),\n(6.7,3.1,4.4,1.4,'Iris-versicolor'),\n(5.6,3,4.5,1.5,'Iris-versicolor'),\n(5.8,2.7,4.1,1,'Iris-versicolor'),\n(6.2,2.2,4.5,1.5,'Iris-versicolor'),\n(5.6,2.5,3.9,1.1,'Iris-versicolor'),\n(5.9,3.2,4.8,1.8,'Iris-versicolor'),\n(6.1,2.8,4,1.3,'Iris-versicolor'),\n(6.3,2.5,4.9,1.5,'Iris-versicolor'),\n(6.1,2.8,4.7,1.2,'Iris-versicolor'),\n(6.4,2.9,4.3,1.3,'Iris-versicolor'),\n(6.6,3,4.4,1.4,'Iris-versicolor'),\n(6.8,2.8,4.8,1.4,'Iris-versicolor'),\n(6.7,3,5,1.7,'Iris-versicolor'),\n(6,2.9,4.5,1.5,'Iris-versicolor'),\n(5.7,2.6,3.5,1,'Iris-versicolor'),\n(5.5,2.4,3.8,1.1,'Iris-versicolor'),\n(5.5,2.4,3.7,1,'Iris-versicolor'),\n(5.8,2.7,3.9,1.2,'Iris-versicolor'),\n(6,2.7,5.1,1.6,'Iris-versicolor'),\n(5.4,3,4.5,1.5,'Iris-versicolor'),\n(6,3.4,4.5,1.6,'Iris-versicolor'),\n(6.7,3.1,4.7,1.5,'Iris-versicolor'),\n(6.3,2.3,4.4,1.3,'Iris-versicolor'),\n(5.6,3,4.1,1.3,'Iris-versicolor'),\n(5.5,2.5,4,1.3,'Iris-versicolor'),\n(5.5,2.6,4.4,1.2,'Iris-versicolor'),\n(6.1,3,4.6,1.4,'Iris-versicolor'),\n(5.8,2.6,4,1.2,'Iris-versicolor'),\n(5,2.3,3.3,1,'Iris-versicolor'),\n(5.6,2.7,4.2,1.3,'Iris-versicolor'),\n(5.7,3,4.2,1.2,'Iris-versicolor'),\n(5.7,2.9,4.2,1.3,'Iris-versicolor'),\n(6.2,2.9,4.3,1.3,'Iris-versicolor'),\n(5.1,2.5,3,1.1,'Iris-versicolor'),\n(5.7,2.8,4.1,1.3,'Iris-versicolor'),\n(6.3,3.3,6,2.5,'Iris-virginica'),\n(5.8,2.7,5.1,1.9,'Iris-virginica'),\n(7.1,3,5.9,2.1,'Iris-virginica'),\n(6.3,2.9,5.6,1.8,'Iris-virginica'),\n(6.5,3,5.8,2.2,'Iris-virginica'),\n(7.6,3,6.6,2.1,'Iris-virginica'),\n(4.9,2.5,4.5,1.7,'Iris-virginica'),\n(7.3,2.9,6.3,1.8,'Iris-virginica'),\n(6.7,2.5,5.8,1.8,'Iris-virginica'),\n(7.2,3.6,6.1,2.5,'Iris-virginica'),\n(6.5,3.2,5.1,2,'Iris-virginica'),\n(6.4,2.7,5.3,1.9,'Iris-virginica'),\n(6.8,3,5.5,2.1,'Iris-virginica'),\n(5.7,2.5,5,2,'Iris-virginica'),\n(5.8,2.8,5.1,2.4,'Iris-virginica'),\n(6.4,3.2,5.3,2.3,'Iris-virginica'),\n(6.5,3,5.5,1.8,'Iris-virginica'),\n(7.7,3.8,6.7,2.2,'Iris-virginica'),\n(7.7,2.6,6.9,2.3,'Iris-virginica'),\n(6,2.2,5,1.5,'Iris-virginica'),\n(6.9,3.2,5.7,2.3,'Iris-virginica'),\n(5.6,2.8,4.9,2,'Iris-virginica'),\n(7.7,2.8,6.7,2,'Iris-virginica'),\n(6.3,2.7,4.9,1.8,'Iris-virginica'),\n(6.7,3.3,5.7,2.1,'Iris-virginica'),\n(7.2,3.2,6,1.8,'Iris-virginica'),\n(6.2,2.8,4.8,1.8,'Iris-virginica'),\n(6.1,3,4.9,1.8,'Iris-virginica'),\n(6.4,2.8,5.6,2.1,'Iris-virginica'),\n(7.2,3,5.8,1.6,'Iris-virginica'),\n(7.4,2.8,6.1,1.9,'Iris-virginica'),\n(7.9,3.8,6.4,2,'Iris-virginica'),\n(6.4,2.8,5.6,2.2,'Iris-virginica'),\n(6.3,2.8,5.1,1.5,'Iris-virginica'),\n(6.1,2.6,5.6,1.4,'Iris-virginica'),\n(7.7,3,6.1,2.3,'Iris-virginica'),\n(6.3,3.4,5.6,2.4,'Iris-virginica'),\n(6.4,3.1,5.5,1.8,'Iris-virginica'),\n(6,3,4.8,1.8,'Iris-virginica'),\n(6.9,3.1,5.4,2.1,'Iris-virginica'),\n(6.7,3.1,5.6,2.4,'Iris-virginica'),\n(6.9,3.1,5.1,2.3,'Iris-virginica'),\n(5.8,2.7,5.1,1.9,'Iris-virginica'),\n(6.8,3.2,5.9,2.3,'Iris-virginica'),\n(6.7,3.3,5.7,2.5,'Iris-virginica'),\n(6.7,3,5.2,2.3,'Iris-virginica'),\n(6.3,2.5,5,1.9,'Iris-virginica'),\n(6.5,3,5.2,2,'Iris-virginica'),\n(6.2,3.4,5.4,2.3,'Iris-virginica'),\n(5.9,3,5.1,1.8,'Iris-virginica');",
    "deepnote_cell_type": "sql",
    "deepnote_cell_height": 2821
   },
   "source": "\n\ndf_4 = _deepnote_execute_sql(\"\"\"INSERT INTO iris_db.iris VALUES\n(5.1,3.5,1.4,0.2,'Iris-setosa'),\n(4.9,3,1.4,0.2,'Iris-setosa'),\n(4.7,3.2,1.3,0.2,'Iris-setosa'),\n(4.6,3.1,1.5,0.2,'Iris-setosa'),\n(5,3.6,1.4,0.2,'Iris-setosa'),\n(5.4,3.9,1.7,0.4,'Iris-setosa'),\n(4.6,3.4,1.4,0.3,'Iris-setosa'),\n(5,3.4,1.5,0.2,'Iris-setosa'),\n(4.4,2.9,1.4,0.2,'Iris-setosa'),\n(4.9,3.1,1.5,0.1,'Iris-setosa'),\n(5.4,3.7,1.5,0.2,'Iris-setosa'),\n(4.8,3.4,1.6,0.2,'Iris-setosa'),\n(4.8,3,1.4,0.1,'Iris-setosa'),\n(4.3,3,1.1,0.1,'Iris-setosa'),\n(5.8,4,1.2,0.2,'Iris-setosa'),\n(5.7,4.4,1.5,0.4,'Iris-setosa'),\n(5.4,3.9,1.3,0.4,'Iris-setosa'),\n(5.1,3.5,1.4,0.3,'Iris-setosa'),\n(5.7,3.8,1.7,0.3,'Iris-setosa'),\n(5.1,3.8,1.5,0.3,'Iris-setosa'),\n(5.4,3.4,1.7,0.2,'Iris-setosa'),\n(5.1,3.7,1.5,0.4,'Iris-setosa'),\n(4.6,3.6,1,0.2,'Iris-setosa'),\n(5.1,3.3,1.7,0.5,'Iris-setosa'),\n(4.8,3.4,1.9,0.2,'Iris-setosa'),\n(5,3,1.6,0.2,'Iris-setosa'),\n(5,3.4,1.6,0.4,'Iris-setosa'),\n(5.2,3.5,1.5,0.2,'Iris-setosa'),\n(5.2,3.4,1.4,0.2,'Iris-setosa'),\n(4.7,3.2,1.6,0.2,'Iris-setosa'),\n(4.8,3.1,1.6,0.2,'Iris-setosa'),\n(5.4,3.4,1.5,0.4,'Iris-setosa'),\n(5.2,4.1,1.5,0.1,'Iris-setosa'),\n(5.5,4.2,1.4,0.2,'Iris-setosa'),\n(4.9,3.1,1.5,0.1,'Iris-setosa'),\n(5,3.2,1.2,0.2,'Iris-setosa'),\n(5.5,3.5,1.3,0.2,'Iris-setosa'),\n(4.9,3.1,1.5,0.1,'Iris-setosa'),\n(4.4,3,1.3,0.2,'Iris-setosa'),\n(5.1,3.4,1.5,0.2,'Iris-setosa'),\n(5,3.5,1.3,0.3,'Iris-setosa'),\n(4.5,2.3,1.3,0.3,'Iris-setosa'),\n(4.4,3.2,1.3,0.2,'Iris-setosa'),\n(5,3.5,1.6,0.6,'Iris-setosa'),\n(5.1,3.8,1.9,0.4,'Iris-setosa'),\n(4.8,3,1.4,0.3,'Iris-setosa'),\n(5.1,3.8,1.6,0.2,'Iris-setosa'),\n(4.6,3.2,1.4,0.2,'Iris-setosa'),\n(5.3,3.7,1.5,0.2,'Iris-setosa'),\n(5,3.3,1.4,0.2,'Iris-setosa'),\n(7,3.2,4.7,1.4,'Iris-versicolor'),\n(6.4,3.2,4.5,1.5,'Iris-versicolor'),\n(6.9,3.1,4.9,1.5,'Iris-versicolor'),\n(5.5,2.3,4,1.3,'Iris-versicolor'),\n(6.5,2.8,4.6,1.5,'Iris-versicolor'),\n(5.7,2.8,4.5,1.3,'Iris-versicolor'),\n(6.3,3.3,4.7,1.6,'Iris-versicolor'),\n(4.9,2.4,3.3,1,'Iris-versicolor'),\n(6.6,2.9,4.6,1.3,'Iris-versicolor'),\n(5.2,2.7,3.9,1.4,'Iris-versicolor'),\n(5,2,3.5,1,'Iris-versicolor'),\n(5.9,3,4.2,1.5,'Iris-versicolor'),\n(6,2.2,4,1,'Iris-versicolor'),\n(6.1,2.9,4.7,1.4,'Iris-versicolor'),\n(5.6,2.9,3.6,1.3,'Iris-versicolor'),\n(6.7,3.1,4.4,1.4,'Iris-versicolor'),\n(5.6,3,4.5,1.5,'Iris-versicolor'),\n(5.8,2.7,4.1,1,'Iris-versicolor'),\n(6.2,2.2,4.5,1.5,'Iris-versicolor'),\n(5.6,2.5,3.9,1.1,'Iris-versicolor'),\n(5.9,3.2,4.8,1.8,'Iris-versicolor'),\n(6.1,2.8,4,1.3,'Iris-versicolor'),\n(6.3,2.5,4.9,1.5,'Iris-versicolor'),\n(6.1,2.8,4.7,1.2,'Iris-versicolor'),\n(6.4,2.9,4.3,1.3,'Iris-versicolor'),\n(6.6,3,4.4,1.4,'Iris-versicolor'),\n(6.8,2.8,4.8,1.4,'Iris-versicolor'),\n(6.7,3,5,1.7,'Iris-versicolor'),\n(6,2.9,4.5,1.5,'Iris-versicolor'),\n(5.7,2.6,3.5,1,'Iris-versicolor'),\n(5.5,2.4,3.8,1.1,'Iris-versicolor'),\n(5.5,2.4,3.7,1,'Iris-versicolor'),\n(5.8,2.7,3.9,1.2,'Iris-versicolor'),\n(6,2.7,5.1,1.6,'Iris-versicolor'),\n(5.4,3,4.5,1.5,'Iris-versicolor'),\n(6,3.4,4.5,1.6,'Iris-versicolor'),\n(6.7,3.1,4.7,1.5,'Iris-versicolor'),\n(6.3,2.3,4.4,1.3,'Iris-versicolor'),\n(5.6,3,4.1,1.3,'Iris-versicolor'),\n(5.5,2.5,4,1.3,'Iris-versicolor'),\n(5.5,2.6,4.4,1.2,'Iris-versicolor'),\n(6.1,3,4.6,1.4,'Iris-versicolor'),\n(5.8,2.6,4,1.2,'Iris-versicolor'),\n(5,2.3,3.3,1,'Iris-versicolor'),\n(5.6,2.7,4.2,1.3,'Iris-versicolor'),\n(5.7,3,4.2,1.2,'Iris-versicolor'),\n(5.7,2.9,4.2,1.3,'Iris-versicolor'),\n(6.2,2.9,4.3,1.3,'Iris-versicolor'),\n(5.1,2.5,3,1.1,'Iris-versicolor'),\n(5.7,2.8,4.1,1.3,'Iris-versicolor'),\n(6.3,3.3,6,2.5,'Iris-virginica'),\n(5.8,2.7,5.1,1.9,'Iris-virginica'),\n(7.1,3,5.9,2.1,'Iris-virginica'),\n(6.3,2.9,5.6,1.8,'Iris-virginica'),\n(6.5,3,5.8,2.2,'Iris-virginica'),\n(7.6,3,6.6,2.1,'Iris-virginica'),\n(4.9,2.5,4.5,1.7,'Iris-virginica'),\n(7.3,2.9,6.3,1.8,'Iris-virginica'),\n(6.7,2.5,5.8,1.8,'Iris-virginica'),\n(7.2,3.6,6.1,2.5,'Iris-virginica'),\n(6.5,3.2,5.1,2,'Iris-virginica'),\n(6.4,2.7,5.3,1.9,'Iris-virginica'),\n(6.8,3,5.5,2.1,'Iris-virginica'),\n(5.7,2.5,5,2,'Iris-virginica'),\n(5.8,2.8,5.1,2.4,'Iris-virginica'),\n(6.4,3.2,5.3,2.3,'Iris-virginica'),\n(6.5,3,5.5,1.8,'Iris-virginica'),\n(7.7,3.8,6.7,2.2,'Iris-virginica'),\n(7.7,2.6,6.9,2.3,'Iris-virginica'),\n(6,2.2,5,1.5,'Iris-virginica'),\n(6.9,3.2,5.7,2.3,'Iris-virginica'),\n(5.6,2.8,4.9,2,'Iris-virginica'),\n(7.7,2.8,6.7,2,'Iris-virginica'),\n(6.3,2.7,4.9,1.8,'Iris-virginica'),\n(6.7,3.3,5.7,2.1,'Iris-virginica'),\n(7.2,3.2,6,1.8,'Iris-virginica'),\n(6.2,2.8,4.8,1.8,'Iris-virginica'),\n(6.1,3,4.9,1.8,'Iris-virginica'),\n(6.4,2.8,5.6,2.1,'Iris-virginica'),\n(7.2,3,5.8,1.6,'Iris-virginica'),\n(7.4,2.8,6.1,1.9,'Iris-virginica'),\n(7.9,3.8,6.4,2,'Iris-virginica'),\n(6.4,2.8,5.6,2.2,'Iris-virginica'),\n(6.3,2.8,5.1,1.5,'Iris-virginica'),\n(6.1,2.6,5.6,1.4,'Iris-virginica'),\n(7.7,3,6.1,2.3,'Iris-virginica'),\n(6.3,3.4,5.6,2.4,'Iris-virginica'),\n(6.4,3.1,5.5,1.8,'Iris-virginica'),\n(6,3,4.8,1.8,'Iris-virginica'),\n(6.9,3.1,5.4,2.1,'Iris-virginica'),\n(6.7,3.1,5.6,2.4,'Iris-virginica'),\n(6.9,3.1,5.1,2.3,'Iris-virginica'),\n(5.8,2.7,5.1,1.9,'Iris-virginica'),\n(6.8,3.2,5.9,2.3,'Iris-virginica'),\n(6.7,3.3,5.7,2.5,'Iris-virginica'),\n(6.7,3,5.2,2.3,'Iris-virginica'),\n(6.3,2.5,5,1.9,'Iris-virginica'),\n(6.5,3,5.2,2,'Iris-virginica'),\n(6.2,3.4,5.4,2.3,'Iris-virginica'),\n(5.9,3,5.1,1.8,'Iris-virginica');\n\"\"\", 'SQL_D131030A_9C89_46F1_B2FC_2CDD79A461CA')\ndf_4",
   "execution_count": null,
   "outputs": []
  },
  {
   "cell_type": "code",
   "metadata": {
    "tags": [],
    "deepnote_variable_name": "df_5",
    "sql_integration_id": "d131030a-9c89-46f1-b2fc-2cdd79a461ca",
    "cell_id": "0533d56d20e440aaa5831a9756e2c93c",
    "deepnote_to_be_reexecuted": false,
    "source_hash": "cb6022a1",
    "execution_start": 1648835278037,
    "execution_millis": 78,
    "deepnote_sql_source": "SELECT *\nFROM iris_db.iris\nLIMIT 5;",
    "deepnote_cell_type": "sql",
    "deepnote_cell_height": 489
   },
   "source": "\n\ndf_5 = _deepnote_execute_sql(\"\"\"SELECT *\nFROM iris_db.iris\nLIMIT 5;\n\"\"\", 'SQL_D131030A_9C89_46F1_B2FC_2CDD79A461CA')\ndf_5",
   "execution_count": null,
   "outputs": [
    {
     "output_type": "execute_result",
     "execution_count": 5,
     "data": {
      "application/vnd.deepnote.dataframe.v3+json": {
       "column_count": 5,
       "row_count": 5,
       "columns": [
        {
         "name": "sepal_length",
         "dtype": "float64",
         "stats": {
          "unique_count": 4,
          "nan_count": 0,
          "min": "4.6",
          "max": "5.4",
          "histogram": [
           {
            "bin_start": 4.6,
            "bin_end": 4.68,
            "count": 1
           },
           {
            "bin_start": 4.68,
            "bin_end": 4.76,
            "count": 0
           },
           {
            "bin_start": 4.76,
            "bin_end": 4.84,
            "count": 0
           },
           {
            "bin_start": 4.84,
            "bin_end": 4.92,
            "count": 1
           },
           {
            "bin_start": 4.92,
            "bin_end": 5,
            "count": 0
           },
           {
            "bin_start": 5,
            "bin_end": 5.08,
            "count": 2
           },
           {
            "bin_start": 5.08,
            "bin_end": 5.16,
            "count": 0
           },
           {
            "bin_start": 5.16,
            "bin_end": 5.24,
            "count": 0
           },
           {
            "bin_start": 5.24,
            "bin_end": 5.32,
            "count": 0
           },
           {
            "bin_start": 5.32,
            "bin_end": 5.4,
            "count": 1
           }
          ]
         }
        },
        {
         "name": "sepal_width",
         "dtype": "float64",
         "stats": {
          "unique_count": 5,
          "nan_count": 0,
          "min": "3.0",
          "max": "3.9",
          "histogram": [
           {
            "bin_start": 3,
            "bin_end": 3.09,
            "count": 1
           },
           {
            "bin_start": 3.09,
            "bin_end": 3.18,
            "count": 1
           },
           {
            "bin_start": 3.18,
            "bin_end": 3.27,
            "count": 0
           },
           {
            "bin_start": 3.27,
            "bin_end": 3.36,
            "count": 0
           },
           {
            "bin_start": 3.36,
            "bin_end": 3.45,
            "count": 1
           },
           {
            "bin_start": 3.45,
            "bin_end": 3.54,
            "count": 0
           },
           {
            "bin_start": 3.54,
            "bin_end": 3.63,
            "count": 1
           },
           {
            "bin_start": 3.63,
            "bin_end": 3.7199999999999998,
            "count": 0
           },
           {
            "bin_start": 3.7199999999999998,
            "bin_end": 3.81,
            "count": 0
           },
           {
            "bin_start": 3.81,
            "bin_end": 3.9,
            "count": 1
           }
          ]
         }
        },
        {
         "name": "petal_length",
         "dtype": "float64",
         "stats": {
          "unique_count": 3,
          "nan_count": 0,
          "min": "1.4",
          "max": "1.7",
          "histogram": [
           {
            "bin_start": 1.4,
            "bin_end": 1.43,
            "count": 2
           },
           {
            "bin_start": 1.43,
            "bin_end": 1.46,
            "count": 0
           },
           {
            "bin_start": 1.46,
            "bin_end": 1.49,
            "count": 0
           },
           {
            "bin_start": 1.49,
            "bin_end": 1.52,
            "count": 2
           },
           {
            "bin_start": 1.52,
            "bin_end": 1.5499999999999998,
            "count": 0
           },
           {
            "bin_start": 1.5499999999999998,
            "bin_end": 1.58,
            "count": 0
           },
           {
            "bin_start": 1.58,
            "bin_end": 1.6099999999999999,
            "count": 0
           },
           {
            "bin_start": 1.6099999999999999,
            "bin_end": 1.64,
            "count": 0
           },
           {
            "bin_start": 1.64,
            "bin_end": 1.67,
            "count": 0
           },
           {
            "bin_start": 1.67,
            "bin_end": 1.7,
            "count": 1
           }
          ]
         }
        },
        {
         "name": "petal_width",
         "dtype": "float64",
         "stats": {
          "unique_count": 2,
          "nan_count": 0,
          "min": "0.2",
          "max": "0.4",
          "histogram": [
           {
            "bin_start": 0.2,
            "bin_end": 0.22,
            "count": 4
           },
           {
            "bin_start": 0.22,
            "bin_end": 0.24000000000000002,
            "count": 0
           },
           {
            "bin_start": 0.24000000000000002,
            "bin_end": 0.26,
            "count": 0
           },
           {
            "bin_start": 0.26,
            "bin_end": 0.28,
            "count": 0
           },
           {
            "bin_start": 0.28,
            "bin_end": 0.30000000000000004,
            "count": 0
           },
           {
            "bin_start": 0.30000000000000004,
            "bin_end": 0.32,
            "count": 0
           },
           {
            "bin_start": 0.32,
            "bin_end": 0.34,
            "count": 0
           },
           {
            "bin_start": 0.34,
            "bin_end": 0.36,
            "count": 0
           },
           {
            "bin_start": 0.36,
            "bin_end": 0.38,
            "count": 0
           },
           {
            "bin_start": 0.38,
            "bin_end": 0.4,
            "count": 1
           }
          ]
         }
        },
        {
         "name": "species",
         "dtype": "object",
         "stats": {
          "unique_count": 1,
          "nan_count": 0,
          "categories": [
           {
            "name": "Iris-setosa",
            "count": 5
           }
          ]
         }
        },
        {
         "name": "_deepnote_index_column",
         "dtype": "int64"
        }
       ],
       "rows": [
        {
         "sepal_length": 4.9,
         "sepal_width": 3,
         "petal_length": 1.4,
         "petal_width": 0.2,
         "species": "Iris-setosa",
         "_deepnote_index_column": 0
        },
        {
         "sepal_length": 4.6,
         "sepal_width": 3.1,
         "petal_length": 1.5,
         "petal_width": 0.2,
         "species": "Iris-setosa",
         "_deepnote_index_column": 1
        },
        {
         "sepal_length": 5,
         "sepal_width": 3.6,
         "petal_length": 1.4,
         "petal_width": 0.2,
         "species": "Iris-setosa",
         "_deepnote_index_column": 2
        },
        {
         "sepal_length": 5.4,
         "sepal_width": 3.9,
         "petal_length": 1.7,
         "petal_width": 0.4,
         "species": "Iris-setosa",
         "_deepnote_index_column": 3
        },
        {
         "sepal_length": 5,
         "sepal_width": 3.4,
         "petal_length": 1.5,
         "petal_width": 0.2,
         "species": "Iris-setosa",
         "_deepnote_index_column": 4
        }
       ]
      },
      "text/plain": "   sepal_length  sepal_width  petal_length  petal_width      species\n0           4.9          3.0           1.4          0.2  Iris-setosa\n1           4.6          3.1           1.5          0.2  Iris-setosa\n2           5.0          3.6           1.4          0.2  Iris-setosa\n3           5.4          3.9           1.7          0.4  Iris-setosa\n4           5.0          3.4           1.5          0.2  Iris-setosa",
      "text/html": "<div>\n<style scoped>\n    .dataframe tbody tr th:only-of-type {\n        vertical-align: middle;\n    }\n\n    .dataframe tbody tr th {\n        vertical-align: top;\n    }\n\n    .dataframe thead th {\n        text-align: right;\n    }\n</style>\n<table border=\"1\" class=\"dataframe\">\n  <thead>\n    <tr style=\"text-align: right;\">\n      <th></th>\n      <th>sepal_length</th>\n      <th>sepal_width</th>\n      <th>petal_length</th>\n      <th>petal_width</th>\n      <th>species</th>\n    </tr>\n  </thead>\n  <tbody>\n    <tr>\n      <th>0</th>\n      <td>4.9</td>\n      <td>3.0</td>\n      <td>1.4</td>\n      <td>0.2</td>\n      <td>Iris-setosa</td>\n    </tr>\n    <tr>\n      <th>1</th>\n      <td>4.6</td>\n      <td>3.1</td>\n      <td>1.5</td>\n      <td>0.2</td>\n      <td>Iris-setosa</td>\n    </tr>\n    <tr>\n      <th>2</th>\n      <td>5.0</td>\n      <td>3.6</td>\n      <td>1.4</td>\n      <td>0.2</td>\n      <td>Iris-setosa</td>\n    </tr>\n    <tr>\n      <th>3</th>\n      <td>5.4</td>\n      <td>3.9</td>\n      <td>1.7</td>\n      <td>0.4</td>\n      <td>Iris-setosa</td>\n    </tr>\n    <tr>\n      <th>4</th>\n      <td>5.0</td>\n      <td>3.4</td>\n      <td>1.5</td>\n      <td>0.2</td>\n      <td>Iris-setosa</td>\n    </tr>\n  </tbody>\n</table>\n</div>"
     },
     "metadata": {}
    }
   ]
  },
  {
   "cell_type": "code",
   "metadata": {
    "tags": [],
    "deepnote_variable_name": "df_6",
    "sql_integration_id": "4a3995e6-e6c8-4cf8-aa3b-e89c56745f8f",
    "cell_id": "9d1f7b62193448cb897fc151703f90e4",
    "deepnote_to_be_reexecuted": false,
    "source_hash": "519b990c",
    "execution_start": 1648835291821,
    "execution_millis": 1953,
    "deepnote_sql_source": "DROP DATASOURCE iris_db;",
    "deepnote_cell_type": "sql",
    "deepnote_cell_height": 121
   },
   "source": "\n\ndf_6 = _deepnote_execute_sql(\"\"\"DROP DATASOURCE iris_db;\n\"\"\", 'SQL_4A3995E6_E6C8_4CF8_AA3B_E89C56745F8F')\ndf_6",
   "execution_count": null,
   "outputs": []
  },
  {
   "cell_type": "code",
   "metadata": {
    "tags": [],
    "deepnote_variable_name": "df_7",
    "sql_integration_id": "4a3995e6-e6c8-4cf8-aa3b-e89c56745f8f",
    "cell_id": "63e069ba8df84bda8e21d504ab431f13",
    "deepnote_to_be_reexecuted": false,
    "source_hash": "ef1acd11",
    "execution_start": 1648835298185,
    "execution_millis": 2204,
    "deepnote_sql_source": "CREATE DATASOURCE iris_db\nWITH ENGINE = \"singlestore\",\n     PARAMETERS = {\n         \"user\" : \"admin\",\n         \"password\" : \"<TO DO>\",\n         \"host\" : \"<TO DO>\",\n         \"port\" : \"3306\",\n         \"database\" : \"iris_db\"\n     }",
    "deepnote_cell_type": "sql",
    "deepnote_cell_height": 265
   },
   "source": "\n\ndf_7 = _deepnote_execute_sql(\"\"\"CREATE DATASOURCE iris_db\nWITH ENGINE = \"singlestore\",\n     PARAMETERS = {\n         \"user\" : \"admin\",\n         \"password\" : \"<TO DO>\",\n         \"host\" : \"<TO DO>\",\n         \"port\" : \"3306\",\n         \"database\" : \"iris_db\"\n     }\n\"\"\", 'SQL_4A3995E6_E6C8_4CF8_AA3B_E89C56745F8F')\ndf_7",
   "execution_count": null,
   "outputs": []
  },
  {
   "cell_type": "code",
   "metadata": {
    "tags": [],
    "deepnote_variable_name": "df_8",
    "sql_integration_id": "4a3995e6-e6c8-4cf8-aa3b-e89c56745f8f",
    "cell_id": "7f662994a90242c6aef28f1007831edf",
    "deepnote_to_be_reexecuted": false,
    "source_hash": "ea0c91c4",
    "execution_start": 1648835309341,
    "execution_millis": 2504,
    "deepnote_sql_source": "SELECT *\nFROM iris_db.iris\nLIMIT 5;",
    "deepnote_cell_type": "sql",
    "deepnote_cell_height": 489
   },
   "source": "\n\ndf_8 = _deepnote_execute_sql(\"\"\"SELECT *\nFROM iris_db.iris\nLIMIT 5;\n\"\"\", 'SQL_4A3995E6_E6C8_4CF8_AA3B_E89C56745F8F')\ndf_8",
   "execution_count": null,
   "outputs": [
    {
     "output_type": "execute_result",
     "execution_count": 8,
     "data": {
      "application/vnd.deepnote.dataframe.v3+json": {
       "column_count": 5,
       "row_count": 5,
       "columns": [
        {
         "name": "sepal_length",
         "dtype": "object",
         "stats": {
          "unique_count": 4,
          "nan_count": 0,
          "categories": [
           {
            "name": "5.0",
            "count": 2
           },
           {
            "name": "4.9",
            "count": 1
           },
           {
            "name": "2 others",
            "count": 2
           }
          ]
         }
        },
        {
         "name": "sepal_width",
         "dtype": "object",
         "stats": {
          "unique_count": 5,
          "nan_count": 0,
          "categories": [
           {
            "name": "3.0",
            "count": 1
           },
           {
            "name": "3.1",
            "count": 1
           },
           {
            "name": "3 others",
            "count": 3
           }
          ]
         }
        },
        {
         "name": "petal_length",
         "dtype": "object",
         "stats": {
          "unique_count": 3,
          "nan_count": 0,
          "categories": [
           {
            "name": "1.4",
            "count": 2
           },
           {
            "name": "1.5",
            "count": 2
           },
           {
            "name": "1.7",
            "count": 1
           }
          ]
         }
        },
        {
         "name": "petal_width",
         "dtype": "object",
         "stats": {
          "unique_count": 2,
          "nan_count": 0,
          "categories": [
           {
            "name": "0.2",
            "count": 4
           },
           {
            "name": "0.4",
            "count": 1
           }
          ]
         }
        },
        {
         "name": "species",
         "dtype": "object",
         "stats": {
          "unique_count": 1,
          "nan_count": 0,
          "categories": [
           {
            "name": "Iris-setosa",
            "count": 5
           }
          ]
         }
        },
        {
         "name": "_deepnote_index_column",
         "dtype": "int64"
        }
       ],
       "rows": [
        {
         "sepal_length": "4.9",
         "sepal_width": "3.0",
         "petal_length": "1.4",
         "petal_width": "0.2",
         "species": "Iris-setosa",
         "_deepnote_index_column": 0
        },
        {
         "sepal_length": "4.6",
         "sepal_width": "3.1",
         "petal_length": "1.5",
         "petal_width": "0.2",
         "species": "Iris-setosa",
         "_deepnote_index_column": 1
        },
        {
         "sepal_length": "5.0",
         "sepal_width": "3.6",
         "petal_length": "1.4",
         "petal_width": "0.2",
         "species": "Iris-setosa",
         "_deepnote_index_column": 2
        },
        {
         "sepal_length": "5.4",
         "sepal_width": "3.9",
         "petal_length": "1.7",
         "petal_width": "0.4",
         "species": "Iris-setosa",
         "_deepnote_index_column": 3
        },
        {
         "sepal_length": "5.0",
         "sepal_width": "3.4",
         "petal_length": "1.5",
         "petal_width": "0.2",
         "species": "Iris-setosa",
         "_deepnote_index_column": 4
        }
       ]
      },
      "text/plain": "  sepal_length sepal_width petal_length petal_width      species\n0          4.9         3.0          1.4         0.2  Iris-setosa\n1          4.6         3.1          1.5         0.2  Iris-setosa\n2          5.0         3.6          1.4         0.2  Iris-setosa\n3          5.4         3.9          1.7         0.4  Iris-setosa\n4          5.0         3.4          1.5         0.2  Iris-setosa",
      "text/html": "<div>\n<style scoped>\n    .dataframe tbody tr th:only-of-type {\n        vertical-align: middle;\n    }\n\n    .dataframe tbody tr th {\n        vertical-align: top;\n    }\n\n    .dataframe thead th {\n        text-align: right;\n    }\n</style>\n<table border=\"1\" class=\"dataframe\">\n  <thead>\n    <tr style=\"text-align: right;\">\n      <th></th>\n      <th>sepal_length</th>\n      <th>sepal_width</th>\n      <th>petal_length</th>\n      <th>petal_width</th>\n      <th>species</th>\n    </tr>\n  </thead>\n  <tbody>\n    <tr>\n      <th>0</th>\n      <td>4.9</td>\n      <td>3.0</td>\n      <td>1.4</td>\n      <td>0.2</td>\n      <td>Iris-setosa</td>\n    </tr>\n    <tr>\n      <th>1</th>\n      <td>4.6</td>\n      <td>3.1</td>\n      <td>1.5</td>\n      <td>0.2</td>\n      <td>Iris-setosa</td>\n    </tr>\n    <tr>\n      <th>2</th>\n      <td>5.0</td>\n      <td>3.6</td>\n      <td>1.4</td>\n      <td>0.2</td>\n      <td>Iris-setosa</td>\n    </tr>\n    <tr>\n      <th>3</th>\n      <td>5.4</td>\n      <td>3.9</td>\n      <td>1.7</td>\n      <td>0.4</td>\n      <td>Iris-setosa</td>\n    </tr>\n    <tr>\n      <th>4</th>\n      <td>5.0</td>\n      <td>3.4</td>\n      <td>1.5</td>\n      <td>0.2</td>\n      <td>Iris-setosa</td>\n    </tr>\n  </tbody>\n</table>\n</div>"
     },
     "metadata": {}
    }
   ]
  },
  {
   "cell_type": "code",
   "metadata": {
    "tags": [],
    "deepnote_variable_name": "df_9",
    "sql_integration_id": "4a3995e6-e6c8-4cf8-aa3b-e89c56745f8f",
    "cell_id": "2987806c1a884ca48ff9d02460525b82",
    "deepnote_to_be_reexecuted": false,
    "source_hash": "695cc77f",
    "execution_start": 1648835318435,
    "execution_millis": 2555,
    "deepnote_sql_source": "DROP PREDICTOR mindsdb.iris_model_v1;",
    "deepnote_cell_type": "sql",
    "deepnote_cell_height": 121
   },
   "source": "\n\ndf_9 = _deepnote_execute_sql(\"\"\"DROP PREDICTOR mindsdb.iris_model_v1;\n\"\"\", 'SQL_4A3995E6_E6C8_4CF8_AA3B_E89C56745F8F')\ndf_9",
   "execution_count": null,
   "outputs": []
  },
  {
   "cell_type": "code",
   "metadata": {
    "tags": [],
    "deepnote_variable_name": "df_10",
    "sql_integration_id": "4a3995e6-e6c8-4cf8-aa3b-e89c56745f8f",
    "cell_id": "8c641ec925ef44048e23f1a419a1e9fa",
    "deepnote_to_be_reexecuted": false,
    "source_hash": "9d035179",
    "execution_start": 1648835324953,
    "execution_millis": 2342,
    "deepnote_sql_source": "CREATE PREDICTOR mindsdb.iris_model_v1\nFROM iris_db (SELECT * FROM iris)\nPREDICT species;",
    "deepnote_cell_type": "sql",
    "deepnote_cell_height": 157
   },
   "source": "\n\ndf_10 = _deepnote_execute_sql(\"\"\"CREATE PREDICTOR mindsdb.iris_model_v1\nFROM iris_db (SELECT * FROM iris)\nPREDICT species;\n\"\"\", 'SQL_4A3995E6_E6C8_4CF8_AA3B_E89C56745F8F')\ndf_10",
   "execution_count": null,
   "outputs": []
  },
  {
   "cell_type": "code",
   "metadata": {
    "tags": [],
    "deepnote_variable_name": "df_11",
    "sql_integration_id": "4a3995e6-e6c8-4cf8-aa3b-e89c56745f8f",
    "cell_id": "1cd96d0ba7744b198fb75c7748a9e46c",
    "deepnote_to_be_reexecuted": false,
    "source_hash": "634384c6",
    "execution_start": 1648835378806,
    "execution_millis": 2100,
    "deepnote_sql_source": "SHOW PREDICTORS;",
    "deepnote_cell_type": "sql",
    "deepnote_cell_height": 289
   },
   "source": "\n\ndf_11 = _deepnote_execute_sql(\"\"\"SHOW PREDICTORS;\n\"\"\", 'SQL_4A3995E6_E6C8_4CF8_AA3B_E89C56745F8F')\ndf_11",
   "execution_count": null,
   "outputs": [
    {
     "output_type": "execute_result",
     "execution_count": 17,
     "data": {
      "application/vnd.deepnote.dataframe.v3+json": {
       "column_count": 9,
       "row_count": 1,
       "columns": [
        {
         "name": "name",
         "dtype": "object",
         "stats": {
          "unique_count": 1,
          "nan_count": 0,
          "categories": [
           {
            "name": "iris_model_v1",
            "count": 1
           }
          ]
         }
        },
        {
         "name": "status",
         "dtype": "object",
         "stats": {
          "unique_count": 1,
          "nan_count": 0,
          "categories": [
           {
            "name": "complete",
            "count": 1
           }
          ]
         }
        },
        {
         "name": "accuracy",
         "dtype": "object",
         "stats": {
          "unique_count": 1,
          "nan_count": 0,
          "categories": [
           {
            "name": "1.0",
            "count": 1
           }
          ]
         }
        },
        {
         "name": "predict",
         "dtype": "object",
         "stats": {
          "unique_count": 1,
          "nan_count": 0,
          "categories": [
           {
            "name": "species",
            "count": 1
           }
          ]
         }
        },
        {
         "name": "update_status",
         "dtype": "object",
         "stats": {
          "unique_count": 1,
          "nan_count": 0,
          "categories": [
           {
            "name": "up_to_date",
            "count": 1
           }
          ]
         }
        },
        {
         "name": "mindsdb_version",
         "dtype": "object",
         "stats": {
          "unique_count": 1,
          "nan_count": 0,
          "categories": [
           {
            "name": "22.3.5.0",
            "count": 1
           }
          ]
         }
        },
        {
         "name": "error",
         "dtype": "object",
         "stats": {
          "unique_count": 0,
          "nan_count": 1,
          "categories": [
           {
            "name": "Missing",
            "count": 1
           }
          ]
         }
        },
        {
         "name": "select_data_query",
         "dtype": "object",
         "stats": {
          "unique_count": 1,
          "nan_count": 0,
          "categories": [
           {
            "name": "",
            "count": 1
           }
          ]
         }
        },
        {
         "name": "training_options",
         "dtype": "object",
         "stats": {
          "unique_count": 1,
          "nan_count": 0,
          "categories": [
           {
            "name": "",
            "count": 1
           }
          ]
         }
        },
        {
         "name": "_deepnote_index_column",
         "dtype": "int64"
        }
       ],
       "rows": [
        {
         "name": "iris_model_v1",
         "status": "complete",
         "accuracy": "1.0",
         "predict": "species",
         "update_status": "up_to_date",
         "mindsdb_version": "22.3.5.0",
         "error": "None",
         "select_data_query": "",
         "training_options": "",
         "_deepnote_index_column": 0
        }
       ]
      },
      "text/plain": "            name    status accuracy  predict update_status mindsdb_version  \\\n0  iris_model_v1  complete      1.0  species    up_to_date        22.3.5.0   \n\n  error select_data_query training_options  \n0  None                                     ",
      "text/html": "<div>\n<style scoped>\n    .dataframe tbody tr th:only-of-type {\n        vertical-align: middle;\n    }\n\n    .dataframe tbody tr th {\n        vertical-align: top;\n    }\n\n    .dataframe thead th {\n        text-align: right;\n    }\n</style>\n<table border=\"1\" class=\"dataframe\">\n  <thead>\n    <tr style=\"text-align: right;\">\n      <th></th>\n      <th>name</th>\n      <th>status</th>\n      <th>accuracy</th>\n      <th>predict</th>\n      <th>update_status</th>\n      <th>mindsdb_version</th>\n      <th>error</th>\n      <th>select_data_query</th>\n      <th>training_options</th>\n    </tr>\n  </thead>\n  <tbody>\n    <tr>\n      <th>0</th>\n      <td>iris_model_v1</td>\n      <td>complete</td>\n      <td>1.0</td>\n      <td>species</td>\n      <td>up_to_date</td>\n      <td>22.3.5.0</td>\n      <td>None</td>\n      <td></td>\n      <td></td>\n    </tr>\n  </tbody>\n</table>\n</div>"
     },
     "metadata": {}
    }
   ]
  },
  {
   "cell_type": "code",
   "metadata": {
    "tags": [],
    "deepnote_variable_name": "df_12",
    "sql_integration_id": "4a3995e6-e6c8-4cf8-aa3b-e89c56745f8f",
    "cell_id": "61bdfc37615a4a92bd09ec0591fc3ca4",
    "deepnote_to_be_reexecuted": false,
    "source_hash": "b2f5a801",
    "execution_start": 1648835387695,
    "execution_millis": 1718,
    "deepnote_sql_source": "DESCRIBE iris_model_v1;",
    "deepnote_cell_type": "sql",
    "deepnote_cell_height": 289
   },
   "source": "\n\ndf_12 = _deepnote_execute_sql(\"\"\"DESCRIBE iris_model_v1;\n\"\"\", 'SQL_4A3995E6_E6C8_4CF8_AA3B_E89C56745F8F')\ndf_12",
   "execution_count": null,
   "outputs": [
    {
     "output_type": "execute_result",
     "execution_count": 18,
     "data": {
      "application/vnd.deepnote.dataframe.v3+json": {
       "column_count": 6,
       "row_count": 1,
       "columns": [
        {
         "name": "accuracies",
         "dtype": "object",
         "stats": {
          "unique_count": 1,
          "nan_count": 0,
          "categories": [
           {
            "name": "{'balanced_accuracy_score': 1.0}",
            "count": 1
           }
          ]
         }
        },
        {
         "name": "column_importances",
         "dtype": "object",
         "stats": {
          "unique_count": 1,
          "nan_count": 0,
          "categories": [
           {
            "name": "{}",
            "count": 1
           }
          ]
         }
        },
        {
         "name": "outputs",
         "dtype": "object",
         "stats": {
          "unique_count": 1,
          "nan_count": 0,
          "categories": [
           {
            "name": "['species']",
            "count": 1
           }
          ]
         }
        },
        {
         "name": "inputs",
         "dtype": "object",
         "stats": {
          "unique_count": 1,
          "nan_count": 0,
          "categories": [
           {
            "name": "['sepal_length', 'sepal_width', 'petal_length', 'petal_width']",
            "count": 1
           }
          ]
         }
        },
        {
         "name": "datasource",
         "dtype": "object",
         "stats": {
          "unique_count": 1,
          "nan_count": 0,
          "categories": [
           {
            "name": "iris_model_v1_17",
            "count": 1
           }
          ]
         }
        },
        {
         "name": "model",
         "dtype": "object",
         "stats": {
          "unique_count": 1,
          "nan_count": 0,
          "categories": [
           {
            "name": "encoders --> dtype_dict --> dependency_dict --> model --> problem_definition --> identifiers --> accuracy_functions",
            "count": 1
           }
          ]
         }
        },
        {
         "name": "_deepnote_index_column",
         "dtype": "int64"
        }
       ],
       "rows": [
        {
         "accuracies": "{'balanced_accuracy_score': 1.0}",
         "column_importances": "{}",
         "outputs": "['species']",
         "inputs": "['sepal_length', 'sepal_width', 'petal_length', 'petal_width']",
         "datasource": "iris_model_v1_17",
         "model": "encoders --> dtype_dict --> dependency_dict --> model --> problem_definition --> identifiers --> accuracy_functions",
         "_deepnote_index_column": 0
        }
       ]
      },
      "text/plain": "                         accuracies column_importances      outputs  \\\n0  {'balanced_accuracy_score': 1.0}                 {}  ['species']   \n\n                                              inputs        datasource  \\\n0  ['sepal_length', 'sepal_width', 'petal_length'...  iris_model_v1_17   \n\n                                               model  \n0  encoders --> dtype_dict --> dependency_dict --...  ",
      "text/html": "<div>\n<style scoped>\n    .dataframe tbody tr th:only-of-type {\n        vertical-align: middle;\n    }\n\n    .dataframe tbody tr th {\n        vertical-align: top;\n    }\n\n    .dataframe thead th {\n        text-align: right;\n    }\n</style>\n<table border=\"1\" class=\"dataframe\">\n  <thead>\n    <tr style=\"text-align: right;\">\n      <th></th>\n      <th>accuracies</th>\n      <th>column_importances</th>\n      <th>outputs</th>\n      <th>inputs</th>\n      <th>datasource</th>\n      <th>model</th>\n    </tr>\n  </thead>\n  <tbody>\n    <tr>\n      <th>0</th>\n      <td>{'balanced_accuracy_score': 1.0}</td>\n      <td>{}</td>\n      <td>['species']</td>\n      <td>['sepal_length', 'sepal_width', 'petal_length'...</td>\n      <td>iris_model_v1_17</td>\n      <td>encoders --&gt; dtype_dict --&gt; dependency_dict --...</td>\n    </tr>\n  </tbody>\n</table>\n</div>"
     },
     "metadata": {}
    }
   ]
  },
  {
   "cell_type": "code",
   "metadata": {
    "tags": [],
    "deepnote_variable_name": "df_13",
    "sql_integration_id": "4a3995e6-e6c8-4cf8-aa3b-e89c56745f8f",
    "cell_id": "8931592ee4c3454298c59099201efd3b",
    "deepnote_to_be_reexecuted": false,
    "source_hash": "38e3dec4",
    "execution_start": 1648835399513,
    "execution_millis": 2201,
    "deepnote_sql_source": "DESCRIBE iris_model_v1.features;",
    "deepnote_cell_type": "sql",
    "deepnote_cell_height": 433
   },
   "source": "\n\ndf_13 = _deepnote_execute_sql(\"\"\"DESCRIBE iris_model_v1.features;\n\"\"\", 'SQL_4A3995E6_E6C8_4CF8_AA3B_E89C56745F8F')\ndf_13",
   "execution_count": null,
   "outputs": [
    {
     "output_type": "execute_result",
     "execution_count": 19,
     "data": {
      "application/vnd.deepnote.dataframe.v3+json": {
       "column_count": 4,
       "row_count": 5,
       "columns": [
        {
         "name": "column",
         "dtype": "object",
         "stats": {
          "unique_count": 5,
          "nan_count": 0,
          "categories": [
           {
            "name": "sepal_length",
            "count": 1
           },
           {
            "name": "sepal_width",
            "count": 1
           },
           {
            "name": "3 others",
            "count": 3
           }
          ]
         }
        },
        {
         "name": "type",
         "dtype": "object",
         "stats": {
          "unique_count": 2,
          "nan_count": 0,
          "categories": [
           {
            "name": "float",
            "count": 4
           },
           {
            "name": "categorical",
            "count": 1
           }
          ]
         }
        },
        {
         "name": "encoder",
         "dtype": "object",
         "stats": {
          "unique_count": 2,
          "nan_count": 0,
          "categories": [
           {
            "name": "NumericEncoder",
            "count": 4
           },
           {
            "name": "OneHotEncoder",
            "count": 1
           }
          ]
         }
        },
        {
         "name": "role",
         "dtype": "object",
         "stats": {
          "unique_count": 2,
          "nan_count": 0,
          "categories": [
           {
            "name": "feature",
            "count": 4
           },
           {
            "name": "target",
            "count": 1
           }
          ]
         }
        },
        {
         "name": "_deepnote_index_column",
         "dtype": "int64"
        }
       ],
       "rows": [
        {
         "column": "sepal_length",
         "type": "float",
         "encoder": "NumericEncoder",
         "role": "feature",
         "_deepnote_index_column": 0
        },
        {
         "column": "sepal_width",
         "type": "float",
         "encoder": "NumericEncoder",
         "role": "feature",
         "_deepnote_index_column": 1
        },
        {
         "column": "petal_length",
         "type": "float",
         "encoder": "NumericEncoder",
         "role": "feature",
         "_deepnote_index_column": 2
        },
        {
         "column": "petal_width",
         "type": "float",
         "encoder": "NumericEncoder",
         "role": "feature",
         "_deepnote_index_column": 3
        },
        {
         "column": "species",
         "type": "categorical",
         "encoder": "OneHotEncoder",
         "role": "target",
         "_deepnote_index_column": 4
        }
       ]
      },
      "text/plain": "         column         type         encoder     role\n0  sepal_length        float  NumericEncoder  feature\n1   sepal_width        float  NumericEncoder  feature\n2  petal_length        float  NumericEncoder  feature\n3   petal_width        float  NumericEncoder  feature\n4       species  categorical   OneHotEncoder   target",
      "text/html": "<div>\n<style scoped>\n    .dataframe tbody tr th:only-of-type {\n        vertical-align: middle;\n    }\n\n    .dataframe tbody tr th {\n        vertical-align: top;\n    }\n\n    .dataframe thead th {\n        text-align: right;\n    }\n</style>\n<table border=\"1\" class=\"dataframe\">\n  <thead>\n    <tr style=\"text-align: right;\">\n      <th></th>\n      <th>column</th>\n      <th>type</th>\n      <th>encoder</th>\n      <th>role</th>\n    </tr>\n  </thead>\n  <tbody>\n    <tr>\n      <th>0</th>\n      <td>sepal_length</td>\n      <td>float</td>\n      <td>NumericEncoder</td>\n      <td>feature</td>\n    </tr>\n    <tr>\n      <th>1</th>\n      <td>sepal_width</td>\n      <td>float</td>\n      <td>NumericEncoder</td>\n      <td>feature</td>\n    </tr>\n    <tr>\n      <th>2</th>\n      <td>petal_length</td>\n      <td>float</td>\n      <td>NumericEncoder</td>\n      <td>feature</td>\n    </tr>\n    <tr>\n      <th>3</th>\n      <td>petal_width</td>\n      <td>float</td>\n      <td>NumericEncoder</td>\n      <td>feature</td>\n    </tr>\n    <tr>\n      <th>4</th>\n      <td>species</td>\n      <td>categorical</td>\n      <td>OneHotEncoder</td>\n      <td>target</td>\n    </tr>\n  </tbody>\n</table>\n</div>"
     },
     "metadata": {}
    }
   ]
  },
  {
   "cell_type": "code",
   "metadata": {
    "tags": [],
    "deepnote_variable_name": "df_14",
    "sql_integration_id": "4a3995e6-e6c8-4cf8-aa3b-e89c56745f8f",
    "cell_id": "bfcf5819997f47d8aaf87be18546a50e",
    "deepnote_to_be_reexecuted": false,
    "source_hash": "bcaf950",
    "execution_start": 1648835413282,
    "execution_millis": 2318,
    "deepnote_sql_source": "SELECT species, species_confidence, species_explain\nFROM mindsdb.iris_model_v1\nWHERE sepal_length = 5.2 AND\n      sepal_width = 3.6 AND\n      petal_length = 1.5 AND\n      petal_width = 0.3;",
    "deepnote_cell_type": "sql",
    "deepnote_cell_height": 359
   },
   "source": "\n\ndf_14 = _deepnote_execute_sql(\"\"\"SELECT species, species_confidence, species_explain\nFROM mindsdb.iris_model_v1\nWHERE sepal_length = 5.2 AND\n      sepal_width = 3.6 AND\n      petal_length = 1.5 AND\n      petal_width = 0.3;\n\"\"\", 'SQL_4A3995E6_E6C8_4CF8_AA3B_E89C56745F8F')\ndf_14",
   "execution_count": null,
   "outputs": [
    {
     "output_type": "execute_result",
     "execution_count": 20,
     "data": {
      "application/vnd.deepnote.dataframe.v3+json": {
       "column_count": 3,
       "row_count": 1,
       "columns": [
        {
         "name": "species",
         "dtype": "object",
         "stats": {
          "unique_count": 1,
          "nan_count": 0,
          "categories": [
           {
            "name": "Iris-setosa",
            "count": 1
           }
          ]
         }
        },
        {
         "name": "species_confidence",
         "dtype": "object",
         "stats": {
          "unique_count": 1,
          "nan_count": 0,
          "categories": [
           {
            "name": "0.9999",
            "count": 1
           }
          ]
         }
        },
        {
         "name": "species_explain",
         "dtype": "object",
         "stats": {
          "unique_count": 1,
          "nan_count": 0,
          "categories": [
           {
            "name": "{\"predicted_value\": \"Iris-setosa\", \"confidence\": 0.9999, \"anomaly\": null, \"truth\": null}",
            "count": 1
           }
          ]
         }
        },
        {
         "name": "_deepnote_index_column",
         "dtype": "int64"
        }
       ],
       "rows": [
        {
         "species": "Iris-setosa",
         "species_confidence": "0.9999",
         "species_explain": "{\"predicted_value\": \"Iris-setosa\", \"confidence\": 0.9999, \"anomaly\": null, \"truth\": null}",
         "_deepnote_index_column": 0
        }
       ]
      },
      "text/plain": "       species species_confidence  \\\n0  Iris-setosa             0.9999   \n\n                                     species_explain  \n0  {\"predicted_value\": \"Iris-setosa\", \"confidence...  ",
      "text/html": "<div>\n<style scoped>\n    .dataframe tbody tr th:only-of-type {\n        vertical-align: middle;\n    }\n\n    .dataframe tbody tr th {\n        vertical-align: top;\n    }\n\n    .dataframe thead th {\n        text-align: right;\n    }\n</style>\n<table border=\"1\" class=\"dataframe\">\n  <thead>\n    <tr style=\"text-align: right;\">\n      <th></th>\n      <th>species</th>\n      <th>species_confidence</th>\n      <th>species_explain</th>\n    </tr>\n  </thead>\n  <tbody>\n    <tr>\n      <th>0</th>\n      <td>Iris-setosa</td>\n      <td>0.9999</td>\n      <td>{\"predicted_value\": \"Iris-setosa\", \"confidence...</td>\n    </tr>\n  </tbody>\n</table>\n</div>"
     },
     "metadata": {}
    }
   ]
  },
  {
   "cell_type": "code",
   "metadata": {
    "tags": [],
    "deepnote_variable_name": "df",
    "sql_integration_id": "4a3995e6-e6c8-4cf8-aa3b-e89c56745f8f",
    "cell_id": "fdca6131d6ec42eebf74261070807d8e",
    "deepnote_to_be_reexecuted": false,
    "source_hash": "3888fb1",
    "execution_start": 1648835424467,
    "execution_millis": 3279,
    "deepnote_table_state": {
     "pageSize": 10,
     "pageIndex": 0,
     "filters": [],
     "sortBy": []
    },
    "deepnote_table_loading": false,
    "deepnote_sql_source": "SELECT orig_table.species AS actual,\n       pred_table.species AS predicted\nFROM iris_db.iris AS orig_table\nJOIN mindsdb.iris_model_v1 AS pred_table;",
    "deepnote_cell_type": "sql",
    "deepnote_cell_height": 692
   },
   "source": "\n\ndf = _deepnote_execute_sql(\"\"\"SELECT orig_table.species AS actual,\n       pred_table.species AS predicted\nFROM iris_db.iris AS orig_table\nJOIN mindsdb.iris_model_v1 AS pred_table;\n\"\"\", 'SQL_4A3995E6_E6C8_4CF8_AA3B_E89C56745F8F')\ndf",
   "execution_count": null,
   "outputs": [
    {
     "output_type": "execute_result",
     "execution_count": 21,
     "data": {
      "application/vnd.deepnote.dataframe.v3+json": {
       "column_count": 2,
       "row_count": 150,
       "columns": [
        {
         "name": "actual",
         "dtype": "object",
         "stats": {
          "unique_count": 3,
          "nan_count": 0,
          "categories": [
           {
            "name": "Iris-setosa",
            "count": 50
           },
           {
            "name": "Iris-versicolor",
            "count": 50
           },
           {
            "name": "Iris-virginica",
            "count": 50
           }
          ]
         }
        },
        {
         "name": "predicted",
         "dtype": "object",
         "stats": {
          "unique_count": 3,
          "nan_count": 0,
          "categories": [
           {
            "name": "Iris-setosa",
            "count": 50
           },
           {
            "name": "Iris-versicolor",
            "count": 50
           },
           {
            "name": "Iris-virginica",
            "count": 50
           }
          ]
         }
        },
        {
         "name": "_deepnote_index_column",
         "dtype": "int64"
        }
       ],
       "rows": [
        {
         "actual": "Iris-setosa",
         "predicted": "Iris-setosa",
         "_deepnote_index_column": 0
        },
        {
         "actual": "Iris-setosa",
         "predicted": "Iris-setosa",
         "_deepnote_index_column": 1
        },
        {
         "actual": "Iris-setosa",
         "predicted": "Iris-setosa",
         "_deepnote_index_column": 2
        },
        {
         "actual": "Iris-setosa",
         "predicted": "Iris-setosa",
         "_deepnote_index_column": 3
        },
        {
         "actual": "Iris-setosa",
         "predicted": "Iris-setosa",
         "_deepnote_index_column": 4
        },
        {
         "actual": "Iris-setosa",
         "predicted": "Iris-setosa",
         "_deepnote_index_column": 5
        },
        {
         "actual": "Iris-setosa",
         "predicted": "Iris-setosa",
         "_deepnote_index_column": 6
        },
        {
         "actual": "Iris-setosa",
         "predicted": "Iris-setosa",
         "_deepnote_index_column": 7
        },
        {
         "actual": "Iris-setosa",
         "predicted": "Iris-setosa",
         "_deepnote_index_column": 8
        },
        {
         "actual": "Iris-setosa",
         "predicted": "Iris-setosa",
         "_deepnote_index_column": 9
        }
       ]
      },
      "text/plain": "             actual       predicted\n0       Iris-setosa     Iris-setosa\n1       Iris-setosa     Iris-setosa\n2       Iris-setosa     Iris-setosa\n3       Iris-setosa     Iris-setosa\n4       Iris-setosa     Iris-setosa\n..              ...             ...\n145  Iris-virginica  Iris-virginica\n146  Iris-virginica  Iris-virginica\n147  Iris-virginica  Iris-virginica\n148  Iris-virginica  Iris-virginica\n149  Iris-virginica  Iris-virginica\n\n[150 rows x 2 columns]",
      "text/html": "<div>\n<style scoped>\n    .dataframe tbody tr th:only-of-type {\n        vertical-align: middle;\n    }\n\n    .dataframe tbody tr th {\n        vertical-align: top;\n    }\n\n    .dataframe thead th {\n        text-align: right;\n    }\n</style>\n<table border=\"1\" class=\"dataframe\">\n  <thead>\n    <tr style=\"text-align: right;\">\n      <th></th>\n      <th>actual</th>\n      <th>predicted</th>\n    </tr>\n  </thead>\n  <tbody>\n    <tr>\n      <th>0</th>\n      <td>Iris-setosa</td>\n      <td>Iris-setosa</td>\n    </tr>\n    <tr>\n      <th>1</th>\n      <td>Iris-setosa</td>\n      <td>Iris-setosa</td>\n    </tr>\n    <tr>\n      <th>2</th>\n      <td>Iris-setosa</td>\n      <td>Iris-setosa</td>\n    </tr>\n    <tr>\n      <th>3</th>\n      <td>Iris-setosa</td>\n      <td>Iris-setosa</td>\n    </tr>\n    <tr>\n      <th>4</th>\n      <td>Iris-setosa</td>\n      <td>Iris-setosa</td>\n    </tr>\n    <tr>\n      <th>...</th>\n      <td>...</td>\n      <td>...</td>\n    </tr>\n    <tr>\n      <th>145</th>\n      <td>Iris-virginica</td>\n      <td>Iris-virginica</td>\n    </tr>\n    <tr>\n      <th>146</th>\n      <td>Iris-virginica</td>\n      <td>Iris-virginica</td>\n    </tr>\n    <tr>\n      <th>147</th>\n      <td>Iris-virginica</td>\n      <td>Iris-virginica</td>\n    </tr>\n    <tr>\n      <th>148</th>\n      <td>Iris-virginica</td>\n      <td>Iris-virginica</td>\n    </tr>\n    <tr>\n      <th>149</th>\n      <td>Iris-virginica</td>\n      <td>Iris-virginica</td>\n    </tr>\n  </tbody>\n</table>\n<p>150 rows × 2 columns</p>\n</div>"
     },
     "metadata": {}
    }
   ]
  },
  {
   "cell_type": "code",
   "metadata": {
    "cell_id": "b720ca709e9c45e4899c08aca3f24808",
    "tags": [],
    "deepnote_to_be_reexecuted": false,
    "source_hash": "1e1c13f3",
    "execution_start": 1648835443996,
    "execution_millis": 14,
    "deepnote_cell_type": "code",
    "deepnote_cell_height": 399.6875
   },
   "source": "import pandas as pd\n\npd_df = pd.DataFrame(columns = range(3))\npd_df.columns = [\"index\", \"actual\", \"predicted\"]\n\nfor i in range(0, len(df)):\n    if df[\"actual\"][i] != df[\"predicted\"][i]:\n        pd_df = pd_df.append(\n            {\"index\" : i,\n             \"actual\" : df[\"actual\"][i],\n             \"predicted\" : df[\"predicted\"][i],\n            }, ignore_index = True)\n\nif len(pd_df) > 0:\n    print(pd_df.to_string(index = False))\nelse:\n    print(\"Nothing to see here\")",
   "execution_count": null,
   "outputs": [
    {
     "name": "stdout",
     "text": "Nothing to see here\n",
     "output_type": "stream"
    }
   ]
  },
  {
   "cell_type": "code",
   "metadata": {
    "cell_id": "c59aec4ba77c4033b00cda93bbca6b7a",
    "tags": [],
    "deepnote_to_be_reexecuted": false,
    "source_hash": "2383c127",
    "execution_start": 1648835455794,
    "execution_millis": 1738,
    "deepnote_cell_type": "code",
    "deepnote_cell_height": 930,
    "deepnote_output_heights": [
     527
    ]
   },
   "source": "# https://plotly.com/python/splom/\n\nimport plotly.express as px\n\ndf = px.data.iris()\n\nfig = px.scatter_matrix(\n    df,\n    dimensions = [\"sepal_width\", \"sepal_length\", \"petal_width\", \"petal_length\"],\n    color = \"species\",\n    symbol = \"species\",\n    title = \"Scatter matrix of Iris data set\",\n    labels = {col:col.replace('_', ' ') for col in df.columns}\n)\n\nfig.update_traces(diagonal_visible = False)\n\nfig.show()",
   "execution_count": null,
   "outputs": [
    {
     "data": {
      "text/html": "<html>\n<head><meta charset=\"utf-8\" /></head>\n<body>\n    <div>            <script src=\"https://cdnjs.cloudflare.com/ajax/libs/mathjax/2.7.5/MathJax.js?config=TeX-AMS-MML_SVG\"></script><script type=\"text/javascript\">if (window.MathJax) {MathJax.Hub.Config({SVG: {font: \"STIX-Web\"}});}</script>                <script type=\"text/javascript\">window.PlotlyConfig = {MathJaxConfig: 'local'};</script>\n        <script src=\"https://cdn.plot.ly/plotly-2.9.0.min.js\"></script>                <div id=\"a3051f74-3e8d-4ca2-9660-0663caf5a8d4\" class=\"plotly-graph-div\" style=\"height:525px; width:100%;\"></div>            <script type=\"text/javascript\">                                    window.PLOTLYENV=window.PLOTLYENV || {};                                    if (document.getElementById(\"a3051f74-3e8d-4ca2-9660-0663caf5a8d4\")) {                    Plotly.newPlot(                        \"a3051f74-3e8d-4ca2-9660-0663caf5a8d4\",                        [{\"dimensions\":[{\"axis\":{\"matches\":true},\"label\":\"sepal width\",\"values\":[3.5,3.0,3.2,3.1,3.6,3.9,3.4,3.4,2.9,3.1,3.7,3.4,3.0,3.0,4.0,4.4,3.9,3.5,3.8,3.8,3.4,3.7,3.6,3.3,3.4,3.0,3.4,3.5,3.4,3.2,3.1,3.4,4.1,4.2,3.1,3.2,3.5,3.1,3.0,3.4,3.5,2.3,3.2,3.5,3.8,3.0,3.8,3.2,3.7,3.3]},{\"axis\":{\"matches\":true},\"label\":\"sepal length\",\"values\":[5.1,4.9,4.7,4.6,5.0,5.4,4.6,5.0,4.4,4.9,5.4,4.8,4.8,4.3,5.8,5.7,5.4,5.1,5.7,5.1,5.4,5.1,4.6,5.1,4.8,5.0,5.0,5.2,5.2,4.7,4.8,5.4,5.2,5.5,4.9,5.0,5.5,4.9,4.4,5.1,5.0,4.5,4.4,5.0,5.1,4.8,5.1,4.6,5.3,5.0]},{\"axis\":{\"matches\":true},\"label\":\"petal width\",\"values\":[0.2,0.2,0.2,0.2,0.2,0.4,0.3,0.2,0.2,0.1,0.2,0.2,0.1,0.1,0.2,0.4,0.4,0.3,0.3,0.3,0.2,0.4,0.2,0.5,0.2,0.2,0.4,0.2,0.2,0.2,0.2,0.4,0.1,0.2,0.1,0.2,0.2,0.1,0.2,0.2,0.3,0.3,0.2,0.6,0.4,0.3,0.2,0.2,0.2,0.2]},{\"axis\":{\"matches\":true},\"label\":\"petal length\",\"values\":[1.4,1.4,1.3,1.5,1.4,1.7,1.4,1.5,1.4,1.5,1.5,1.6,1.4,1.1,1.2,1.5,1.3,1.4,1.7,1.5,1.7,1.5,1.0,1.7,1.9,1.6,1.6,1.5,1.4,1.6,1.6,1.5,1.5,1.4,1.5,1.2,1.3,1.5,1.3,1.5,1.3,1.3,1.3,1.6,1.9,1.4,1.6,1.4,1.5,1.4]}],\"hovertemplate\":\"species=setosa<br>%{xaxis.title.text}=%{x}<br>%{yaxis.title.text}=%{y}<extra></extra>\",\"legendgroup\":\"setosa\",\"marker\":{\"color\":\"#636efa\",\"symbol\":\"circle\"},\"name\":\"setosa\",\"showlegend\":true,\"type\":\"splom\",\"diagonal\":{\"visible\":false}},{\"dimensions\":[{\"axis\":{\"matches\":true},\"label\":\"sepal width\",\"values\":[3.2,3.2,3.1,2.3,2.8,2.8,3.3,2.4,2.9,2.7,2.0,3.0,2.2,2.9,2.9,3.1,3.0,2.7,2.2,2.5,3.2,2.8,2.5,2.8,2.9,3.0,2.8,3.0,2.9,2.6,2.4,2.4,2.7,2.7,3.0,3.4,3.1,2.3,3.0,2.5,2.6,3.0,2.6,2.3,2.7,3.0,2.9,2.9,2.5,2.8]},{\"axis\":{\"matches\":true},\"label\":\"sepal length\",\"values\":[7.0,6.4,6.9,5.5,6.5,5.7,6.3,4.9,6.6,5.2,5.0,5.9,6.0,6.1,5.6,6.7,5.6,5.8,6.2,5.6,5.9,6.1,6.3,6.1,6.4,6.6,6.8,6.7,6.0,5.7,5.5,5.5,5.8,6.0,5.4,6.0,6.7,6.3,5.6,5.5,5.5,6.1,5.8,5.0,5.6,5.7,5.7,6.2,5.1,5.7]},{\"axis\":{\"matches\":true},\"label\":\"petal width\",\"values\":[1.4,1.5,1.5,1.3,1.5,1.3,1.6,1.0,1.3,1.4,1.0,1.5,1.0,1.4,1.3,1.4,1.5,1.0,1.5,1.1,1.8,1.3,1.5,1.2,1.3,1.4,1.4,1.7,1.5,1.0,1.1,1.0,1.2,1.6,1.5,1.6,1.5,1.3,1.3,1.3,1.2,1.4,1.2,1.0,1.3,1.2,1.3,1.3,1.1,1.3]},{\"axis\":{\"matches\":true},\"label\":\"petal length\",\"values\":[4.7,4.5,4.9,4.0,4.6,4.5,4.7,3.3,4.6,3.9,3.5,4.2,4.0,4.7,3.6,4.4,4.5,4.1,4.5,3.9,4.8,4.0,4.9,4.7,4.3,4.4,4.8,5.0,4.5,3.5,3.8,3.7,3.9,5.1,4.5,4.5,4.7,4.4,4.1,4.0,4.4,4.6,4.0,3.3,4.2,4.2,4.2,4.3,3.0,4.1]}],\"hovertemplate\":\"species=versicolor<br>%{xaxis.title.text}=%{x}<br>%{yaxis.title.text}=%{y}<extra></extra>\",\"legendgroup\":\"versicolor\",\"marker\":{\"color\":\"#EF553B\",\"symbol\":\"diamond\"},\"name\":\"versicolor\",\"showlegend\":true,\"type\":\"splom\",\"diagonal\":{\"visible\":false}},{\"dimensions\":[{\"axis\":{\"matches\":true},\"label\":\"sepal width\",\"values\":[3.3,2.7,3.0,2.9,3.0,3.0,2.5,2.9,2.5,3.6,3.2,2.7,3.0,2.5,2.8,3.2,3.0,3.8,2.6,2.2,3.2,2.8,2.8,2.7,3.3,3.2,2.8,3.0,2.8,3.0,2.8,3.8,2.8,2.8,2.6,3.0,3.4,3.1,3.0,3.1,3.1,3.1,2.7,3.2,3.3,3.0,2.5,3.0,3.4,3.0]},{\"axis\":{\"matches\":true},\"label\":\"sepal length\",\"values\":[6.3,5.8,7.1,6.3,6.5,7.6,4.9,7.3,6.7,7.2,6.5,6.4,6.8,5.7,5.8,6.4,6.5,7.7,7.7,6.0,6.9,5.6,7.7,6.3,6.7,7.2,6.2,6.1,6.4,7.2,7.4,7.9,6.4,6.3,6.1,7.7,6.3,6.4,6.0,6.9,6.7,6.9,5.8,6.8,6.7,6.7,6.3,6.5,6.2,5.9]},{\"axis\":{\"matches\":true},\"label\":\"petal width\",\"values\":[2.5,1.9,2.1,1.8,2.2,2.1,1.7,1.8,1.8,2.5,2.0,1.9,2.1,2.0,2.4,2.3,1.8,2.2,2.3,1.5,2.3,2.0,2.0,1.8,2.1,1.8,1.8,1.8,2.1,1.6,1.9,2.0,2.2,1.5,1.4,2.3,2.4,1.8,1.8,2.1,2.4,2.3,1.9,2.3,2.5,2.3,1.9,2.0,2.3,1.8]},{\"axis\":{\"matches\":true},\"label\":\"petal length\",\"values\":[6.0,5.1,5.9,5.6,5.8,6.6,4.5,6.3,5.8,6.1,5.1,5.3,5.5,5.0,5.1,5.3,5.5,6.7,6.9,5.0,5.7,4.9,6.7,4.9,5.7,6.0,4.8,4.9,5.6,5.8,6.1,6.4,5.6,5.1,5.6,6.1,5.6,5.5,4.8,5.4,5.6,5.1,5.1,5.9,5.7,5.2,5.0,5.2,5.4,5.1]}],\"hovertemplate\":\"species=virginica<br>%{xaxis.title.text}=%{x}<br>%{yaxis.title.text}=%{y}<extra></extra>\",\"legendgroup\":\"virginica\",\"marker\":{\"color\":\"#00cc96\",\"symbol\":\"square\"},\"name\":\"virginica\",\"showlegend\":true,\"type\":\"splom\",\"diagonal\":{\"visible\":false}}],                        {\"template\":{\"data\":{\"bar\":[{\"error_x\":{\"color\":\"#2a3f5f\"},\"error_y\":{\"color\":\"#2a3f5f\"},\"marker\":{\"line\":{\"color\":\"#E5ECF6\",\"width\":0.5},\"pattern\":{\"fillmode\":\"overlay\",\"size\":10,\"solidity\":0.2}},\"type\":\"bar\"}],\"barpolar\":[{\"marker\":{\"line\":{\"color\":\"#E5ECF6\",\"width\":0.5},\"pattern\":{\"fillmode\":\"overlay\",\"size\":10,\"solidity\":0.2}},\"type\":\"barpolar\"}],\"carpet\":[{\"aaxis\":{\"endlinecolor\":\"#2a3f5f\",\"gridcolor\":\"white\",\"linecolor\":\"white\",\"minorgridcolor\":\"white\",\"startlinecolor\":\"#2a3f5f\"},\"baxis\":{\"endlinecolor\":\"#2a3f5f\",\"gridcolor\":\"white\",\"linecolor\":\"white\",\"minorgridcolor\":\"white\",\"startlinecolor\":\"#2a3f5f\"},\"type\":\"carpet\"}],\"choropleth\":[{\"colorbar\":{\"outlinewidth\":0,\"ticks\":\"\"},\"type\":\"choropleth\"}],\"contour\":[{\"colorbar\":{\"outlinewidth\":0,\"ticks\":\"\"},\"colorscale\":[[0.0,\"#0d0887\"],[0.1111111111111111,\"#46039f\"],[0.2222222222222222,\"#7201a8\"],[0.3333333333333333,\"#9c179e\"],[0.4444444444444444,\"#bd3786\"],[0.5555555555555556,\"#d8576b\"],[0.6666666666666666,\"#ed7953\"],[0.7777777777777778,\"#fb9f3a\"],[0.8888888888888888,\"#fdca26\"],[1.0,\"#f0f921\"]],\"type\":\"contour\"}],\"contourcarpet\":[{\"colorbar\":{\"outlinewidth\":0,\"ticks\":\"\"},\"type\":\"contourcarpet\"}],\"heatmap\":[{\"colorbar\":{\"outlinewidth\":0,\"ticks\":\"\"},\"colorscale\":[[0.0,\"#0d0887\"],[0.1111111111111111,\"#46039f\"],[0.2222222222222222,\"#7201a8\"],[0.3333333333333333,\"#9c179e\"],[0.4444444444444444,\"#bd3786\"],[0.5555555555555556,\"#d8576b\"],[0.6666666666666666,\"#ed7953\"],[0.7777777777777778,\"#fb9f3a\"],[0.8888888888888888,\"#fdca26\"],[1.0,\"#f0f921\"]],\"type\":\"heatmap\"}],\"heatmapgl\":[{\"colorbar\":{\"outlinewidth\":0,\"ticks\":\"\"},\"colorscale\":[[0.0,\"#0d0887\"],[0.1111111111111111,\"#46039f\"],[0.2222222222222222,\"#7201a8\"],[0.3333333333333333,\"#9c179e\"],[0.4444444444444444,\"#bd3786\"],[0.5555555555555556,\"#d8576b\"],[0.6666666666666666,\"#ed7953\"],[0.7777777777777778,\"#fb9f3a\"],[0.8888888888888888,\"#fdca26\"],[1.0,\"#f0f921\"]],\"type\":\"heatmapgl\"}],\"histogram\":[{\"marker\":{\"pattern\":{\"fillmode\":\"overlay\",\"size\":10,\"solidity\":0.2}},\"type\":\"histogram\"}],\"histogram2d\":[{\"colorbar\":{\"outlinewidth\":0,\"ticks\":\"\"},\"colorscale\":[[0.0,\"#0d0887\"],[0.1111111111111111,\"#46039f\"],[0.2222222222222222,\"#7201a8\"],[0.3333333333333333,\"#9c179e\"],[0.4444444444444444,\"#bd3786\"],[0.5555555555555556,\"#d8576b\"],[0.6666666666666666,\"#ed7953\"],[0.7777777777777778,\"#fb9f3a\"],[0.8888888888888888,\"#fdca26\"],[1.0,\"#f0f921\"]],\"type\":\"histogram2d\"}],\"histogram2dcontour\":[{\"colorbar\":{\"outlinewidth\":0,\"ticks\":\"\"},\"colorscale\":[[0.0,\"#0d0887\"],[0.1111111111111111,\"#46039f\"],[0.2222222222222222,\"#7201a8\"],[0.3333333333333333,\"#9c179e\"],[0.4444444444444444,\"#bd3786\"],[0.5555555555555556,\"#d8576b\"],[0.6666666666666666,\"#ed7953\"],[0.7777777777777778,\"#fb9f3a\"],[0.8888888888888888,\"#fdca26\"],[1.0,\"#f0f921\"]],\"type\":\"histogram2dcontour\"}],\"mesh3d\":[{\"colorbar\":{\"outlinewidth\":0,\"ticks\":\"\"},\"type\":\"mesh3d\"}],\"parcoords\":[{\"line\":{\"colorbar\":{\"outlinewidth\":0,\"ticks\":\"\"}},\"type\":\"parcoords\"}],\"pie\":[{\"automargin\":true,\"type\":\"pie\"}],\"scatter\":[{\"marker\":{\"colorbar\":{\"outlinewidth\":0,\"ticks\":\"\"}},\"type\":\"scatter\"}],\"scatter3d\":[{\"line\":{\"colorbar\":{\"outlinewidth\":0,\"ticks\":\"\"}},\"marker\":{\"colorbar\":{\"outlinewidth\":0,\"ticks\":\"\"}},\"type\":\"scatter3d\"}],\"scattercarpet\":[{\"marker\":{\"colorbar\":{\"outlinewidth\":0,\"ticks\":\"\"}},\"type\":\"scattercarpet\"}],\"scattergeo\":[{\"marker\":{\"colorbar\":{\"outlinewidth\":0,\"ticks\":\"\"}},\"type\":\"scattergeo\"}],\"scattergl\":[{\"marker\":{\"colorbar\":{\"outlinewidth\":0,\"ticks\":\"\"}},\"type\":\"scattergl\"}],\"scattermapbox\":[{\"marker\":{\"colorbar\":{\"outlinewidth\":0,\"ticks\":\"\"}},\"type\":\"scattermapbox\"}],\"scatterpolar\":[{\"marker\":{\"colorbar\":{\"outlinewidth\":0,\"ticks\":\"\"}},\"type\":\"scatterpolar\"}],\"scatterpolargl\":[{\"marker\":{\"colorbar\":{\"outlinewidth\":0,\"ticks\":\"\"}},\"type\":\"scatterpolargl\"}],\"scatterternary\":[{\"marker\":{\"colorbar\":{\"outlinewidth\":0,\"ticks\":\"\"}},\"type\":\"scatterternary\"}],\"surface\":[{\"colorbar\":{\"outlinewidth\":0,\"ticks\":\"\"},\"colorscale\":[[0.0,\"#0d0887\"],[0.1111111111111111,\"#46039f\"],[0.2222222222222222,\"#7201a8\"],[0.3333333333333333,\"#9c179e\"],[0.4444444444444444,\"#bd3786\"],[0.5555555555555556,\"#d8576b\"],[0.6666666666666666,\"#ed7953\"],[0.7777777777777778,\"#fb9f3a\"],[0.8888888888888888,\"#fdca26\"],[1.0,\"#f0f921\"]],\"type\":\"surface\"}],\"table\":[{\"cells\":{\"fill\":{\"color\":\"#EBF0F8\"},\"line\":{\"color\":\"white\"}},\"header\":{\"fill\":{\"color\":\"#C8D4E3\"},\"line\":{\"color\":\"white\"}},\"type\":\"table\"}]},\"layout\":{\"annotationdefaults\":{\"arrowcolor\":\"#2a3f5f\",\"arrowhead\":0,\"arrowwidth\":1},\"autotypenumbers\":\"strict\",\"coloraxis\":{\"colorbar\":{\"outlinewidth\":0,\"ticks\":\"\"}},\"colorscale\":{\"diverging\":[[0,\"#8e0152\"],[0.1,\"#c51b7d\"],[0.2,\"#de77ae\"],[0.3,\"#f1b6da\"],[0.4,\"#fde0ef\"],[0.5,\"#f7f7f7\"],[0.6,\"#e6f5d0\"],[0.7,\"#b8e186\"],[0.8,\"#7fbc41\"],[0.9,\"#4d9221\"],[1,\"#276419\"]],\"sequential\":[[0.0,\"#0d0887\"],[0.1111111111111111,\"#46039f\"],[0.2222222222222222,\"#7201a8\"],[0.3333333333333333,\"#9c179e\"],[0.4444444444444444,\"#bd3786\"],[0.5555555555555556,\"#d8576b\"],[0.6666666666666666,\"#ed7953\"],[0.7777777777777778,\"#fb9f3a\"],[0.8888888888888888,\"#fdca26\"],[1.0,\"#f0f921\"]],\"sequentialminus\":[[0.0,\"#0d0887\"],[0.1111111111111111,\"#46039f\"],[0.2222222222222222,\"#7201a8\"],[0.3333333333333333,\"#9c179e\"],[0.4444444444444444,\"#bd3786\"],[0.5555555555555556,\"#d8576b\"],[0.6666666666666666,\"#ed7953\"],[0.7777777777777778,\"#fb9f3a\"],[0.8888888888888888,\"#fdca26\"],[1.0,\"#f0f921\"]]},\"colorway\":[\"#636efa\",\"#EF553B\",\"#00cc96\",\"#ab63fa\",\"#FFA15A\",\"#19d3f3\",\"#FF6692\",\"#B6E880\",\"#FF97FF\",\"#FECB52\"],\"font\":{\"color\":\"#2a3f5f\"},\"geo\":{\"bgcolor\":\"white\",\"lakecolor\":\"white\",\"landcolor\":\"#E5ECF6\",\"showlakes\":true,\"showland\":true,\"subunitcolor\":\"white\"},\"hoverlabel\":{\"align\":\"left\"},\"hovermode\":\"closest\",\"mapbox\":{\"style\":\"light\"},\"paper_bgcolor\":\"white\",\"plot_bgcolor\":\"#E5ECF6\",\"polar\":{\"angularaxis\":{\"gridcolor\":\"white\",\"linecolor\":\"white\",\"ticks\":\"\"},\"bgcolor\":\"#E5ECF6\",\"radialaxis\":{\"gridcolor\":\"white\",\"linecolor\":\"white\",\"ticks\":\"\"}},\"scene\":{\"xaxis\":{\"backgroundcolor\":\"#E5ECF6\",\"gridcolor\":\"white\",\"gridwidth\":2,\"linecolor\":\"white\",\"showbackground\":true,\"ticks\":\"\",\"zerolinecolor\":\"white\"},\"yaxis\":{\"backgroundcolor\":\"#E5ECF6\",\"gridcolor\":\"white\",\"gridwidth\":2,\"linecolor\":\"white\",\"showbackground\":true,\"ticks\":\"\",\"zerolinecolor\":\"white\"},\"zaxis\":{\"backgroundcolor\":\"#E5ECF6\",\"gridcolor\":\"white\",\"gridwidth\":2,\"linecolor\":\"white\",\"showbackground\":true,\"ticks\":\"\",\"zerolinecolor\":\"white\"}},\"shapedefaults\":{\"line\":{\"color\":\"#2a3f5f\"}},\"ternary\":{\"aaxis\":{\"gridcolor\":\"white\",\"linecolor\":\"white\",\"ticks\":\"\"},\"baxis\":{\"gridcolor\":\"white\",\"linecolor\":\"white\",\"ticks\":\"\"},\"bgcolor\":\"#E5ECF6\",\"caxis\":{\"gridcolor\":\"white\",\"linecolor\":\"white\",\"ticks\":\"\"}},\"title\":{\"x\":0.05},\"xaxis\":{\"automargin\":true,\"gridcolor\":\"white\",\"linecolor\":\"white\",\"ticks\":\"\",\"title\":{\"standoff\":15},\"zerolinecolor\":\"white\",\"zerolinewidth\":2},\"yaxis\":{\"automargin\":true,\"gridcolor\":\"white\",\"linecolor\":\"white\",\"ticks\":\"\",\"title\":{\"standoff\":15},\"zerolinecolor\":\"white\",\"zerolinewidth\":2}}},\"legend\":{\"title\":{\"text\":\"species\"},\"tracegroupgap\":0},\"title\":{\"text\":\"Scatter matrix of Iris data set\"},\"dragmode\":\"select\"},                        {\"responsive\": true}                    ).then(function(){\n                            \nvar gd = document.getElementById('a3051f74-3e8d-4ca2-9660-0663caf5a8d4');\nvar x = new MutationObserver(function (mutations, observer) {{\n        var display = window.getComputedStyle(gd).display;\n        if (!display || display === 'none') {{\n            console.log([gd, 'removed!']);\n            Plotly.purge(gd);\n            observer.disconnect();\n        }}\n}});\n\n// Listen for the removal of the full notebook cells\nvar notebookContainer = gd.closest('#notebook-container');\nif (notebookContainer) {{\n    x.observe(notebookContainer, {childList: true});\n}}\n\n// Listen for the clearing of the current output cell\nvar outputEl = gd.closest('.output');\nif (outputEl) {{\n    x.observe(outputEl, {childList: true});\n}}\n\n                        })                };                            </script>        </div>\n</body>\n</html>"
     },
     "metadata": {},
     "output_type": "display_data"
    }
   ]
  },
  {
   "cell_type": "markdown",
   "source": "<a style='text-decoration:none;line-height:16px;display:flex;color:#5B5B62;padding:10px;justify-content:end;' href='https://deepnote.com?utm_source=created-in-deepnote-cell&projectId=cb7115dd-c9bc-4e30-9187-d054c7894e17' target=\"_blank\">\n<img alt='Created in deepnote.com' style='display:inline;max-height:16px;margin:0px;margin-right:7.5px;' src='data:image/svg+xml;base64,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' > </img>\nCreated in <span style='font-weight:600;margin-left:4px;'>Deepnote</span></a>",
   "metadata": {
    "tags": [],
    "created_in_deepnote_cell": true,
    "deepnote_cell_type": "markdown"
   }
  }
 ],
 "nbformat": 4,
 "nbformat_minor": 2,
 "metadata": {
  "orig_nbformat": 2,
  "deepnote": {
   "is_reactive": false
  },
  "deepnote_notebook_id": "09cda691-996c-4d56-a4a4-30a85e095266",
  "deepnote_execution_queue": []
 }
}