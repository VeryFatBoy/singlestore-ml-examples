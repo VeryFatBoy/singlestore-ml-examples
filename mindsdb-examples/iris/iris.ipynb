{
 "cells": [
  {
   "cell_type": "code",
   "metadata": {
    "tags": [],
    "deepnote_variable_name": "df_1",
    "sql_integration_id": "d131030a-9c89-46f1-b2fc-2cdd79a461ca",
    "cell_id": "ac74dd5371ff4326a5a4d0ba925e68e1",
    "deepnote_to_be_reexecuted": false,
    "source_hash": "5a183859",
    "execution_start": 1648990894853,
    "execution_millis": 1663,
    "deepnote_sql_source": "DROP DATABASE IF EXISTS iris_db;",
    "deepnote_cell_type": "sql",
    "deepnote_cell_height": 120.953125
   },
   "source": "\n\ndf_1 = _deepnote_execute_sql(\"\"\"DROP DATABASE IF EXISTS iris_db;\n\"\"\", 'SQL_D131030A_9C89_46F1_B2FC_2CDD79A461CA')\ndf_1",
   "execution_count": null,
   "outputs": []
  },
  {
   "cell_type": "code",
   "metadata": {
    "tags": [],
    "deepnote_variable_name": "df_2",
    "sql_integration_id": "d131030a-9c89-46f1-b2fc-2cdd79a461ca",
    "cell_id": "fc4a809867904aa88b15e4887556fcfc",
    "deepnote_to_be_reexecuted": false,
    "source_hash": "d0adc044",
    "execution_start": 1648990899624,
    "execution_millis": 4482,
    "deepnote_sql_source": "CREATE DATABASE iris_db;",
    "deepnote_cell_type": "sql",
    "deepnote_cell_height": 120.953125
   },
   "source": "\n\ndf_2 = _deepnote_execute_sql(\"\"\"CREATE DATABASE iris_db;\n\"\"\", 'SQL_D131030A_9C89_46F1_B2FC_2CDD79A461CA')\ndf_2",
   "execution_count": null,
   "outputs": []
  },
  {
   "cell_type": "code",
   "metadata": {
    "tags": [],
    "deepnote_variable_name": "df_3",
    "sql_integration_id": "d131030a-9c89-46f1-b2fc-2cdd79a461ca",
    "cell_id": "e703b7bb41dd482ab3776e8341758383",
    "deepnote_to_be_reexecuted": false,
    "source_hash": "102536d2",
    "execution_start": 1648990905980,
    "execution_millis": 136,
    "deepnote_sql_source": "CREATE TABLE iris_db.iris (\n    sepal_length FLOAT,\n    sepal_width FLOAT,\n    petal_length FLOAT,\n    petal_width FLOAT,\n    species VARCHAR(20)\n);",
    "deepnote_cell_type": "sql",
    "deepnote_cell_height": 228.953125
   },
   "source": "\n\ndf_3 = _deepnote_execute_sql(\"\"\"CREATE TABLE iris_db.iris (\n    sepal_length FLOAT,\n    sepal_width FLOAT,\n    petal_length FLOAT,\n    petal_width FLOAT,\n    species VARCHAR(20)\n);\n\"\"\", 'SQL_D131030A_9C89_46F1_B2FC_2CDD79A461CA')\ndf_3",
   "execution_count": null,
   "outputs": []
  },
  {
   "cell_type": "code",
   "metadata": {
    "tags": [],
    "deepnote_variable_name": "df_4",
    "sql_integration_id": "d131030a-9c89-46f1-b2fc-2cdd79a461ca",
    "cell_id": "0b70629456494cfa9b815d0481990516",
    "deepnote_to_be_reexecuted": false,
    "source_hash": "6d9cb648",
    "execution_start": 1648990908343,
    "execution_millis": 133,
    "deepnote_sql_source": "INSERT INTO iris_db.iris VALUES\n(5.1,3.5,1.4,0.2,'Iris-setosa'),\n(4.9,3,1.4,0.2,'Iris-setosa'),\n(4.7,3.2,1.3,0.2,'Iris-setosa'),\n(4.6,3.1,1.5,0.2,'Iris-setosa'),\n(5,3.6,1.4,0.2,'Iris-setosa'),\n(5.4,3.9,1.7,0.4,'Iris-setosa'),\n(4.6,3.4,1.4,0.3,'Iris-setosa'),\n(5,3.4,1.5,0.2,'Iris-setosa'),\n(4.4,2.9,1.4,0.2,'Iris-setosa'),\n(4.9,3.1,1.5,0.1,'Iris-setosa'),\n(5.4,3.7,1.5,0.2,'Iris-setosa'),\n(4.8,3.4,1.6,0.2,'Iris-setosa'),\n(4.8,3,1.4,0.1,'Iris-setosa'),\n(4.3,3,1.1,0.1,'Iris-setosa'),\n(5.8,4,1.2,0.2,'Iris-setosa'),\n(5.7,4.4,1.5,0.4,'Iris-setosa'),\n(5.4,3.9,1.3,0.4,'Iris-setosa'),\n(5.1,3.5,1.4,0.3,'Iris-setosa'),\n(5.7,3.8,1.7,0.3,'Iris-setosa'),\n(5.1,3.8,1.5,0.3,'Iris-setosa'),\n(5.4,3.4,1.7,0.2,'Iris-setosa'),\n(5.1,3.7,1.5,0.4,'Iris-setosa'),\n(4.6,3.6,1,0.2,'Iris-setosa'),\n(5.1,3.3,1.7,0.5,'Iris-setosa'),\n(4.8,3.4,1.9,0.2,'Iris-setosa'),\n(5,3,1.6,0.2,'Iris-setosa'),\n(5,3.4,1.6,0.4,'Iris-setosa'),\n(5.2,3.5,1.5,0.2,'Iris-setosa'),\n(5.2,3.4,1.4,0.2,'Iris-setosa'),\n(4.7,3.2,1.6,0.2,'Iris-setosa'),\n(4.8,3.1,1.6,0.2,'Iris-setosa'),\n(5.4,3.4,1.5,0.4,'Iris-setosa'),\n(5.2,4.1,1.5,0.1,'Iris-setosa'),\n(5.5,4.2,1.4,0.2,'Iris-setosa'),\n(4.9,3.1,1.5,0.1,'Iris-setosa'),\n(5,3.2,1.2,0.2,'Iris-setosa'),\n(5.5,3.5,1.3,0.2,'Iris-setosa'),\n(4.9,3.1,1.5,0.1,'Iris-setosa'),\n(4.4,3,1.3,0.2,'Iris-setosa'),\n(5.1,3.4,1.5,0.2,'Iris-setosa'),\n(5,3.5,1.3,0.3,'Iris-setosa'),\n(4.5,2.3,1.3,0.3,'Iris-setosa'),\n(4.4,3.2,1.3,0.2,'Iris-setosa'),\n(5,3.5,1.6,0.6,'Iris-setosa'),\n(5.1,3.8,1.9,0.4,'Iris-setosa'),\n(4.8,3,1.4,0.3,'Iris-setosa'),\n(5.1,3.8,1.6,0.2,'Iris-setosa'),\n(4.6,3.2,1.4,0.2,'Iris-setosa'),\n(5.3,3.7,1.5,0.2,'Iris-setosa'),\n(5,3.3,1.4,0.2,'Iris-setosa'),\n(7,3.2,4.7,1.4,'Iris-versicolor'),\n(6.4,3.2,4.5,1.5,'Iris-versicolor'),\n(6.9,3.1,4.9,1.5,'Iris-versicolor'),\n(5.5,2.3,4,1.3,'Iris-versicolor'),\n(6.5,2.8,4.6,1.5,'Iris-versicolor'),\n(5.7,2.8,4.5,1.3,'Iris-versicolor'),\n(6.3,3.3,4.7,1.6,'Iris-versicolor'),\n(4.9,2.4,3.3,1,'Iris-versicolor'),\n(6.6,2.9,4.6,1.3,'Iris-versicolor'),\n(5.2,2.7,3.9,1.4,'Iris-versicolor'),\n(5,2,3.5,1,'Iris-versicolor'),\n(5.9,3,4.2,1.5,'Iris-versicolor'),\n(6,2.2,4,1,'Iris-versicolor'),\n(6.1,2.9,4.7,1.4,'Iris-versicolor'),\n(5.6,2.9,3.6,1.3,'Iris-versicolor'),\n(6.7,3.1,4.4,1.4,'Iris-versicolor'),\n(5.6,3,4.5,1.5,'Iris-versicolor'),\n(5.8,2.7,4.1,1,'Iris-versicolor'),\n(6.2,2.2,4.5,1.5,'Iris-versicolor'),\n(5.6,2.5,3.9,1.1,'Iris-versicolor'),\n(5.9,3.2,4.8,1.8,'Iris-versicolor'),\n(6.1,2.8,4,1.3,'Iris-versicolor'),\n(6.3,2.5,4.9,1.5,'Iris-versicolor'),\n(6.1,2.8,4.7,1.2,'Iris-versicolor'),\n(6.4,2.9,4.3,1.3,'Iris-versicolor'),\n(6.6,3,4.4,1.4,'Iris-versicolor'),\n(6.8,2.8,4.8,1.4,'Iris-versicolor'),\n(6.7,3,5,1.7,'Iris-versicolor'),\n(6,2.9,4.5,1.5,'Iris-versicolor'),\n(5.7,2.6,3.5,1,'Iris-versicolor'),\n(5.5,2.4,3.8,1.1,'Iris-versicolor'),\n(5.5,2.4,3.7,1,'Iris-versicolor'),\n(5.8,2.7,3.9,1.2,'Iris-versicolor'),\n(6,2.7,5.1,1.6,'Iris-versicolor'),\n(5.4,3,4.5,1.5,'Iris-versicolor'),\n(6,3.4,4.5,1.6,'Iris-versicolor'),\n(6.7,3.1,4.7,1.5,'Iris-versicolor'),\n(6.3,2.3,4.4,1.3,'Iris-versicolor'),\n(5.6,3,4.1,1.3,'Iris-versicolor'),\n(5.5,2.5,4,1.3,'Iris-versicolor'),\n(5.5,2.6,4.4,1.2,'Iris-versicolor'),\n(6.1,3,4.6,1.4,'Iris-versicolor'),\n(5.8,2.6,4,1.2,'Iris-versicolor'),\n(5,2.3,3.3,1,'Iris-versicolor'),\n(5.6,2.7,4.2,1.3,'Iris-versicolor'),\n(5.7,3,4.2,1.2,'Iris-versicolor'),\n(5.7,2.9,4.2,1.3,'Iris-versicolor'),\n(6.2,2.9,4.3,1.3,'Iris-versicolor'),\n(5.1,2.5,3,1.1,'Iris-versicolor'),\n(5.7,2.8,4.1,1.3,'Iris-versicolor'),\n(6.3,3.3,6,2.5,'Iris-virginica'),\n(5.8,2.7,5.1,1.9,'Iris-virginica'),\n(7.1,3,5.9,2.1,'Iris-virginica'),\n(6.3,2.9,5.6,1.8,'Iris-virginica'),\n(6.5,3,5.8,2.2,'Iris-virginica'),\n(7.6,3,6.6,2.1,'Iris-virginica'),\n(4.9,2.5,4.5,1.7,'Iris-virginica'),\n(7.3,2.9,6.3,1.8,'Iris-virginica'),\n(6.7,2.5,5.8,1.8,'Iris-virginica'),\n(7.2,3.6,6.1,2.5,'Iris-virginica'),\n(6.5,3.2,5.1,2,'Iris-virginica'),\n(6.4,2.7,5.3,1.9,'Iris-virginica'),\n(6.8,3,5.5,2.1,'Iris-virginica'),\n(5.7,2.5,5,2,'Iris-virginica'),\n(5.8,2.8,5.1,2.4,'Iris-virginica'),\n(6.4,3.2,5.3,2.3,'Iris-virginica'),\n(6.5,3,5.5,1.8,'Iris-virginica'),\n(7.7,3.8,6.7,2.2,'Iris-virginica'),\n(7.7,2.6,6.9,2.3,'Iris-virginica'),\n(6,2.2,5,1.5,'Iris-virginica'),\n(6.9,3.2,5.7,2.3,'Iris-virginica'),\n(5.6,2.8,4.9,2,'Iris-virginica'),\n(7.7,2.8,6.7,2,'Iris-virginica'),\n(6.3,2.7,4.9,1.8,'Iris-virginica'),\n(6.7,3.3,5.7,2.1,'Iris-virginica'),\n(7.2,3.2,6,1.8,'Iris-virginica'),\n(6.2,2.8,4.8,1.8,'Iris-virginica'),\n(6.1,3,4.9,1.8,'Iris-virginica'),\n(6.4,2.8,5.6,2.1,'Iris-virginica'),\n(7.2,3,5.8,1.6,'Iris-virginica'),\n(7.4,2.8,6.1,1.9,'Iris-virginica'),\n(7.9,3.8,6.4,2,'Iris-virginica'),\n(6.4,2.8,5.6,2.2,'Iris-virginica'),\n(6.3,2.8,5.1,1.5,'Iris-virginica'),\n(6.1,2.6,5.6,1.4,'Iris-virginica'),\n(7.7,3,6.1,2.3,'Iris-virginica'),\n(6.3,3.4,5.6,2.4,'Iris-virginica'),\n(6.4,3.1,5.5,1.8,'Iris-virginica'),\n(6,3,4.8,1.8,'Iris-virginica'),\n(6.9,3.1,5.4,2.1,'Iris-virginica'),\n(6.7,3.1,5.6,2.4,'Iris-virginica'),\n(6.9,3.1,5.1,2.3,'Iris-virginica'),\n(5.8,2.7,5.1,1.9,'Iris-virginica'),\n(6.8,3.2,5.9,2.3,'Iris-virginica'),\n(6.7,3.3,5.7,2.5,'Iris-virginica'),\n(6.7,3,5.2,2.3,'Iris-virginica'),\n(6.3,2.5,5,1.9,'Iris-virginica'),\n(6.5,3,5.2,2,'Iris-virginica'),\n(6.2,3.4,5.4,2.3,'Iris-virginica'),\n(5.9,3,5.1,1.8,'Iris-virginica');",
    "deepnote_cell_type": "sql",
    "deepnote_cell_height": 2820.953125
   },
   "source": "\n\ndf_4 = _deepnote_execute_sql(\"\"\"INSERT INTO iris_db.iris VALUES\n(5.1,3.5,1.4,0.2,'Iris-setosa'),\n(4.9,3,1.4,0.2,'Iris-setosa'),\n(4.7,3.2,1.3,0.2,'Iris-setosa'),\n(4.6,3.1,1.5,0.2,'Iris-setosa'),\n(5,3.6,1.4,0.2,'Iris-setosa'),\n(5.4,3.9,1.7,0.4,'Iris-setosa'),\n(4.6,3.4,1.4,0.3,'Iris-setosa'),\n(5,3.4,1.5,0.2,'Iris-setosa'),\n(4.4,2.9,1.4,0.2,'Iris-setosa'),\n(4.9,3.1,1.5,0.1,'Iris-setosa'),\n(5.4,3.7,1.5,0.2,'Iris-setosa'),\n(4.8,3.4,1.6,0.2,'Iris-setosa'),\n(4.8,3,1.4,0.1,'Iris-setosa'),\n(4.3,3,1.1,0.1,'Iris-setosa'),\n(5.8,4,1.2,0.2,'Iris-setosa'),\n(5.7,4.4,1.5,0.4,'Iris-setosa'),\n(5.4,3.9,1.3,0.4,'Iris-setosa'),\n(5.1,3.5,1.4,0.3,'Iris-setosa'),\n(5.7,3.8,1.7,0.3,'Iris-setosa'),\n(5.1,3.8,1.5,0.3,'Iris-setosa'),\n(5.4,3.4,1.7,0.2,'Iris-setosa'),\n(5.1,3.7,1.5,0.4,'Iris-setosa'),\n(4.6,3.6,1,0.2,'Iris-setosa'),\n(5.1,3.3,1.7,0.5,'Iris-setosa'),\n(4.8,3.4,1.9,0.2,'Iris-setosa'),\n(5,3,1.6,0.2,'Iris-setosa'),\n(5,3.4,1.6,0.4,'Iris-setosa'),\n(5.2,3.5,1.5,0.2,'Iris-setosa'),\n(5.2,3.4,1.4,0.2,'Iris-setosa'),\n(4.7,3.2,1.6,0.2,'Iris-setosa'),\n(4.8,3.1,1.6,0.2,'Iris-setosa'),\n(5.4,3.4,1.5,0.4,'Iris-setosa'),\n(5.2,4.1,1.5,0.1,'Iris-setosa'),\n(5.5,4.2,1.4,0.2,'Iris-setosa'),\n(4.9,3.1,1.5,0.1,'Iris-setosa'),\n(5,3.2,1.2,0.2,'Iris-setosa'),\n(5.5,3.5,1.3,0.2,'Iris-setosa'),\n(4.9,3.1,1.5,0.1,'Iris-setosa'),\n(4.4,3,1.3,0.2,'Iris-setosa'),\n(5.1,3.4,1.5,0.2,'Iris-setosa'),\n(5,3.5,1.3,0.3,'Iris-setosa'),\n(4.5,2.3,1.3,0.3,'Iris-setosa'),\n(4.4,3.2,1.3,0.2,'Iris-setosa'),\n(5,3.5,1.6,0.6,'Iris-setosa'),\n(5.1,3.8,1.9,0.4,'Iris-setosa'),\n(4.8,3,1.4,0.3,'Iris-setosa'),\n(5.1,3.8,1.6,0.2,'Iris-setosa'),\n(4.6,3.2,1.4,0.2,'Iris-setosa'),\n(5.3,3.7,1.5,0.2,'Iris-setosa'),\n(5,3.3,1.4,0.2,'Iris-setosa'),\n(7,3.2,4.7,1.4,'Iris-versicolor'),\n(6.4,3.2,4.5,1.5,'Iris-versicolor'),\n(6.9,3.1,4.9,1.5,'Iris-versicolor'),\n(5.5,2.3,4,1.3,'Iris-versicolor'),\n(6.5,2.8,4.6,1.5,'Iris-versicolor'),\n(5.7,2.8,4.5,1.3,'Iris-versicolor'),\n(6.3,3.3,4.7,1.6,'Iris-versicolor'),\n(4.9,2.4,3.3,1,'Iris-versicolor'),\n(6.6,2.9,4.6,1.3,'Iris-versicolor'),\n(5.2,2.7,3.9,1.4,'Iris-versicolor'),\n(5,2,3.5,1,'Iris-versicolor'),\n(5.9,3,4.2,1.5,'Iris-versicolor'),\n(6,2.2,4,1,'Iris-versicolor'),\n(6.1,2.9,4.7,1.4,'Iris-versicolor'),\n(5.6,2.9,3.6,1.3,'Iris-versicolor'),\n(6.7,3.1,4.4,1.4,'Iris-versicolor'),\n(5.6,3,4.5,1.5,'Iris-versicolor'),\n(5.8,2.7,4.1,1,'Iris-versicolor'),\n(6.2,2.2,4.5,1.5,'Iris-versicolor'),\n(5.6,2.5,3.9,1.1,'Iris-versicolor'),\n(5.9,3.2,4.8,1.8,'Iris-versicolor'),\n(6.1,2.8,4,1.3,'Iris-versicolor'),\n(6.3,2.5,4.9,1.5,'Iris-versicolor'),\n(6.1,2.8,4.7,1.2,'Iris-versicolor'),\n(6.4,2.9,4.3,1.3,'Iris-versicolor'),\n(6.6,3,4.4,1.4,'Iris-versicolor'),\n(6.8,2.8,4.8,1.4,'Iris-versicolor'),\n(6.7,3,5,1.7,'Iris-versicolor'),\n(6,2.9,4.5,1.5,'Iris-versicolor'),\n(5.7,2.6,3.5,1,'Iris-versicolor'),\n(5.5,2.4,3.8,1.1,'Iris-versicolor'),\n(5.5,2.4,3.7,1,'Iris-versicolor'),\n(5.8,2.7,3.9,1.2,'Iris-versicolor'),\n(6,2.7,5.1,1.6,'Iris-versicolor'),\n(5.4,3,4.5,1.5,'Iris-versicolor'),\n(6,3.4,4.5,1.6,'Iris-versicolor'),\n(6.7,3.1,4.7,1.5,'Iris-versicolor'),\n(6.3,2.3,4.4,1.3,'Iris-versicolor'),\n(5.6,3,4.1,1.3,'Iris-versicolor'),\n(5.5,2.5,4,1.3,'Iris-versicolor'),\n(5.5,2.6,4.4,1.2,'Iris-versicolor'),\n(6.1,3,4.6,1.4,'Iris-versicolor'),\n(5.8,2.6,4,1.2,'Iris-versicolor'),\n(5,2.3,3.3,1,'Iris-versicolor'),\n(5.6,2.7,4.2,1.3,'Iris-versicolor'),\n(5.7,3,4.2,1.2,'Iris-versicolor'),\n(5.7,2.9,4.2,1.3,'Iris-versicolor'),\n(6.2,2.9,4.3,1.3,'Iris-versicolor'),\n(5.1,2.5,3,1.1,'Iris-versicolor'),\n(5.7,2.8,4.1,1.3,'Iris-versicolor'),\n(6.3,3.3,6,2.5,'Iris-virginica'),\n(5.8,2.7,5.1,1.9,'Iris-virginica'),\n(7.1,3,5.9,2.1,'Iris-virginica'),\n(6.3,2.9,5.6,1.8,'Iris-virginica'),\n(6.5,3,5.8,2.2,'Iris-virginica'),\n(7.6,3,6.6,2.1,'Iris-virginica'),\n(4.9,2.5,4.5,1.7,'Iris-virginica'),\n(7.3,2.9,6.3,1.8,'Iris-virginica'),\n(6.7,2.5,5.8,1.8,'Iris-virginica'),\n(7.2,3.6,6.1,2.5,'Iris-virginica'),\n(6.5,3.2,5.1,2,'Iris-virginica'),\n(6.4,2.7,5.3,1.9,'Iris-virginica'),\n(6.8,3,5.5,2.1,'Iris-virginica'),\n(5.7,2.5,5,2,'Iris-virginica'),\n(5.8,2.8,5.1,2.4,'Iris-virginica'),\n(6.4,3.2,5.3,2.3,'Iris-virginica'),\n(6.5,3,5.5,1.8,'Iris-virginica'),\n(7.7,3.8,6.7,2.2,'Iris-virginica'),\n(7.7,2.6,6.9,2.3,'Iris-virginica'),\n(6,2.2,5,1.5,'Iris-virginica'),\n(6.9,3.2,5.7,2.3,'Iris-virginica'),\n(5.6,2.8,4.9,2,'Iris-virginica'),\n(7.7,2.8,6.7,2,'Iris-virginica'),\n(6.3,2.7,4.9,1.8,'Iris-virginica'),\n(6.7,3.3,5.7,2.1,'Iris-virginica'),\n(7.2,3.2,6,1.8,'Iris-virginica'),\n(6.2,2.8,4.8,1.8,'Iris-virginica'),\n(6.1,3,4.9,1.8,'Iris-virginica'),\n(6.4,2.8,5.6,2.1,'Iris-virginica'),\n(7.2,3,5.8,1.6,'Iris-virginica'),\n(7.4,2.8,6.1,1.9,'Iris-virginica'),\n(7.9,3.8,6.4,2,'Iris-virginica'),\n(6.4,2.8,5.6,2.2,'Iris-virginica'),\n(6.3,2.8,5.1,1.5,'Iris-virginica'),\n(6.1,2.6,5.6,1.4,'Iris-virginica'),\n(7.7,3,6.1,2.3,'Iris-virginica'),\n(6.3,3.4,5.6,2.4,'Iris-virginica'),\n(6.4,3.1,5.5,1.8,'Iris-virginica'),\n(6,3,4.8,1.8,'Iris-virginica'),\n(6.9,3.1,5.4,2.1,'Iris-virginica'),\n(6.7,3.1,5.6,2.4,'Iris-virginica'),\n(6.9,3.1,5.1,2.3,'Iris-virginica'),\n(5.8,2.7,5.1,1.9,'Iris-virginica'),\n(6.8,3.2,5.9,2.3,'Iris-virginica'),\n(6.7,3.3,5.7,2.5,'Iris-virginica'),\n(6.7,3,5.2,2.3,'Iris-virginica'),\n(6.3,2.5,5,1.9,'Iris-virginica'),\n(6.5,3,5.2,2,'Iris-virginica'),\n(6.2,3.4,5.4,2.3,'Iris-virginica'),\n(5.9,3,5.1,1.8,'Iris-virginica');\n\"\"\", 'SQL_D131030A_9C89_46F1_B2FC_2CDD79A461CA')\ndf_4",
   "execution_count": null,
   "outputs": []
  },
  {
   "cell_type": "code",
   "metadata": {
    "tags": [],
    "deepnote_variable_name": "df_5",
    "sql_integration_id": "d131030a-9c89-46f1-b2fc-2cdd79a461ca",
    "cell_id": "0533d56d20e440aaa5831a9756e2c93c",
    "deepnote_to_be_reexecuted": false,
    "source_hash": "cb6022a1",
    "execution_start": 1648990910768,
    "execution_millis": 157,
    "deepnote_sql_source": "SELECT *\nFROM iris_db.iris\nLIMIT 5;",
    "output_cleared": true,
    "deepnote_cell_type": "sql",
    "deepnote_cell_height": 156.953125
   },
   "source": "\n\ndf_5 = _deepnote_execute_sql(\"\"\"SELECT *\nFROM iris_db.iris\nLIMIT 5;\n\"\"\", 'SQL_D131030A_9C89_46F1_B2FC_2CDD79A461CA')\ndf_5",
   "execution_count": null,
   "outputs": []
  },
  {
   "cell_type": "code",
   "metadata": {
    "tags": [],
    "deepnote_variable_name": "df_6",
    "sql_integration_id": "4a3995e6-e6c8-4cf8-aa3b-e89c56745f8f",
    "cell_id": "9d1f7b62193448cb897fc151703f90e4",
    "deepnote_to_be_reexecuted": false,
    "source_hash": "519b990c",
    "execution_start": 1648990913968,
    "execution_millis": 1861,
    "deepnote_sql_source": "DROP DATASOURCE iris_db;",
    "deepnote_cell_type": "sql",
    "deepnote_cell_height": 120.953125
   },
   "source": "\n\ndf_6 = _deepnote_execute_sql(\"\"\"DROP DATASOURCE iris_db;\n\"\"\", 'SQL_4A3995E6_E6C8_4CF8_AA3B_E89C56745F8F')\ndf_6",
   "execution_count": null,
   "outputs": []
  },
  {
   "cell_type": "code",
   "metadata": {
    "tags": [],
    "deepnote_variable_name": "df_7",
    "sql_integration_id": "4a3995e6-e6c8-4cf8-aa3b-e89c56745f8f",
    "cell_id": "63e069ba8df84bda8e21d504ab431f13",
    "deepnote_to_be_reexecuted": false,
    "source_hash": "ef1acd11",
    "execution_start": 1648990917795,
    "execution_millis": 1939,
    "deepnote_sql_source": "CREATE DATASOURCE iris_db\nWITH ENGINE = \"singlestore\",\n     PARAMETERS = {\n         \"user\" : \"admin\",\n         \"password\" : \"^|csT*o]P?IK)$kGsTtp\",\n         \"host\" : \"svc-7b93b94a-addd-4024-819b-488b3a89f980-ddl.aws-virginia-2.svc.singlestore.com\",\n         \"port\" : \"3306\",\n         \"database\" : \"iris_db\"\n     }",
    "deepnote_cell_type": "sql",
    "deepnote_cell_height": 264.953125
   },
   "source": "\n\ndf_7 = _deepnote_execute_sql(\"\"\"CREATE DATASOURCE iris_db\nWITH ENGINE = \"singlestore\",\n     PARAMETERS = {\n         \"user\" : \"admin\",\n         \"password\" : \"^|csT*o]P?IK)$kGsTtp\",\n         \"host\" : \"svc-7b93b94a-addd-4024-819b-488b3a89f980-ddl.aws-virginia-2.svc.singlestore.com\",\n         \"port\" : \"3306\",\n         \"database\" : \"iris_db\"\n     }\n\"\"\", 'SQL_4A3995E6_E6C8_4CF8_AA3B_E89C56745F8F')\ndf_7",
   "execution_count": null,
   "outputs": []
  },
  {
   "cell_type": "code",
   "metadata": {
    "tags": [],
    "deepnote_variable_name": "df_8",
    "sql_integration_id": "4a3995e6-e6c8-4cf8-aa3b-e89c56745f8f",
    "cell_id": "7f662994a90242c6aef28f1007831edf",
    "deepnote_to_be_reexecuted": false,
    "source_hash": "ea0c91c4",
    "execution_start": 1648990936799,
    "execution_millis": 1927,
    "deepnote_sql_source": "SELECT *\nFROM iris_db.iris\nLIMIT 5;",
    "output_cleared": true,
    "deepnote_cell_type": "sql",
    "deepnote_cell_height": 156.953125
   },
   "source": "\n\ndf_8 = _deepnote_execute_sql(\"\"\"SELECT *\nFROM iris_db.iris\nLIMIT 5;\n\"\"\", 'SQL_4A3995E6_E6C8_4CF8_AA3B_E89C56745F8F')\ndf_8",
   "execution_count": null,
   "outputs": []
  },
  {
   "cell_type": "code",
   "metadata": {
    "tags": [],
    "deepnote_variable_name": "df_9",
    "sql_integration_id": "4a3995e6-e6c8-4cf8-aa3b-e89c56745f8f",
    "cell_id": "2987806c1a884ca48ff9d02460525b82",
    "deepnote_to_be_reexecuted": false,
    "source_hash": "695cc77f",
    "execution_start": 1648990944115,
    "execution_millis": 1813,
    "deepnote_sql_source": "DROP PREDICTOR mindsdb.iris_model_v1;",
    "deepnote_cell_type": "sql",
    "deepnote_cell_height": 120.953125
   },
   "source": "\n\ndf_9 = _deepnote_execute_sql(\"\"\"DROP PREDICTOR mindsdb.iris_model_v1;\n\"\"\", 'SQL_4A3995E6_E6C8_4CF8_AA3B_E89C56745F8F')\ndf_9",
   "execution_count": null,
   "outputs": []
  },
  {
   "cell_type": "code",
   "metadata": {
    "tags": [],
    "deepnote_variable_name": "df_10",
    "sql_integration_id": "4a3995e6-e6c8-4cf8-aa3b-e89c56745f8f",
    "cell_id": "8c641ec925ef44048e23f1a419a1e9fa",
    "deepnote_to_be_reexecuted": false,
    "source_hash": "9d035179",
    "execution_start": 1648990948943,
    "execution_millis": 3185,
    "deepnote_sql_source": "CREATE PREDICTOR mindsdb.iris_model_v1\nFROM iris_db (SELECT * FROM iris)\nPREDICT species;",
    "deepnote_cell_type": "sql",
    "deepnote_cell_height": 156.953125
   },
   "source": "\n\ndf_10 = _deepnote_execute_sql(\"\"\"CREATE PREDICTOR mindsdb.iris_model_v1\nFROM iris_db (SELECT * FROM iris)\nPREDICT species;\n\"\"\", 'SQL_4A3995E6_E6C8_4CF8_AA3B_E89C56745F8F')\ndf_10",
   "execution_count": null,
   "outputs": []
  },
  {
   "cell_type": "code",
   "metadata": {
    "tags": [],
    "deepnote_variable_name": "df_11",
    "sql_integration_id": "4a3995e6-e6c8-4cf8-aa3b-e89c56745f8f",
    "cell_id": "1cd96d0ba7744b198fb75c7748a9e46c",
    "deepnote_to_be_reexecuted": false,
    "source_hash": "634384c6",
    "execution_start": 1648990995222,
    "execution_millis": 1944,
    "deepnote_sql_source": "SHOW PREDICTORS;",
    "output_cleared": true,
    "deepnote_cell_type": "sql",
    "deepnote_cell_height": 120.953125
   },
   "source": "\n\ndf_11 = _deepnote_execute_sql(\"\"\"SHOW PREDICTORS;\n\"\"\", 'SQL_4A3995E6_E6C8_4CF8_AA3B_E89C56745F8F')\ndf_11",
   "execution_count": null,
   "outputs": []
  },
  {
   "cell_type": "code",
   "metadata": {
    "tags": [],
    "deepnote_variable_name": "df_12",
    "sql_integration_id": "4a3995e6-e6c8-4cf8-aa3b-e89c56745f8f",
    "cell_id": "61bdfc37615a4a92bd09ec0591fc3ca4",
    "deepnote_to_be_reexecuted": false,
    "source_hash": "b2f5a801",
    "execution_start": 1648991001622,
    "execution_millis": 2155,
    "deepnote_sql_source": "DESCRIBE iris_model_v1;",
    "output_cleared": true,
    "deepnote_cell_type": "sql",
    "deepnote_cell_height": 120.953125
   },
   "source": "\n\ndf_12 = _deepnote_execute_sql(\"\"\"DESCRIBE iris_model_v1;\n\"\"\", 'SQL_4A3995E6_E6C8_4CF8_AA3B_E89C56745F8F')\ndf_12",
   "execution_count": null,
   "outputs": []
  },
  {
   "cell_type": "code",
   "metadata": {
    "tags": [],
    "deepnote_variable_name": "df_13",
    "sql_integration_id": "4a3995e6-e6c8-4cf8-aa3b-e89c56745f8f",
    "cell_id": "8931592ee4c3454298c59099201efd3b",
    "deepnote_to_be_reexecuted": false,
    "source_hash": "38e3dec4",
    "execution_start": 1648991006708,
    "execution_millis": 2252,
    "deepnote_sql_source": "DESCRIBE iris_model_v1.features;",
    "output_cleared": true,
    "deepnote_cell_type": "sql",
    "deepnote_cell_height": 120.953125
   },
   "source": "\n\ndf_13 = _deepnote_execute_sql(\"\"\"DESCRIBE iris_model_v1.features;\n\"\"\", 'SQL_4A3995E6_E6C8_4CF8_AA3B_E89C56745F8F')\ndf_13",
   "execution_count": null,
   "outputs": []
  },
  {
   "cell_type": "code",
   "metadata": {
    "tags": [],
    "deepnote_variable_name": "df_14",
    "sql_integration_id": "4a3995e6-e6c8-4cf8-aa3b-e89c56745f8f",
    "cell_id": "bfcf5819997f47d8aaf87be18546a50e",
    "deepnote_to_be_reexecuted": false,
    "source_hash": "bcaf950",
    "execution_start": 1648991014397,
    "execution_millis": 2484,
    "deepnote_sql_source": "SELECT species, species_confidence, species_explain\nFROM mindsdb.iris_model_v1\nWHERE sepal_length = 5.2 AND\n      sepal_width = 3.6 AND\n      petal_length = 1.5 AND\n      petal_width = 0.3;",
    "output_cleared": true,
    "deepnote_cell_type": "sql",
    "deepnote_cell_height": 210.953125
   },
   "source": "\n\ndf_14 = _deepnote_execute_sql(\"\"\"SELECT species, species_confidence, species_explain\nFROM mindsdb.iris_model_v1\nWHERE sepal_length = 5.2 AND\n      sepal_width = 3.6 AND\n      petal_length = 1.5 AND\n      petal_width = 0.3;\n\"\"\", 'SQL_4A3995E6_E6C8_4CF8_AA3B_E89C56745F8F')\ndf_14",
   "execution_count": null,
   "outputs": []
  },
  {
   "cell_type": "code",
   "metadata": {
    "tags": [],
    "deepnote_variable_name": "df",
    "sql_integration_id": "4a3995e6-e6c8-4cf8-aa3b-e89c56745f8f",
    "cell_id": "fdca6131d6ec42eebf74261070807d8e",
    "deepnote_to_be_reexecuted": false,
    "source_hash": "3888fb1",
    "execution_start": 1648991020238,
    "execution_millis": 2759,
    "deepnote_table_state": {
     "pageSize": 10,
     "pageIndex": 0,
     "filters": [],
     "sortBy": []
    },
    "deepnote_table_loading": false,
    "deepnote_sql_source": "SELECT orig_table.species AS actual,\n       pred_table.species AS predicted\nFROM iris_db.iris AS orig_table\nJOIN mindsdb.iris_model_v1 AS pred_table;",
    "output_cleared": true,
    "deepnote_cell_type": "sql",
    "deepnote_cell_height": 174.953125
   },
   "source": "\n\ndf = _deepnote_execute_sql(\"\"\"SELECT orig_table.species AS actual,\n       pred_table.species AS predicted\nFROM iris_db.iris AS orig_table\nJOIN mindsdb.iris_model_v1 AS pred_table;\n\"\"\", 'SQL_4A3995E6_E6C8_4CF8_AA3B_E89C56745F8F')\ndf",
   "execution_count": null,
   "outputs": []
  },
  {
   "cell_type": "code",
   "metadata": {
    "cell_id": "b720ca709e9c45e4899c08aca3f24808",
    "tags": [],
    "deepnote_to_be_reexecuted": false,
    "source_hash": "3addc48b",
    "execution_start": 1648991028660,
    "execution_millis": 18,
    "output_cleared": true,
    "deepnote_cell_type": "code",
    "deepnote_cell_height": 80.953125
   },
   "source": "print(df[df[\"actual\"] != df[\"predicted\"]])",
   "execution_count": null,
   "outputs": []
  },
  {
   "cell_type": "code",
   "metadata": {
    "cell_id": "1e8a9216eb45450a9a002815ce046490",
    "tags": [],
    "deepnote_to_be_reexecuted": false,
    "source_hash": "b82165b1",
    "execution_start": 1648991039195,
    "execution_millis": 3254,
    "output_cleared": true,
    "deepnote_cell_type": "code",
    "deepnote_cell_height": 368.953125,
    "deepnote_output_heights": [
     21.1875,
     279.984375
    ]
   },
   "source": "import seaborn as sns\nimport matplotlib.pyplot as plt\nfrom sklearn.metrics import confusion_matrix\n\nclasses = [\"Iris-setosa\", \"Iris-versicolor\", \"Iris-virginica\"]\n\nsns.heatmap(\n    confusion_matrix(df[\"actual\"], df[\"predicted\"]),\n    cmap = \"Reds\",\n    xticklabels = classes,\n    yticklabels = classes,\n    annot = True\n)\n\nplt.title(\"Confusion Matrix\")\nplt.xlabel(\"Predicted\")\nplt.ylabel(\"Actual\")",
   "execution_count": null,
   "outputs": []
  },
  {
   "cell_type": "code",
   "metadata": {
    "cell_id": "c59aec4ba77c4033b00cda93bbca6b7a",
    "tags": [],
    "deepnote_to_be_reexecuted": false,
    "source_hash": "2383c127",
    "execution_start": 1648991057609,
    "execution_millis": 2852,
    "owner_user_id": "a27dcf47-1642-4655-8008-a5f08cb81572",
    "output_cleared": true,
    "deepnote_cell_type": "code",
    "deepnote_cell_height": 929.9375,
    "deepnote_output_heights": [
     526.984375
    ]
   },
   "source": "# https://plotly.com/python/splom/\n\nimport plotly.express as px\n\ndf = px.data.iris()\n\nfig = px.scatter_matrix(\n    df,\n    dimensions = [\"sepal_width\", \"sepal_length\", \"petal_width\", \"petal_length\"],\n    color = \"species\",\n    symbol = \"species\",\n    title = \"Scatter matrix of Iris data set\",\n    labels = {col:col.replace('_', ' ') for col in df.columns}\n)\n\nfig.update_traces(diagonal_visible = False)\n\nfig.show()",
   "execution_count": null,
   "outputs": []
  },
  {
   "cell_type": "markdown",
   "source": "<a style='text-decoration:none;line-height:16px;display:flex;color:#5B5B62;padding:10px;justify-content:end;' href='https://deepnote.com?utm_source=created-in-deepnote-cell&projectId=cb7115dd-c9bc-4e30-9187-d054c7894e17' target=\"_blank\">\n<img alt='Created in deepnote.com' style='display:inline;max-height:16px;margin:0px;margin-right:7.5px;' src='data:image/svg+xml;base64,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' > </img>\nCreated in <span style='font-weight:600;margin-left:4px;'>Deepnote</span></a>",
   "metadata": {
    "tags": [],
    "created_in_deepnote_cell": true,
    "deepnote_cell_type": "markdown"
   }
  }
 ],
 "nbformat": 4,
 "nbformat_minor": 2,
 "metadata": {
  "orig_nbformat": 2,
  "deepnote": {
   "is_reactive": false
  },
  "deepnote_notebook_id": "09cda691-996c-4d56-a4a4-30a85e095266",
  "deepnote_execution_queue": []
 }
}