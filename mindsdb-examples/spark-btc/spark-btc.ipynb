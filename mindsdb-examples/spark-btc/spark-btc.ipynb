{
 "cells": [
  {
   "cell_type": "markdown",
   "source": "## 0. Setup",
   "metadata": {
    "cell_id": "3a922ff091734befa754d5e97637c31e",
    "tags": [],
    "deepnote_cell_type": "markdown",
    "deepnote_cell_height": 69.96875
   }
  },
  {
   "cell_type": "markdown",
   "source": "### 0.1 Install PySpark",
   "metadata": {
    "cell_id": "8dbb07e91a2242dcaeec804502eab01d",
    "tags": [],
    "deepnote_cell_type": "markdown",
    "deepnote_cell_height": 61.953125
   }
  },
  {
   "cell_type": "code",
   "metadata": {
    "tags": [],
    "cell_id": "d9c54568-39a0-4320-b6f6-86580d8157d3",
    "deepnote_to_be_reexecuted": false,
    "source_hash": "40d82c83",
    "execution_start": 1651161164592,
    "execution_millis": 7757,
    "owner_user_id": "a27dcf47-1642-4655-8008-a5f08cb81572",
    "deepnote_cell_type": "code",
    "deepnote_cell_height": 421.5
   },
   "source": "! sudo apt-get update\n! sudo mkdir -p /usr/share/man/man1\n! sudo apt-get install -y openjdk-11-jdk\n! pip install pyspark==3.2.1",
   "execution_count": null,
   "outputs": [
    {
     "name": "stdout",
     "text": "Hit:1 http://deb.debian.org/debian buster InRelease\nHit:2 http://security.debian.org/debian-security buster/updates InRelease\nHit:3 http://deb.debian.org/debian buster-updates InRelease\n\n\n\n\nopenjdk-11-jdk is already the newest version (11.0.14+9-1~deb10u1).\n0 upgraded, 0 newly installed, 0 to remove and 32 not upgraded.\nRequirement already satisfied: pyspark==3.2.1 in /root/venv/lib/python3.7/site-packages (3.2.1)\nRequirement already satisfied: py4j==0.10.9.3 in /root/venv/lib/python3.7/site-packages (from pyspark==3.2.1) (0.10.9.3)\n\u001b[33mWARNING: You are using pip version 20.1.1; however, version 22.0.4 is available.\nYou should consider upgrading via the '/root/venv/bin/python -m pip install --upgrade pip' command.\u001b[0m\n",
     "output_type": "stream"
    }
   ]
  },
  {
   "cell_type": "code",
   "metadata": {
    "cell_id": "d5db84eff1b44085aa0e321831634455",
    "tags": [],
    "deepnote_to_be_reexecuted": false,
    "source_hash": "4498c376",
    "execution_start": 1651161183089,
    "execution_millis": 3,
    "deepnote_cell_type": "code",
    "deepnote_cell_height": 278.953125
   },
   "source": "from pyspark.sql import SparkSession\n\nspark = (SparkSession\n            .builder\n            .config(\n                \"spark.jars\",\n                \"jars/singlestore-jdbc-client-1.0.1.jar, \\\n                jars/singlestore-spark-connector_2.12-4.0.0-spark-3.2.0.jar, \\\n                jars/spray-json_3-1.3.6.jar\"\n            )\n            .getOrCreate()\n        )",
   "execution_count": null,
   "outputs": []
  },
  {
   "cell_type": "code",
   "metadata": {
    "cell_id": "4981b0f419ee4663a9d52b63246092e4",
    "tags": [],
    "deepnote_to_be_reexecuted": false,
    "source_hash": "3041d852",
    "execution_start": 1651161186124,
    "execution_millis": 4,
    "deepnote_cell_type": "code",
    "deepnote_cell_height": 118.140625,
    "deepnote_output_heights": [
     21.1875
    ]
   },
   "source": "spark.version",
   "execution_count": null,
   "outputs": [
    {
     "output_type": "execute_result",
     "execution_count": 50,
     "data": {
      "text/plain": "'3.2.1'"
     },
     "metadata": {}
    }
   ]
  },
  {
   "cell_type": "markdown",
   "source": "### 0.2 Connect to SingleStore DB",
   "metadata": {
    "cell_id": "951c1b17cbfc4b148ac151f15051134a",
    "tags": [],
    "deepnote_cell_type": "markdown",
    "deepnote_cell_height": 61.953125
   }
  },
  {
   "cell_type": "code",
   "metadata": {
    "cell_id": "4d1973aa8080433296c514bf775f1a5e",
    "tags": [],
    "deepnote_to_be_reexecuted": false,
    "source_hash": "119ba9f1",
    "execution_start": 1651161193028,
    "execution_millis": 16,
    "deepnote_cell_type": "code",
    "deepnote_cell_height": 152.96875
   },
   "source": "server = \"<TO DO>\"\npassword = \"<TO DO>\"\n \nport = \"3306\"\ncluster = server + \":\" + port",
   "execution_count": null,
   "outputs": []
  },
  {
   "cell_type": "code",
   "metadata": {
    "cell_id": "8564a3d6893b4ed1a25fd9daa9176abe",
    "tags": [],
    "deepnote_to_be_reexecuted": false,
    "source_hash": "f03039ad",
    "execution_start": 1651161196648,
    "execution_millis": 12,
    "deepnote_cell_type": "code",
    "deepnote_cell_height": 134.953125
   },
   "source": "spark.conf.set(\"spark.datasource.singlestore.ddlEndpoint\", cluster)\nspark.conf.set(\"spark.datasource.singlestore.user\", \"admin\")\nspark.conf.set(\"spark.datasource.singlestore.password\", password)\nspark.conf.set(\"spark.datasource.singlestore.disablePushdown\", \"false\")",
   "execution_count": null,
   "outputs": []
  },
  {
   "cell_type": "markdown",
   "source": "## 1. Apache Spark",
   "metadata": {
    "cell_id": "5bbdb1fefcab4f0a8cc081f8f6a7da32",
    "tags": [],
    "deepnote_cell_type": "markdown",
    "deepnote_cell_height": 69.96875
   }
  },
  {
   "cell_type": "markdown",
   "source": "### 1.1 Create Spark Dataframe",
   "metadata": {
    "cell_id": "459ff5293a364f7db8d76c62c2bb88fb",
    "tags": [],
    "deepnote_cell_type": "markdown",
    "deepnote_cell_height": 61.953125
   }
  },
  {
   "cell_type": "code",
   "metadata": {
    "cell_id": "8f23c6c5232b4ae396fb30a9ae0d8e9a",
    "tags": [],
    "deepnote_to_be_reexecuted": false,
    "source_hash": "c07369b0",
    "execution_start": 1651161203627,
    "execution_millis": 629,
    "deepnote_cell_type": "code",
    "deepnote_cell_height": 152.96875
   },
   "source": "iris_df = spark.read.csv(\n                    \"data/iris.csv\",\n                    header = True,\n                    inferSchema = True\n                )",
   "execution_count": null,
   "outputs": []
  },
  {
   "cell_type": "code",
   "metadata": {
    "cell_id": "6b4ae6750add49ea9ab687eb41584e36",
    "tags": [],
    "deepnote_to_be_reexecuted": false,
    "source_hash": "c7430197",
    "execution_start": 1651161207350,
    "execution_millis": 257,
    "deepnote_cell_type": "code",
    "deepnote_cell_height": 308.1875
   },
   "source": "iris_df.show(5)",
   "execution_count": null,
   "outputs": [
    {
     "name": "stdout",
     "text": "+------------+-----------+------------+-----------+-----------+\n|sepal_length|sepal_width|petal_length|petal_width|    species|\n+------------+-----------+------------+-----------+-----------+\n|         5.1|        3.5|         1.4|        0.2|Iris-setosa|\n|         4.9|        3.0|         1.4|        0.2|Iris-setosa|\n|         4.7|        3.2|         1.3|        0.2|Iris-setosa|\n|         4.6|        3.1|         1.5|        0.2|Iris-setosa|\n|         5.0|        3.6|         1.4|        0.2|Iris-setosa|\n+------------+-----------+------------+-----------+-----------+\nonly showing top 5 rows\n\n",
     "output_type": "stream"
    }
   ]
  },
  {
   "cell_type": "markdown",
   "source": "### 1.2 Exploratory Data Analysis (EDA)",
   "metadata": {
    "cell_id": "4ad5e357a1b54e9688982985b71f547e",
    "tags": [],
    "deepnote_cell_type": "markdown",
    "deepnote_cell_height": 61.953125
   }
  },
  {
   "cell_type": "code",
   "metadata": {
    "cell_id": "f2411f5e97c246968c2d2bb865976ff8",
    "tags": [],
    "deepnote_to_be_reexecuted": false,
    "source_hash": "6c71c9cc",
    "execution_start": 1651161218121,
    "execution_millis": 402,
    "deepnote_cell_type": "code",
    "deepnote_cell_height": 321.21875
   },
   "source": "(iris_df\n    .groupBy(\"species\")\n    .count()\n    .show()\n)",
   "execution_count": null,
   "outputs": [
    {
     "name": "stdout",
     "text": "+---------------+-----+\n|        species|count|\n+---------------+-----+\n| Iris-virginica|   50|\n|    Iris-setosa|   50|\n|Iris-versicolor|   50|\n+---------------+-----+\n\n",
     "output_type": "stream"
    }
   ]
  },
  {
   "cell_type": "code",
   "metadata": {
    "cell_id": "1d7466cc63a74154937c8aa41039b4f0",
    "tags": [],
    "deepnote_to_be_reexecuted": false,
    "source_hash": "79deba3c",
    "execution_start": 1651161222625,
    "execution_millis": 573,
    "deepnote_cell_type": "code",
    "deepnote_cell_height": 452.53125
   },
   "source": "(iris_df\n    .describe(\n        \"sepal_length\",\n        \"sepal_width\",\n        \"petal_length\",\n        \"petal_width\"\n    )\n    .show()\n)",
   "execution_count": null,
   "outputs": [
    {
     "name": "stdout",
     "text": "+-------+------------------+-------------------+------------------+------------------+\n|summary|      sepal_length|        sepal_width|      petal_length|       petal_width|\n+-------+------------------+-------------------+------------------+------------------+\n|  count|               150|                150|               150|               150|\n|   mean| 5.843333333333335| 3.0540000000000007|3.7586666666666693|1.1986666666666672|\n| stddev|0.8280661279778637|0.43359431136217375| 1.764420419952262|0.7631607417008414|\n|    min|               4.3|                2.0|               1.0|               0.1|\n|    max|               7.9|                4.4|               6.9|               2.5|\n+-------+------------------+-------------------+------------------+------------------+\n\n",
     "output_type": "stream"
    }
   ]
  },
  {
   "cell_type": "code",
   "metadata": {
    "cell_id": "fe0e0476f59043cdbb286b96ee1dcc8f",
    "tags": [],
    "deepnote_to_be_reexecuted": false,
    "source_hash": "83efdc84",
    "execution_start": 1651161228155,
    "execution_millis": 410,
    "deepnote_cell_type": "code",
    "deepnote_cell_height": 983.9375,
    "deepnote_output_heights": [
     526.984375
    ]
   },
   "source": "# https://plotly.com/python/pca-visualization/\n\nimport plotly.express as px\nfrom sklearn.decomposition import PCA\nimport pandas as pd\n\npandas_iris_df = iris_df.toPandas()\n\nX = pandas_iris_df[[\"sepal_length\", \"sepal_width\", \"petal_length\", \"petal_width\"]]\n\npca = PCA(n_components = 2)\ncomponents = pca.fit_transform(X)\n\npca_fig = px.scatter(\n    components,\n    x = 0,\n    y = 1,\n    color = pandas_iris_df[\"species\"]\n)\n\npca_fig.show()",
   "execution_count": null,
   "outputs": [
    {
     "data": {
      "text/html": "<html>\n<head><meta charset=\"utf-8\" /></head>\n<body>\n    <div>            <script src=\"https://cdnjs.cloudflare.com/ajax/libs/mathjax/2.7.5/MathJax.js?config=TeX-AMS-MML_SVG\"></script><script type=\"text/javascript\">if (window.MathJax) {MathJax.Hub.Config({SVG: {font: \"STIX-Web\"}});}</script>                <script type=\"text/javascript\">window.PlotlyConfig = {MathJaxConfig: 'local'};</script>\n        <script src=\"https://cdn.plot.ly/plotly-2.11.1.min.js\"></script>                <div id=\"ee85e19e-1ac0-441b-a2c3-e8115752d042\" class=\"plotly-graph-div\" style=\"height:525px; width:100%;\"></div>            <script type=\"text/javascript\">                                    window.PLOTLYENV=window.PLOTLYENV || {};                                    if (document.getElementById(\"ee85e19e-1ac0-441b-a2c3-e8115752d042\")) {                    Plotly.newPlot(                        \"ee85e19e-1ac0-441b-a2c3-e8115752d042\",                        [{\"hovertemplate\":\"color=Iris-setosa<br>0=%{x}<br>1=%{y}<extra></extra>\",\"legendgroup\":\"Iris-setosa\",\"marker\":{\"color\":\"#636efa\",\"symbol\":\"circle\"},\"mode\":\"markers\",\"name\":\"Iris-setosa\",\"orientation\":\"v\",\"showlegend\":true,\"x\":[-2.6842071251039483,-2.7153906156341305,-2.8898195396179163,-2.7464371973087345,-2.728592981831315,-2.279897361009598,-2.82089068218063,-2.6264819933238184,-2.8879585653356346,-2.673844686719121,-2.5065267893389036,-2.6131427182710563,-2.7874339759970974,-3.225200446274981,-2.643543216941146,-2.3838693237993756,-2.6225262031258083,-2.6483227324791265,-2.1990779614307634,-2.587346188917738,-2.3105317013131335,-2.5432349073036953,-3.215857694900105,-2.3031285376638824,-2.356171086683898,-2.507917226837881,-2.469055997545123,-2.5623909468367505,-2.639821268376582,-2.6328479080307585,-2.5884620513033916,-2.4100773371215958,-2.647636673396901,-2.5971594770759183,-2.673844686719121,-2.866999846932534,-2.625228464680421,-2.673844686719121,-2.9818426648539087,-2.590323025585674,-2.7701389107463243,-2.852211081566391,-2.9982964428323515,-2.4055141012847017,-2.2088329541767058,-2.7156651907474543,-2.537573371013507,-2.840321296827009,-2.5426857570770482,-2.70391231486365],\"xaxis\":\"x\",\"y\":[0.32660731476438837,-0.16955684755602635,-0.13734560960502798,-0.31112431575199195,0.3339245635684547,0.7477827132251335,-0.08210451102468101,0.17040534896028975,-0.5707980263315918,-0.10669170375273868,0.6519350136725719,0.021520631960257833,-0.22774018887110645,-0.5032799094854259,1.1861948994134492,1.3447543445598622,0.8180896745965952,0.31913666775088456,0.8792440880917367,0.5204736388059679,0.39786782158889183,0.4400317546598152,0.14161557162558355,0.1055226784299822,-0.031209589068338494,-0.13905633991317412,0.13788731459041764,0.37468456275010603,0.3192900659603218,-0.19007583063362424,-0.19739307943769097,0.41808000824761604,0.8199826325595069,1.1000219280072685,-0.10669170375273868,0.07719309572358711,0.6068000084215862,-0.10669170375273868,-0.4802500488560767,0.2360593372888728,0.27105941976516706,-0.9328653674695447,-0.33430757459077737,0.19591725769606078,0.4426960304210028,-0.24268148289811306,0.5103675454766058,-0.22057633827647674,0.5862810253439883,0.11501085217050558],\"yaxis\":\"y\",\"type\":\"scatter\"},{\"hovertemplate\":\"color=Iris-versicolor<br>0=%{x}<br>1=%{y}<extra></extra>\",\"legendgroup\":\"Iris-versicolor\",\"marker\":{\"color\":\"#EF553B\",\"symbol\":\"circle\"},\"mode\":\"markers\",\"name\":\"Iris-versicolor\",\"orientation\":\"v\",\"showlegend\":true,\"x\":[1.2847945878450713,0.9324107529829178,1.4640613227790755,0.18096720634769922,1.0871344872070012,0.6404367495231457,1.0952237099384783,-0.7514671406482266,1.0432977807062813,-0.010190070727852997,-0.5110861958950901,0.5110980606834775,0.2623357561531805,0.9840445451694312,-0.1748640019656959,0.9275729420327,0.6595927890562004,0.23454058625983584,0.9423617073988423,0.04324640032870497,1.1162407237538159,0.3567865678304614,1.2964688502855344,0.9205026489090096,0.7140082136428335,0.8996408632837762,1.3310414188547202,1.5573962720707024,0.8124555489980021,-0.307334755663404,-0.07034288894927114,-0.19188449210314523,0.13499495045137355,1.378736982775583,0.5872748535799112,0.8072054966767166,1.2204289662446797,0.8128677903690703,0.2451951616903462,0.1645134283692561,0.46303098887142463,0.8901604456511565,0.2288790499696479,-0.7070812839208601,0.35553303918706386,0.331126947332723,0.375238228946766,0.6416902781665432,-0.9084633331234948,0.29780790740693414],\"xaxis\":\"x\",\"y\":[0.6854391861329201,0.3191980898336488,0.504189832972453,-0.8256039435761133,0.07539038928876747,-0.41732348297002575,0.2838912109384804,-1.0011075129743943,0.22895690877700683,-0.7205748667019016,-1.2624919538621404,-0.10228410504597016,-0.5478932980253367,-0.12436042022227792,-0.25181557108017055,0.46823620504311714,-0.35197629106031647,-0.3319218293621204,-0.541822258150014,-0.5814894466123587,-0.08421401387837339,-0.06682382794136617,-0.32756151979494424,-0.182390363327921,0.15037915314843725,0.329610979581884,0.24466952060228928,0.26739258481276484,-0.16233157487863326,-0.3650866127661604,-0.7025379317307259,-0.6774905443743572,-0.3117096427033962,-0.4212051382146283,-0.48328426771748245,0.1950539637711115,0.40803533700101746,-0.3706789983189097,-0.26672803566184805,-0.6796614693108137,-0.6695265465361225,-0.03381244274676267,-0.4022576201789113,-1.0084247617784612,-0.5032184874026624,-0.21118014066262672,-0.29162202480877975,0.019071176491270807,-0.7515687251694855,-0.34701652159856394],\"yaxis\":\"y\",\"type\":\"scatter\"},{\"hovertemplate\":\"color=Iris-virginica<br>0=%{x}<br>1=%{y}<extra></extra>\",\"legendgroup\":\"Iris-virginica\",\"marker\":{\"color\":\"#00cc96\",\"symbol\":\"circle\"},\"mode\":\"markers\",\"name\":\"Iris-virginica\",\"orientation\":\"v\",\"showlegend\":true,\"x\":[2.531726980439559,1.4140722251737576,2.616484608284044,1.970814945906482,2.349757983950943,3.3968799206781384,0.5193832450849365,2.932005096991301,2.3196727938740533,2.9181342336442517,1.6619349470194866,1.8023404526607334,2.1653788629533977,1.3445942175098249,1.585267299308644,1.9047435782139124,1.9492487818644981,3.488765379656386,3.79468686120997,1.2983298245678165,2.428167259020848,1.1980973722749628,3.4992654842989572,1.3876682501815558,2.275853649305694,2.614193830698334,1.2576251829251366,1.2906696477376018,2.1228539805083133,2.387564402369028,2.840960925285384,3.2323428982958746,2.158738373133135,1.443102604375975,1.7796401068985708,3.076521621020662,2.144986856709304,1.9048629251371323,1.1688534694704038,2.1076537311732686,2.3143033946295484,1.9224508848357524,1.4140722251737576,2.5633227123408093,2.41939121980498,1.944017048877737,1.525663631313873,1.764045935526983,1.901629075288233,1.3896661333194171],\"xaxis\":\"x\",\"y\":[-0.011842236640300343,-0.5749250559123047,0.34193528698729486,-0.18112569470491366,-0.041882549654841734,0.5471680462301529,-1.1913516890506533,0.35237700618085976,-0.24554817060691014,0.7803806293720325,0.2420384010375225,-0.21615460662653624,0.2152802833730073,-0.7764154251768249,-0.5393070538471719,0.1188189909826987,0.04073025942776788,1.1715445442635644,0.25326557097253466,-0.7610139365215078,0.3767819712541526,-0.6055789617645944,0.4567734669640746,-0.20403098657015473,0.33338652575664224,0.5583669502788223,-0.17913699742322273,-0.11642525182937247,-0.2108548845494898,0.46251925072626054,0.3727425910490214,1.3705240359763338,-0.21832553156299314,-0.14380128908272616,-0.5014647947060157,0.6857644422460567,0.13890660887731474,0.04804750823183463,-0.16450249981508988,0.37148224917710587,0.18260885079369873,0.4092711761786958,-0.5749250559123047,0.2759745022398383,0.30350393770262896,0.18741522204601405,-0.37502084819182285,0.07851918642935757,0.11587674824796575,-0.28288670917226916],\"yaxis\":\"y\",\"type\":\"scatter\"}],                        {\"template\":{\"data\":{\"histogram2dcontour\":[{\"type\":\"histogram2dcontour\",\"colorbar\":{\"outlinewidth\":0,\"ticks\":\"\"},\"colorscale\":[[0.0,\"#0d0887\"],[0.1111111111111111,\"#46039f\"],[0.2222222222222222,\"#7201a8\"],[0.3333333333333333,\"#9c179e\"],[0.4444444444444444,\"#bd3786\"],[0.5555555555555556,\"#d8576b\"],[0.6666666666666666,\"#ed7953\"],[0.7777777777777778,\"#fb9f3a\"],[0.8888888888888888,\"#fdca26\"],[1.0,\"#f0f921\"]]}],\"choropleth\":[{\"type\":\"choropleth\",\"colorbar\":{\"outlinewidth\":0,\"ticks\":\"\"}}],\"histogram2d\":[{\"type\":\"histogram2d\",\"colorbar\":{\"outlinewidth\":0,\"ticks\":\"\"},\"colorscale\":[[0.0,\"#0d0887\"],[0.1111111111111111,\"#46039f\"],[0.2222222222222222,\"#7201a8\"],[0.3333333333333333,\"#9c179e\"],[0.4444444444444444,\"#bd3786\"],[0.5555555555555556,\"#d8576b\"],[0.6666666666666666,\"#ed7953\"],[0.7777777777777778,\"#fb9f3a\"],[0.8888888888888888,\"#fdca26\"],[1.0,\"#f0f921\"]]}],\"heatmap\":[{\"type\":\"heatmap\",\"colorbar\":{\"outlinewidth\":0,\"ticks\":\"\"},\"colorscale\":[[0.0,\"#0d0887\"],[0.1111111111111111,\"#46039f\"],[0.2222222222222222,\"#7201a8\"],[0.3333333333333333,\"#9c179e\"],[0.4444444444444444,\"#bd3786\"],[0.5555555555555556,\"#d8576b\"],[0.6666666666666666,\"#ed7953\"],[0.7777777777777778,\"#fb9f3a\"],[0.8888888888888888,\"#fdca26\"],[1.0,\"#f0f921\"]]}],\"heatmapgl\":[{\"type\":\"heatmapgl\",\"colorbar\":{\"outlinewidth\":0,\"ticks\":\"\"},\"colorscale\":[[0.0,\"#0d0887\"],[0.1111111111111111,\"#46039f\"],[0.2222222222222222,\"#7201a8\"],[0.3333333333333333,\"#9c179e\"],[0.4444444444444444,\"#bd3786\"],[0.5555555555555556,\"#d8576b\"],[0.6666666666666666,\"#ed7953\"],[0.7777777777777778,\"#fb9f3a\"],[0.8888888888888888,\"#fdca26\"],[1.0,\"#f0f921\"]]}],\"contourcarpet\":[{\"type\":\"contourcarpet\",\"colorbar\":{\"outlinewidth\":0,\"ticks\":\"\"}}],\"contour\":[{\"type\":\"contour\",\"colorbar\":{\"outlinewidth\":0,\"ticks\":\"\"},\"colorscale\":[[0.0,\"#0d0887\"],[0.1111111111111111,\"#46039f\"],[0.2222222222222222,\"#7201a8\"],[0.3333333333333333,\"#9c179e\"],[0.4444444444444444,\"#bd3786\"],[0.5555555555555556,\"#d8576b\"],[0.6666666666666666,\"#ed7953\"],[0.7777777777777778,\"#fb9f3a\"],[0.8888888888888888,\"#fdca26\"],[1.0,\"#f0f921\"]]}],\"surface\":[{\"type\":\"surface\",\"colorbar\":{\"outlinewidth\":0,\"ticks\":\"\"},\"colorscale\":[[0.0,\"#0d0887\"],[0.1111111111111111,\"#46039f\"],[0.2222222222222222,\"#7201a8\"],[0.3333333333333333,\"#9c179e\"],[0.4444444444444444,\"#bd3786\"],[0.5555555555555556,\"#d8576b\"],[0.6666666666666666,\"#ed7953\"],[0.7777777777777778,\"#fb9f3a\"],[0.8888888888888888,\"#fdca26\"],[1.0,\"#f0f921\"]]}],\"mesh3d\":[{\"type\":\"mesh3d\",\"colorbar\":{\"outlinewidth\":0,\"ticks\":\"\"}}],\"scatter\":[{\"fillpattern\":{\"fillmode\":\"overlay\",\"size\":10,\"solidity\":0.2},\"type\":\"scatter\"}],\"parcoords\":[{\"type\":\"parcoords\",\"line\":{\"colorbar\":{\"outlinewidth\":0,\"ticks\":\"\"}}}],\"scatterpolargl\":[{\"type\":\"scatterpolargl\",\"marker\":{\"colorbar\":{\"outlinewidth\":0,\"ticks\":\"\"}}}],\"bar\":[{\"error_x\":{\"color\":\"#2a3f5f\"},\"error_y\":{\"color\":\"#2a3f5f\"},\"marker\":{\"line\":{\"color\":\"#E5ECF6\",\"width\":0.5},\"pattern\":{\"fillmode\":\"overlay\",\"size\":10,\"solidity\":0.2}},\"type\":\"bar\"}],\"scattergeo\":[{\"type\":\"scattergeo\",\"marker\":{\"colorbar\":{\"outlinewidth\":0,\"ticks\":\"\"}}}],\"scatterpolar\":[{\"type\":\"scatterpolar\",\"marker\":{\"colorbar\":{\"outlinewidth\":0,\"ticks\":\"\"}}}],\"histogram\":[{\"marker\":{\"pattern\":{\"fillmode\":\"overlay\",\"size\":10,\"solidity\":0.2}},\"type\":\"histogram\"}],\"scattergl\":[{\"type\":\"scattergl\",\"marker\":{\"colorbar\":{\"outlinewidth\":0,\"ticks\":\"\"}}}],\"scatter3d\":[{\"type\":\"scatter3d\",\"line\":{\"colorbar\":{\"outlinewidth\":0,\"ticks\":\"\"}},\"marker\":{\"colorbar\":{\"outlinewidth\":0,\"ticks\":\"\"}}}],\"scattermapbox\":[{\"type\":\"scattermapbox\",\"marker\":{\"colorbar\":{\"outlinewidth\":0,\"ticks\":\"\"}}}],\"scatterternary\":[{\"type\":\"scatterternary\",\"marker\":{\"colorbar\":{\"outlinewidth\":0,\"ticks\":\"\"}}}],\"scattercarpet\":[{\"type\":\"scattercarpet\",\"marker\":{\"colorbar\":{\"outlinewidth\":0,\"ticks\":\"\"}}}],\"carpet\":[{\"aaxis\":{\"endlinecolor\":\"#2a3f5f\",\"gridcolor\":\"white\",\"linecolor\":\"white\",\"minorgridcolor\":\"white\",\"startlinecolor\":\"#2a3f5f\"},\"baxis\":{\"endlinecolor\":\"#2a3f5f\",\"gridcolor\":\"white\",\"linecolor\":\"white\",\"minorgridcolor\":\"white\",\"startlinecolor\":\"#2a3f5f\"},\"type\":\"carpet\"}],\"table\":[{\"cells\":{\"fill\":{\"color\":\"#EBF0F8\"},\"line\":{\"color\":\"white\"}},\"header\":{\"fill\":{\"color\":\"#C8D4E3\"},\"line\":{\"color\":\"white\"}},\"type\":\"table\"}],\"barpolar\":[{\"marker\":{\"line\":{\"color\":\"#E5ECF6\",\"width\":0.5},\"pattern\":{\"fillmode\":\"overlay\",\"size\":10,\"solidity\":0.2}},\"type\":\"barpolar\"}],\"pie\":[{\"automargin\":true,\"type\":\"pie\"}]},\"layout\":{\"autotypenumbers\":\"strict\",\"colorway\":[\"#636efa\",\"#EF553B\",\"#00cc96\",\"#ab63fa\",\"#FFA15A\",\"#19d3f3\",\"#FF6692\",\"#B6E880\",\"#FF97FF\",\"#FECB52\"],\"font\":{\"color\":\"#2a3f5f\"},\"hovermode\":\"closest\",\"hoverlabel\":{\"align\":\"left\"},\"paper_bgcolor\":\"white\",\"plot_bgcolor\":\"#E5ECF6\",\"polar\":{\"bgcolor\":\"#E5ECF6\",\"angularaxis\":{\"gridcolor\":\"white\",\"linecolor\":\"white\",\"ticks\":\"\"},\"radialaxis\":{\"gridcolor\":\"white\",\"linecolor\":\"white\",\"ticks\":\"\"}},\"ternary\":{\"bgcolor\":\"#E5ECF6\",\"aaxis\":{\"gridcolor\":\"white\",\"linecolor\":\"white\",\"ticks\":\"\"},\"baxis\":{\"gridcolor\":\"white\",\"linecolor\":\"white\",\"ticks\":\"\"},\"caxis\":{\"gridcolor\":\"white\",\"linecolor\":\"white\",\"ticks\":\"\"}},\"coloraxis\":{\"colorbar\":{\"outlinewidth\":0,\"ticks\":\"\"}},\"colorscale\":{\"sequential\":[[0.0,\"#0d0887\"],[0.1111111111111111,\"#46039f\"],[0.2222222222222222,\"#7201a8\"],[0.3333333333333333,\"#9c179e\"],[0.4444444444444444,\"#bd3786\"],[0.5555555555555556,\"#d8576b\"],[0.6666666666666666,\"#ed7953\"],[0.7777777777777778,\"#fb9f3a\"],[0.8888888888888888,\"#fdca26\"],[1.0,\"#f0f921\"]],\"sequentialminus\":[[0.0,\"#0d0887\"],[0.1111111111111111,\"#46039f\"],[0.2222222222222222,\"#7201a8\"],[0.3333333333333333,\"#9c179e\"],[0.4444444444444444,\"#bd3786\"],[0.5555555555555556,\"#d8576b\"],[0.6666666666666666,\"#ed7953\"],[0.7777777777777778,\"#fb9f3a\"],[0.8888888888888888,\"#fdca26\"],[1.0,\"#f0f921\"]],\"diverging\":[[0,\"#8e0152\"],[0.1,\"#c51b7d\"],[0.2,\"#de77ae\"],[0.3,\"#f1b6da\"],[0.4,\"#fde0ef\"],[0.5,\"#f7f7f7\"],[0.6,\"#e6f5d0\"],[0.7,\"#b8e186\"],[0.8,\"#7fbc41\"],[0.9,\"#4d9221\"],[1,\"#276419\"]]},\"xaxis\":{\"gridcolor\":\"white\",\"linecolor\":\"white\",\"ticks\":\"\",\"title\":{\"standoff\":15},\"zerolinecolor\":\"white\",\"automargin\":true,\"zerolinewidth\":2},\"yaxis\":{\"gridcolor\":\"white\",\"linecolor\":\"white\",\"ticks\":\"\",\"title\":{\"standoff\":15},\"zerolinecolor\":\"white\",\"automargin\":true,\"zerolinewidth\":2},\"scene\":{\"xaxis\":{\"backgroundcolor\":\"#E5ECF6\",\"gridcolor\":\"white\",\"linecolor\":\"white\",\"showbackground\":true,\"ticks\":\"\",\"zerolinecolor\":\"white\",\"gridwidth\":2},\"yaxis\":{\"backgroundcolor\":\"#E5ECF6\",\"gridcolor\":\"white\",\"linecolor\":\"white\",\"showbackground\":true,\"ticks\":\"\",\"zerolinecolor\":\"white\",\"gridwidth\":2},\"zaxis\":{\"backgroundcolor\":\"#E5ECF6\",\"gridcolor\":\"white\",\"linecolor\":\"white\",\"showbackground\":true,\"ticks\":\"\",\"zerolinecolor\":\"white\",\"gridwidth\":2}},\"shapedefaults\":{\"line\":{\"color\":\"#2a3f5f\"}},\"annotationdefaults\":{\"arrowcolor\":\"#2a3f5f\",\"arrowhead\":0,\"arrowwidth\":1},\"geo\":{\"bgcolor\":\"white\",\"landcolor\":\"#E5ECF6\",\"subunitcolor\":\"white\",\"showland\":true,\"showlakes\":true,\"lakecolor\":\"white\"},\"title\":{\"x\":0.05},\"mapbox\":{\"style\":\"light\"}}},\"xaxis\":{\"anchor\":\"y\",\"domain\":[0.0,1.0],\"title\":{\"text\":\"0\"}},\"yaxis\":{\"anchor\":\"x\",\"domain\":[0.0,1.0],\"title\":{\"text\":\"1\"}},\"legend\":{\"title\":{\"text\":\"color\"},\"tracegroupgap\":0},\"margin\":{\"t\":60}},                        {\"responsive\": true}                    ).then(function(){\n                            \nvar gd = document.getElementById('ee85e19e-1ac0-441b-a2c3-e8115752d042');\nvar x = new MutationObserver(function (mutations, observer) {{\n        var display = window.getComputedStyle(gd).display;\n        if (!display || display === 'none') {{\n            console.log([gd, 'removed!']);\n            Plotly.purge(gd);\n            observer.disconnect();\n        }}\n}});\n\n// Listen for the removal of the full notebook cells\nvar notebookContainer = gd.closest('#notebook-container');\nif (notebookContainer) {{\n    x.observe(notebookContainer, {childList: true});\n}}\n\n// Listen for the clearing of the current output cell\nvar outputEl = gd.closest('.output');\nif (outputEl) {{\n    x.observe(outputEl, {childList: true});\n}}\n\n                        })                };                            </script>        </div>\n</body>\n</html>"
     },
     "metadata": {},
     "output_type": "display_data"
    }
   ]
  },
  {
   "cell_type": "code",
   "metadata": {
    "cell_id": "1d03e8e995804aebb69221af7763f1d9",
    "tags": [],
    "deepnote_to_be_reexecuted": false,
    "source_hash": "a36d6dec",
    "execution_start": 1651161232454,
    "execution_millis": 328,
    "deepnote_cell_type": "code",
    "deepnote_cell_height": 650.109375,
    "deepnote_output_heights": [
     21.1875,
     266.984375
    ]
   },
   "source": "# More about correlations:\n# https://www.w3schools.com/python/pandas/pandas_correlations.asp\n\nimport matplotlib.pyplot as plt\nimport seaborn as sns\n\nsns.heatmap(\n    pandas_iris_df.corr(),\n    cmap = \"OrRd\",\n    annot = True\n)\n\nplt.title(\"Correlations\")\nplt.plot()",
   "execution_count": null,
   "outputs": [
    {
     "output_type": "execute_result",
     "execution_count": 58,
     "data": {
      "text/plain": "[]"
     },
     "metadata": {}
    },
    {
     "data": {
      "text/plain": "<Figure size 432x288 with 2 Axes>",
      "image/png": "[encoded data removed]"
     },
     "metadata": {
      "needs_background": "light",
      "image/png": {
       "width": 411,
       "height": 265
      }
     },
     "output_type": "display_data"
    }
   ]
  },
  {
   "cell_type": "markdown",
   "source": "### 1.3 Write Spark Dataframe to SingleStore DB",
   "metadata": {
    "cell_id": "9d7799091843408e98eb6865e553fc57",
    "tags": [],
    "deepnote_cell_type": "markdown",
    "deepnote_cell_height": 61.953125
   }
  },
  {
   "cell_type": "code",
   "metadata": {
    "cell_id": "5fe4d4d37d6448eabfa4ac47abddd850",
    "tags": [],
    "deepnote_to_be_reexecuted": false,
    "source_hash": "2b8d4c12",
    "execution_start": 1651161238200,
    "execution_millis": 1492,
    "deepnote_cell_type": "code",
    "deepnote_cell_height": 170.953125
   },
   "source": "(iris_df.write\n    .format(\"singlestore\")\n    .option(\"loadDataCompression\", \"LZ4\")\n    .mode(\"overwrite\")\n    .save(\"iris_db.iris\")\n)",
   "execution_count": null,
   "outputs": []
  },
  {
   "cell_type": "markdown",
   "source": "## 2. MindsDB",
   "metadata": {
    "cell_id": "e6b19ddb65ac460787c99cdd63bc74b6",
    "tags": [],
    "deepnote_cell_type": "markdown",
    "deepnote_cell_height": 69.96875
   }
  },
  {
   "cell_type": "markdown",
   "source": "### 2.1 Create Spark Dataframe",
   "metadata": {
    "cell_id": "565a6744626c443a9073746ac05a85df",
    "tags": [],
    "deepnote_cell_type": "markdown",
    "deepnote_cell_height": 61.953125
   }
  },
  {
   "cell_type": "code",
   "metadata": {
    "cell_id": "d0545a3f69c24f10a81ad360584f4c24",
    "tags": [],
    "deepnote_to_be_reexecuted": false,
    "source_hash": "25a0f9fd",
    "execution_start": 1651161246028,
    "execution_millis": 6,
    "deepnote_cell_type": "code",
    "deepnote_cell_height": 170.953125
   },
   "source": "from pyspark.sql.types import *\n\nbtc_schema = StructType([\n    StructField(\"ds\", DateType(), True),\n    StructField(\"y\", FloatType(), True)\n])",
   "execution_count": null,
   "outputs": []
  },
  {
   "cell_type": "code",
   "metadata": {
    "cell_id": "0c4ed9e7ebda4806805eb8c8d7c63a75",
    "tags": [],
    "deepnote_to_be_reexecuted": false,
    "source_hash": "ef769fb3",
    "execution_start": 1651161249996,
    "execution_millis": 51,
    "deepnote_cell_type": "code",
    "deepnote_cell_height": 170.953125
   },
   "source": "btc_df = spark.read.csv(\n                    \"data/btc_data.csv\",\n                    header = True,\n                    dateFormat = \"YYYY-MM-DD\",\n                    schema = btc_schema\n                )",
   "execution_count": null,
   "outputs": []
  },
  {
   "cell_type": "code",
   "metadata": {
    "cell_id": "f4ebdc6ee0364c8db6c7ad254b358149",
    "tags": [],
    "deepnote_to_be_reexecuted": false,
    "source_hash": "6b617055",
    "execution_start": 1651161253896,
    "execution_millis": 173,
    "deepnote_cell_type": "code",
    "deepnote_cell_height": 308.1875
   },
   "source": "btc_df.show(5)",
   "execution_count": null,
   "outputs": [
    {
     "name": "stdout",
     "text": "+----------+---------+\n|        ds|        y|\n+----------+---------+\n|2011-12-31| 4.471603|\n|2012-01-01|     4.71|\n|2012-01-02|      5.0|\n|2012-01-03|   5.2525|\n|2012-01-04|5.2081594|\n+----------+---------+\nonly showing top 5 rows\n\n",
     "output_type": "stream"
    }
   ]
  },
  {
   "cell_type": "markdown",
   "source": "### 2.2 Write Spark Dataframe to SingleStore DB",
   "metadata": {
    "cell_id": "03d7e507f7e74ea399cf64088b21b3b8",
    "tags": [],
    "deepnote_cell_type": "markdown",
    "deepnote_cell_height": 61.953125
   }
  },
  {
   "cell_type": "code",
   "metadata": {
    "cell_id": "d73358aab3cf457588a4ccb294ed76a8",
    "tags": [],
    "deepnote_to_be_reexecuted": false,
    "source_hash": "846dad0c",
    "execution_start": 1651161266450,
    "execution_millis": 2302,
    "deepnote_cell_type": "code",
    "deepnote_cell_height": 170.953125
   },
   "source": "(btc_df.write\n    .format(\"singlestore\")\n    .option(\"loadDataCompression\", \"LZ4\")\n    .mode(\"overwrite\")\n    .save(\"btc_db.btc\")\n)",
   "execution_count": null,
   "outputs": []
  },
  {
   "cell_type": "markdown",
   "source": "### 2.3 Create MindsDB Datasource",
   "metadata": {
    "cell_id": "e6f3c0aa6aa04efda3973be761070b69",
    "tags": [],
    "deepnote_cell_type": "markdown",
    "deepnote_cell_height": 61.953125
   }
  },
  {
   "cell_type": "code",
   "metadata": {
    "tags": [],
    "deepnote_variable_name": "df_1",
    "sql_integration_id": "4a3995e6-e6c8-4cf8-aa3b-e89c56745f8f",
    "cell_id": "913ca81d269a4b6cb0a728ae0eb5160f",
    "deepnote_to_be_reexecuted": false,
    "source_hash": "2f92ff38",
    "execution_start": 1651161274401,
    "execution_millis": 2308,
    "deepnote_sql_source": "DROP DATASOURCE btc_data;",
    "deepnote_cell_type": "sql",
    "deepnote_cell_height": 120.953125
   },
   "source": "\n\ndf_1 = _deepnote_execute_sql(\"\"\"DROP DATASOURCE btc_data;\n\"\"\", 'SQL_4A3995E6_E6C8_4CF8_AA3B_E89C56745F8F')\ndf_1",
   "execution_count": null,
   "outputs": []
  },
  {
   "cell_type": "code",
   "metadata": {
    "tags": [],
    "deepnote_variable_name": "df_2",
    "sql_integration_id": "4a3995e6-e6c8-4cf8-aa3b-e89c56745f8f",
    "cell_id": "933835da01474f38a5f6c400ef7a3b62",
    "deepnote_to_be_reexecuted": false,
    "source_hash": "254f5ab5",
    "execution_start": 1651161282575,
    "execution_millis": 2884,
    "deepnote_sql_source": "CREATE DATASOURCE btc_data\nWITH ENGINE = \"singlestore\",\n    PARAMETERS = {\n        \"user\" : \"admin\",\n        \"password\" : \"<TO DO>\",\n        \"host\" : \"<TO DO>\",\n        \"port\" : 3306,\n        \"database\" : \"btc_db\"\n    }",
    "deepnote_cell_type": "sql",
    "deepnote_cell_height": 264.953125
   },
   "source": "\n\ndf_2 = _deepnote_execute_sql(\"\"\"CREATE DATASOURCE btc_data\nWITH ENGINE = \"singlestore\",\n    PARAMETERS = {\n        \"user\" : \"admin\",\n        \"password\" : \"<TO DO>\",\n        \"host\" : \"<TO DO>\",\n        \"port\" : 3306,\n        \"database\" : \"btc_db\"\n    }\n\"\"\", 'SQL_4A3995E6_E6C8_4CF8_AA3B_E89C56745F8F')\ndf_2",
   "execution_count": null,
   "outputs": []
  },
  {
   "cell_type": "code",
   "metadata": {
    "tags": [],
    "deepnote_variable_name": "df_3",
    "sql_integration_id": "4a3995e6-e6c8-4cf8-aa3b-e89c56745f8f",
    "cell_id": "3f81d83057a74b00a4d9723b88b649e3",
    "deepnote_to_be_reexecuted": false,
    "source_hash": "4780f177",
    "execution_start": 1651161291140,
    "execution_millis": 3022,
    "deepnote_sql_source": "SELECT *\nFROM btc_data.btc\nORDER BY ds\nLIMIT 5;",
    "deepnote_cell_type": "sql",
    "deepnote_cell_height": 488.90625
   },
   "source": "\n\ndf_3 = _deepnote_execute_sql(\"\"\"SELECT *\nFROM btc_data.btc\nORDER BY ds\nLIMIT 5;\n\"\"\", 'SQL_4A3995E6_E6C8_4CF8_AA3B_E89C56745F8F')\ndf_3",
   "execution_count": null,
   "outputs": [
    {
     "output_type": "execute_result",
     "execution_count": 66,
     "data": {
      "application/vnd.deepnote.dataframe.v3+json": {
       "column_count": 2,
       "row_count": 5,
       "columns": [
        {
         "name": "ds",
         "dtype": "object",
         "stats": {
          "unique_count": 5,
          "nan_count": 0,
          "categories": [
           {
            "name": "2011-12-31",
            "count": 1
           },
           {
            "name": "2012-01-01",
            "count": 1
           },
           {
            "name": "3 others",
            "count": 3
           }
          ]
         }
        },
        {
         "name": "y",
         "dtype": "object",
         "stats": {
          "unique_count": 5,
          "nan_count": 0,
          "categories": [
           {
            "name": "4.4716",
            "count": 1
           },
           {
            "name": "4.71",
            "count": 1
           },
           {
            "name": "3 others",
            "count": 3
           }
          ]
         }
        },
        {
         "name": "_deepnote_index_column",
         "dtype": "int64"
        }
       ],
       "rows": [
        {
         "ds": "2011-12-31",
         "y": "4.4716",
         "_deepnote_index_column": 0
        },
        {
         "ds": "2012-01-01",
         "y": "4.71",
         "_deepnote_index_column": 1
        },
        {
         "ds": "2012-01-02",
         "y": "5.0",
         "_deepnote_index_column": 2
        },
        {
         "ds": "2012-01-03",
         "y": "5.2525",
         "_deepnote_index_column": 3
        },
        {
         "ds": "2012-01-04",
         "y": "5.20816",
         "_deepnote_index_column": 4
        }
       ]
      },
      "text/plain": "           ds        y\n0  2011-12-31   4.4716\n1  2012-01-01     4.71\n2  2012-01-02      5.0\n3  2012-01-03   5.2525\n4  2012-01-04  5.20816",
      "text/html": "<div>\n<style scoped>\n    .dataframe tbody tr th:only-of-type {\n        vertical-align: middle;\n    }\n\n    .dataframe tbody tr th {\n        vertical-align: top;\n    }\n\n    .dataframe thead th {\n        text-align: right;\n    }\n</style>\n<table border=\"1\" class=\"dataframe\">\n  <thead>\n    <tr style=\"text-align: right;\">\n      <th></th>\n      <th>ds</th>\n      <th>y</th>\n    </tr>\n  </thead>\n  <tbody>\n    <tr>\n      <th>0</th>\n      <td>2011-12-31</td>\n      <td>4.4716</td>\n    </tr>\n    <tr>\n      <th>1</th>\n      <td>2012-01-01</td>\n      <td>4.71</td>\n    </tr>\n    <tr>\n      <th>2</th>\n      <td>2012-01-02</td>\n      <td>5.0</td>\n    </tr>\n    <tr>\n      <th>3</th>\n      <td>2012-01-03</td>\n      <td>5.2525</td>\n    </tr>\n    <tr>\n      <th>4</th>\n      <td>2012-01-04</td>\n      <td>5.20816</td>\n    </tr>\n  </tbody>\n</table>\n</div>"
     },
     "metadata": {}
    }
   ]
  },
  {
   "cell_type": "markdown",
   "source": "### 2.4 Create MindsDB Predictor",
   "metadata": {
    "cell_id": "3e6b9bbfaec049908992dfb9988b5645",
    "tags": [],
    "deepnote_cell_type": "markdown",
    "deepnote_cell_height": 61.953125
   }
  },
  {
   "cell_type": "code",
   "metadata": {
    "tags": [],
    "deepnote_variable_name": "df_4",
    "sql_integration_id": "4a3995e6-e6c8-4cf8-aa3b-e89c56745f8f",
    "cell_id": "b95d44675d2b4035ad131ba65cc50ee9",
    "deepnote_to_be_reexecuted": false,
    "source_hash": "d01ba6a",
    "execution_start": 1651161303709,
    "execution_millis": 1938,
    "deepnote_sql_source": "DROP PREDICTOR mindsdb.btc_pred;",
    "deepnote_cell_type": "sql",
    "deepnote_cell_height": 120.953125
   },
   "source": "\n\ndf_4 = _deepnote_execute_sql(\"\"\"DROP PREDICTOR mindsdb.btc_pred;\n\"\"\", 'SQL_4A3995E6_E6C8_4CF8_AA3B_E89C56745F8F')\ndf_4",
   "execution_count": null,
   "outputs": []
  },
  {
   "cell_type": "code",
   "metadata": {
    "tags": [],
    "deepnote_variable_name": "df_5",
    "sql_integration_id": "4a3995e6-e6c8-4cf8-aa3b-e89c56745f8f",
    "cell_id": "38e61fb0da1443cb8ae2ff7eca8d3876",
    "deepnote_to_be_reexecuted": false,
    "source_hash": "d8b72a66",
    "execution_start": 1651161308833,
    "execution_millis": 11635,
    "deepnote_sql_source": "CREATE PREDICTOR btc_pred\nFROM btc_data\n    (SELECT * FROM btc)\nPREDICT y\nORDER BY ds\nWINDOW 1;",
    "deepnote_cell_type": "sql",
    "deepnote_cell_height": 210.953125
   },
   "source": "\n\ndf_5 = _deepnote_execute_sql(\"\"\"CREATE PREDICTOR btc_pred\nFROM btc_data\n    (SELECT * FROM btc)\nPREDICT y\nORDER BY ds\nWINDOW 1;\n\"\"\", 'SQL_4A3995E6_E6C8_4CF8_AA3B_E89C56745F8F')\ndf_5",
   "execution_count": null,
   "outputs": []
  },
  {
   "cell_type": "code",
   "metadata": {
    "tags": [],
    "deepnote_variable_name": "df_6",
    "sql_integration_id": "4a3995e6-e6c8-4cf8-aa3b-e89c56745f8f",
    "cell_id": "6678bfec55654685bc0c4295e4545813",
    "deepnote_to_be_reexecuted": false,
    "source_hash": "42a166ee",
    "execution_start": 1651161366321,
    "execution_millis": 2217,
    "deepnote_sql_source": "SHOW PREDICTORS;",
    "deepnote_cell_type": "sql",
    "deepnote_cell_height": 331.921875
   },
   "source": "\n\ndf_6 = _deepnote_execute_sql(\"\"\"SHOW PREDICTORS;\n\"\"\", 'SQL_4A3995E6_E6C8_4CF8_AA3B_E89C56745F8F')\ndf_6",
   "execution_count": null,
   "outputs": [
    {
     "output_type": "execute_result",
     "execution_count": 70,
     "data": {
      "application/vnd.deepnote.dataframe.v3+json": {
       "column_count": 9,
       "row_count": 2,
       "columns": [
        {
         "name": "name",
         "dtype": "object",
         "stats": {
          "unique_count": 2,
          "nan_count": 0,
          "categories": [
           {
            "name": "btc_pred",
            "count": 1
           },
           {
            "name": "iris_model_v1",
            "count": 1
           }
          ]
         }
        },
        {
         "name": "status",
         "dtype": "object",
         "stats": {
          "unique_count": 1,
          "nan_count": 0,
          "categories": [
           {
            "name": "complete",
            "count": 2
           }
          ]
         }
        },
        {
         "name": "accuracy",
         "dtype": "object",
         "stats": {
          "unique_count": 2,
          "nan_count": 0,
          "categories": [
           {
            "name": "0.45486975274253294",
            "count": 1
           },
           {
            "name": "0.9333333333333332",
            "count": 1
           }
          ]
         }
        },
        {
         "name": "predict",
         "dtype": "object",
         "stats": {
          "unique_count": 2,
          "nan_count": 0,
          "categories": [
           {
            "name": "y",
            "count": 1
           },
           {
            "name": "species",
            "count": 1
           }
          ]
         }
        },
        {
         "name": "update_status",
         "dtype": "object",
         "stats": {
          "unique_count": 1,
          "nan_count": 0,
          "categories": [
           {
            "name": "up_to_date",
            "count": 2
           }
          ]
         }
        },
        {
         "name": "mindsdb_version",
         "dtype": "object",
         "stats": {
          "unique_count": 2,
          "nan_count": 0,
          "categories": [
           {
            "name": "22.4.5.0",
            "count": 1
           },
           {
            "name": "22.3.5.0",
            "count": 1
           }
          ]
         }
        },
        {
         "name": "error",
         "dtype": "object",
         "stats": {
          "unique_count": 0,
          "nan_count": 2,
          "categories": [
           {
            "name": "Missing",
            "count": 2
           }
          ]
         }
        },
        {
         "name": "select_data_query",
         "dtype": "object",
         "stats": {
          "unique_count": 1,
          "nan_count": 0,
          "categories": [
           {
            "name": "",
            "count": 2
           }
          ]
         }
        },
        {
         "name": "training_options",
         "dtype": "object",
         "stats": {
          "unique_count": 1,
          "nan_count": 0,
          "categories": [
           {
            "name": "",
            "count": 2
           }
          ]
         }
        },
        {
         "name": "_deepnote_index_column",
         "dtype": "int64"
        }
       ],
       "rows": [
        {
         "name": "btc_pred",
         "status": "complete",
         "accuracy": "0.45486975274253294",
         "predict": "y",
         "update_status": "up_to_date",
         "mindsdb_version": "22.4.5.0",
         "error": "None",
         "select_data_query": "",
         "training_options": "",
         "_deepnote_index_column": 0
        },
        {
         "name": "iris_model_v1",
         "status": "complete",
         "accuracy": "0.9333333333333332",
         "predict": "species",
         "update_status": "up_to_date",
         "mindsdb_version": "22.3.5.0",
         "error": "None",
         "select_data_query": "",
         "training_options": "",
         "_deepnote_index_column": 1
        }
       ]
      },
      "text/plain": "            name    status             accuracy  predict update_status  \\\n0       btc_pred  complete  0.45486975274253294        y    up_to_date   \n1  iris_model_v1  complete   0.9333333333333332  species    up_to_date   \n\n  mindsdb_version error select_data_query training_options  \n0        22.4.5.0  None                                     \n1        22.3.5.0  None                                     ",
      "text/html": "<div>\n<style scoped>\n    .dataframe tbody tr th:only-of-type {\n        vertical-align: middle;\n    }\n\n    .dataframe tbody tr th {\n        vertical-align: top;\n    }\n\n    .dataframe thead th {\n        text-align: right;\n    }\n</style>\n<table border=\"1\" class=\"dataframe\">\n  <thead>\n    <tr style=\"text-align: right;\">\n      <th></th>\n      <th>name</th>\n      <th>status</th>\n      <th>accuracy</th>\n      <th>predict</th>\n      <th>update_status</th>\n      <th>mindsdb_version</th>\n      <th>error</th>\n      <th>select_data_query</th>\n      <th>training_options</th>\n    </tr>\n  </thead>\n  <tbody>\n    <tr>\n      <th>0</th>\n      <td>btc_pred</td>\n      <td>complete</td>\n      <td>0.45486975274253294</td>\n      <td>y</td>\n      <td>up_to_date</td>\n      <td>22.4.5.0</td>\n      <td>None</td>\n      <td></td>\n      <td></td>\n    </tr>\n    <tr>\n      <th>1</th>\n      <td>iris_model_v1</td>\n      <td>complete</td>\n      <td>0.9333333333333332</td>\n      <td>species</td>\n      <td>up_to_date</td>\n      <td>22.3.5.0</td>\n      <td>None</td>\n      <td></td>\n      <td></td>\n    </tr>\n  </tbody>\n</table>\n</div>"
     },
     "metadata": {}
    }
   ]
  },
  {
   "cell_type": "code",
   "metadata": {
    "tags": [],
    "deepnote_variable_name": "df_7",
    "sql_integration_id": "4a3995e6-e6c8-4cf8-aa3b-e89c56745f8f",
    "cell_id": "11787eac4efb49e288d69ea0366909ed",
    "deepnote_to_be_reexecuted": false,
    "source_hash": "ab1f57d9",
    "execution_start": 1651161376498,
    "execution_millis": 1824,
    "deepnote_sql_source": "DESCRIBE btc_pred;",
    "deepnote_cell_type": "sql",
    "deepnote_cell_height": 290.9375
   },
   "source": "\n\ndf_7 = _deepnote_execute_sql(\"\"\"DESCRIBE btc_pred;\n\"\"\", 'SQL_4A3995E6_E6C8_4CF8_AA3B_E89C56745F8F')\ndf_7",
   "execution_count": null,
   "outputs": [
    {
     "output_type": "execute_result",
     "execution_count": 71,
     "data": {
      "application/vnd.deepnote.dataframe.v3+json": {
       "column_count": 6,
       "row_count": 1,
       "columns": [
        {
         "name": "accuracies",
         "dtype": "object",
         "stats": {
          "unique_count": 1,
          "nan_count": 0,
          "categories": [
           {
            "name": "{'evaluate_num_array_accuracy': 0.45486975274253294}",
            "count": 1
           }
          ]
         }
        },
        {
         "name": "column_importances",
         "dtype": "object",
         "stats": {
          "unique_count": 1,
          "nan_count": 0,
          "categories": [
           {
            "name": "{}",
            "count": 1
           }
          ]
         }
        },
        {
         "name": "outputs",
         "dtype": "object",
         "stats": {
          "unique_count": 1,
          "nan_count": 0,
          "categories": [
           {
            "name": "['y']",
            "count": 1
           }
          ]
         }
        },
        {
         "name": "inputs",
         "dtype": "object",
         "stats": {
          "unique_count": 1,
          "nan_count": 0,
          "categories": [
           {
            "name": "['ds', '__mdb_ts_previous_y']",
            "count": 1
           }
          ]
         }
        },
        {
         "name": "datasource",
         "dtype": "object",
         "stats": {
          "unique_count": 1,
          "nan_count": 0,
          "categories": [
           {
            "name": "btc_pred_31",
            "count": 1
           }
          ]
         }
        },
        {
         "name": "model",
         "dtype": "object",
         "stats": {
          "unique_count": 1,
          "nan_count": 0,
          "categories": [
           {
            "name": "encoders --> dtype_dict --> dependency_dict --> model --> problem_definition --> identifiers --> accuracy_functions",
            "count": 1
           }
          ]
         }
        },
        {
         "name": "_deepnote_index_column",
         "dtype": "int64"
        }
       ],
       "rows": [
        {
         "accuracies": "{'evaluate_num_array_accuracy': 0.45486975274253294}",
         "column_importances": "{}",
         "outputs": "['y']",
         "inputs": "['ds', '__mdb_ts_previous_y']",
         "datasource": "btc_pred_31",
         "model": "encoders --> dtype_dict --> dependency_dict --> model --> problem_definition --> identifiers --> accuracy_functions",
         "_deepnote_index_column": 0
        }
       ]
      },
      "text/plain": "                                          accuracies column_importances  \\\n0  {'evaluate_num_array_accuracy': 0.454869752742...                 {}   \n\n  outputs                         inputs   datasource  \\\n0   ['y']  ['ds', '__mdb_ts_previous_y']  btc_pred_31   \n\n                                               model  \n0  encoders --> dtype_dict --> dependency_dict --...  ",
      "text/html": "<div>\n<style scoped>\n    .dataframe tbody tr th:only-of-type {\n        vertical-align: middle;\n    }\n\n    .dataframe tbody tr th {\n        vertical-align: top;\n    }\n\n    .dataframe thead th {\n        text-align: right;\n    }\n</style>\n<table border=\"1\" class=\"dataframe\">\n  <thead>\n    <tr style=\"text-align: right;\">\n      <th></th>\n      <th>accuracies</th>\n      <th>column_importances</th>\n      <th>outputs</th>\n      <th>inputs</th>\n      <th>datasource</th>\n      <th>model</th>\n    </tr>\n  </thead>\n  <tbody>\n    <tr>\n      <th>0</th>\n      <td>{'evaluate_num_array_accuracy': 0.454869752742...</td>\n      <td>{}</td>\n      <td>['y']</td>\n      <td>['ds', '__mdb_ts_previous_y']</td>\n      <td>btc_pred_31</td>\n      <td>encoders --&gt; dtype_dict --&gt; dependency_dict --...</td>\n    </tr>\n  </tbody>\n</table>\n</div>"
     },
     "metadata": {}
    }
   ]
  },
  {
   "cell_type": "code",
   "metadata": {
    "tags": [],
    "deepnote_variable_name": "df_8",
    "sql_integration_id": "4a3995e6-e6c8-4cf8-aa3b-e89c56745f8f",
    "cell_id": "742be6c284b448708f14b5b88d70cd0a",
    "deepnote_to_be_reexecuted": false,
    "source_hash": "75bae673",
    "execution_start": 1651161382358,
    "execution_millis": 1971,
    "deepnote_sql_source": "DESCRIBE btc_pred.features;",
    "deepnote_cell_type": "sql",
    "deepnote_cell_height": 311.921875
   },
   "source": "\n\ndf_8 = _deepnote_execute_sql(\"\"\"DESCRIBE btc_pred.features;\n\"\"\", 'SQL_4A3995E6_E6C8_4CF8_AA3B_E89C56745F8F')\ndf_8",
   "execution_count": null,
   "outputs": [
    {
     "output_type": "execute_result",
     "execution_count": 72,
     "data": {
      "application/vnd.deepnote.dataframe.v3+json": {
       "column_count": 4,
       "row_count": 2,
       "columns": [
        {
         "name": "column",
         "dtype": "object",
         "stats": {
          "unique_count": 2,
          "nan_count": 0,
          "categories": [
           {
            "name": "ds",
            "count": 1
           },
           {
            "name": "y",
            "count": 1
           }
          ]
         }
        },
        {
         "name": "type",
         "dtype": "object",
         "stats": {
          "unique_count": 2,
          "nan_count": 0,
          "categories": [
           {
            "name": "date",
            "count": 1
           },
           {
            "name": "float",
            "count": 1
           }
          ]
         }
        },
        {
         "name": "encoder",
         "dtype": "object",
         "stats": {
          "unique_count": 2,
          "nan_count": 0,
          "categories": [
           {
            "name": "ArrayEncoder",
            "count": 1
           },
           {
            "name": "TsNumericEncoder",
            "count": 1
           }
          ]
         }
        },
        {
         "name": "role",
         "dtype": "object",
         "stats": {
          "unique_count": 2,
          "nan_count": 0,
          "categories": [
           {
            "name": "feature",
            "count": 1
           },
           {
            "name": "target",
            "count": 1
           }
          ]
         }
        },
        {
         "name": "_deepnote_index_column",
         "dtype": "int64"
        }
       ],
       "rows": [
        {
         "column": "ds",
         "type": "date",
         "encoder": "ArrayEncoder",
         "role": "feature",
         "_deepnote_index_column": 0
        },
        {
         "column": "y",
         "type": "float",
         "encoder": "TsNumericEncoder",
         "role": "target",
         "_deepnote_index_column": 1
        }
       ]
      },
      "text/plain": "  column   type           encoder     role\n0     ds   date      ArrayEncoder  feature\n1      y  float  TsNumericEncoder   target",
      "text/html": "<div>\n<style scoped>\n    .dataframe tbody tr th:only-of-type {\n        vertical-align: middle;\n    }\n\n    .dataframe tbody tr th {\n        vertical-align: top;\n    }\n\n    .dataframe thead th {\n        text-align: right;\n    }\n</style>\n<table border=\"1\" class=\"dataframe\">\n  <thead>\n    <tr style=\"text-align: right;\">\n      <th></th>\n      <th>column</th>\n      <th>type</th>\n      <th>encoder</th>\n      <th>role</th>\n    </tr>\n  </thead>\n  <tbody>\n    <tr>\n      <th>0</th>\n      <td>ds</td>\n      <td>date</td>\n      <td>ArrayEncoder</td>\n      <td>feature</td>\n    </tr>\n    <tr>\n      <th>1</th>\n      <td>y</td>\n      <td>float</td>\n      <td>TsNumericEncoder</td>\n      <td>target</td>\n    </tr>\n  </tbody>\n</table>\n</div>"
     },
     "metadata": {}
    }
   ]
  },
  {
   "cell_type": "markdown",
   "source": "### 2.5 Show MindsDB Predictions",
   "metadata": {
    "cell_id": "31a8d0f4521e479da4adf9dedc93003f",
    "tags": [],
    "deepnote_cell_type": "markdown",
    "deepnote_cell_height": 61.953125
   }
  },
  {
   "cell_type": "code",
   "metadata": {
    "tags": [],
    "deepnote_variable_name": "pred_10_df",
    "sql_integration_id": "4a3995e6-e6c8-4cf8-aa3b-e89c56745f8f",
    "cell_id": "66a45ff8926841bc9a50fbbbcb37bb30",
    "deepnote_to_be_reexecuted": false,
    "source_hash": "286c95be",
    "execution_start": 1651161391500,
    "execution_millis": 29242,
    "deepnote_sql_source": "SELECT orig_table.ds AS date, pred_table.y AS predicted_y, orig_table.y AS actual_y\nFROM btc_data.btc AS orig_table\nJOIN mindsdb.btc_pred AS pred_table\nWHERE orig_table.ds > '2011-12-30'\nLIMIT 10;",
    "deepnote_table_state": {
     "pageSize": 10,
     "pageIndex": 0,
     "filters": [],
     "sortBy": []
    },
    "deepnote_table_loading": false,
    "deepnote_cell_type": "sql",
    "deepnote_cell_height": 711.875
   },
   "source": "\n\npred_10_df = _deepnote_execute_sql(\"\"\"SELECT orig_table.ds AS date, pred_table.y AS predicted_y, orig_table.y AS actual_y\nFROM btc_data.btc AS orig_table\nJOIN mindsdb.btc_pred AS pred_table\nWHERE orig_table.ds > '2011-12-30'\nLIMIT 10;\n\"\"\", 'SQL_4A3995E6_E6C8_4CF8_AA3B_E89C56745F8F')\npred_10_df",
   "execution_count": null,
   "outputs": [
    {
     "output_type": "execute_result",
     "execution_count": 73,
     "data": {
      "application/vnd.deepnote.dataframe.v3+json": {
       "column_count": 3,
       "row_count": 10,
       "columns": [
        {
         "name": "date",
         "dtype": "object",
         "stats": {
          "unique_count": 10,
          "nan_count": 0,
          "categories": [
           {
            "name": "2020-09-14",
            "count": 1
           },
           {
            "name": "2020-09-13",
            "count": 1
           },
           {
            "name": "8 others",
            "count": 8
           }
          ]
         }
        },
        {
         "name": "predicted_y",
         "dtype": "float64",
         "stats": {
          "unique_count": 10,
          "nan_count": 0,
          "min": "10156.737703604405",
          "max": "10588.904678141687",
          "histogram": [
           {
            "bin_start": 10156.737703604405,
            "bin_end": 10199.954401058134,
            "count": 3
           },
           {
            "bin_start": 10199.954401058134,
            "bin_end": 10243.171098511863,
            "count": 1
           },
           {
            "bin_start": 10243.171098511863,
            "bin_end": 10286.38779596559,
            "count": 1
           },
           {
            "bin_start": 10286.38779596559,
            "bin_end": 10329.604493419318,
            "count": 1
           },
           {
            "bin_start": 10329.604493419318,
            "bin_end": 10372.821190873046,
            "count": 2
           },
           {
            "bin_start": 10372.821190873046,
            "bin_end": 10416.037888326775,
            "count": 1
           },
           {
            "bin_start": 10416.037888326775,
            "bin_end": 10459.254585780503,
            "count": 0
           },
           {
            "bin_start": 10459.254585780503,
            "bin_end": 10502.47128323423,
            "count": 0
           },
           {
            "bin_start": 10502.47128323423,
            "bin_end": 10545.687980687959,
            "count": 0
           },
           {
            "bin_start": 10545.687980687959,
            "bin_end": 10588.904678141687,
            "count": 1
           }
          ]
         }
        },
        {
         "name": "actual_y",
         "dtype": "float64",
         "stats": {
          "unique_count": 10,
          "nan_count": 0,
          "min": "10159.2",
          "max": "10409.8",
          "histogram": [
           {
            "bin_start": 10159.2,
            "bin_end": 10184.26,
            "count": 4
           },
           {
            "bin_start": 10184.26,
            "bin_end": 10209.32,
            "count": 0
           },
           {
            "bin_start": 10209.32,
            "bin_end": 10234.380000000001,
            "count": 0
           },
           {
            "bin_start": 10234.380000000001,
            "bin_end": 10259.44,
            "count": 0
           },
           {
            "bin_start": 10259.44,
            "bin_end": 10284.5,
            "count": 0
           },
           {
            "bin_start": 10284.5,
            "bin_end": 10309.56,
            "count": 1
           },
           {
            "bin_start": 10309.56,
            "bin_end": 10334.619999999999,
            "count": 3
           },
           {
            "bin_start": 10334.619999999999,
            "bin_end": 10359.68,
            "count": 0
           },
           {
            "bin_start": 10359.68,
            "bin_end": 10384.74,
            "count": 1
           },
           {
            "bin_start": 10384.74,
            "bin_end": 10409.8,
            "count": 1
           }
          ]
         }
        },
        {
         "name": "_deepnote_index_column",
         "dtype": "int64"
        }
       ],
       "rows": [
        {
         "date": "2020-09-14",
         "predicted_y": 10388.046619416727,
         "actual_y": 10314.3,
         "_deepnote_index_column": 0
        },
        {
         "date": "2020-09-13",
         "predicted_y": 10337.436201070366,
         "actual_y": 10409.8,
         "_deepnote_index_column": 1
        },
        {
         "date": "2020-09-12",
         "predicted_y": 10298.611981465672,
         "actual_y": 10363.9,
         "_deepnote_index_column": 2
        },
        {
         "date": "2020-09-11",
         "predicted_y": 10275.237535814897,
         "actual_y": 10299.2,
         "_deepnote_index_column": 3
        },
        {
         "date": "2020-09-10",
         "predicted_y": 10157.706201274084,
         "actual_y": 10329.1,
         "_deepnote_index_column": 4
        },
        {
         "date": "2020-09-09",
         "predicted_y": 10163.48052954538,
         "actual_y": 10161.5,
         "_deepnote_index_column": 5
        },
        {
         "date": "2020-09-08",
         "predicted_y": 10156.737703604405,
         "actual_y": 10175.6,
         "_deepnote_index_column": 6
        },
        {
         "date": "2020-09-07",
         "predicted_y": 10209.844514505841,
         "actual_y": 10159.2,
         "_deepnote_index_column": 7
        },
        {
         "date": "2020-09-06",
         "predicted_y": 10335.93543291758,
         "actual_y": 10178.4,
         "_deepnote_index_column": 8
        },
        {
         "date": "2020-09-05",
         "predicted_y": 10588.904678141687,
         "actual_y": 10324.6,
         "_deepnote_index_column": 9
        }
       ]
      },
      "text/plain": "         date   predicted_y  actual_y\n0  2020-09-14  10388.046619   10314.3\n1  2020-09-13  10337.436201   10409.8\n2  2020-09-12  10298.611981   10363.9\n3  2020-09-11  10275.237536   10299.2\n4  2020-09-10  10157.706201   10329.1\n5  2020-09-09  10163.480530   10161.5\n6  2020-09-08  10156.737704   10175.6\n7  2020-09-07  10209.844515   10159.2\n8  2020-09-06  10335.935433   10178.4\n9  2020-09-05  10588.904678   10324.6",
      "text/html": "<div>\n<style scoped>\n    .dataframe tbody tr th:only-of-type {\n        vertical-align: middle;\n    }\n\n    .dataframe tbody tr th {\n        vertical-align: top;\n    }\n\n    .dataframe thead th {\n        text-align: right;\n    }\n</style>\n<table border=\"1\" class=\"dataframe\">\n  <thead>\n    <tr style=\"text-align: right;\">\n      <th></th>\n      <th>date</th>\n      <th>predicted_y</th>\n      <th>actual_y</th>\n    </tr>\n  </thead>\n  <tbody>\n    <tr>\n      <th>0</th>\n      <td>2020-09-14</td>\n      <td>10388.046619</td>\n      <td>10314.3</td>\n    </tr>\n    <tr>\n      <th>1</th>\n      <td>2020-09-13</td>\n      <td>10337.436201</td>\n      <td>10409.8</td>\n    </tr>\n    <tr>\n      <th>2</th>\n      <td>2020-09-12</td>\n      <td>10298.611981</td>\n      <td>10363.9</td>\n    </tr>\n    <tr>\n      <th>3</th>\n      <td>2020-09-11</td>\n      <td>10275.237536</td>\n      <td>10299.2</td>\n    </tr>\n    <tr>\n      <th>4</th>\n      <td>2020-09-10</td>\n      <td>10157.706201</td>\n      <td>10329.1</td>\n    </tr>\n    <tr>\n      <th>5</th>\n      <td>2020-09-09</td>\n      <td>10163.480530</td>\n      <td>10161.5</td>\n    </tr>\n    <tr>\n      <th>6</th>\n      <td>2020-09-08</td>\n      <td>10156.737704</td>\n      <td>10175.6</td>\n    </tr>\n    <tr>\n      <th>7</th>\n      <td>2020-09-07</td>\n      <td>10209.844515</td>\n      <td>10159.2</td>\n    </tr>\n    <tr>\n      <th>8</th>\n      <td>2020-09-06</td>\n      <td>10335.935433</td>\n      <td>10178.4</td>\n    </tr>\n    <tr>\n      <th>9</th>\n      <td>2020-09-05</td>\n      <td>10588.904678</td>\n      <td>10324.6</td>\n    </tr>\n  </tbody>\n</table>\n</div>"
     },
     "metadata": {}
    }
   ]
  },
  {
   "cell_type": "code",
   "metadata": {
    "cell_id": "b838f2b413a6488fb4cb93634b52fc79",
    "tags": [],
    "deepnote_to_be_reexecuted": false,
    "source_hash": "da6562ac",
    "execution_start": 1651161427164,
    "execution_millis": 70,
    "deepnote_cell_type": "code",
    "deepnote_cell_height": 731.953125
   },
   "source": "line_fig = px.line(\n                pred_10_df,\n                x = \"date\",\n                y = [\"actual_y\", \"predicted_y\"]\n            )\n\nline_fig.show()",
   "execution_count": null,
   "outputs": [
    {
     "data": {
      "text/html": "<html>\n<head><meta charset=\"utf-8\" /></head>\n<body>\n    <div>            <script src=\"https://cdnjs.cloudflare.com/ajax/libs/mathjax/2.7.5/MathJax.js?config=TeX-AMS-MML_SVG\"></script><script type=\"text/javascript\">if (window.MathJax) {MathJax.Hub.Config({SVG: {font: \"STIX-Web\"}});}</script>                <script type=\"text/javascript\">window.PlotlyConfig = {MathJaxConfig: 'local'};</script>\n        <script src=\"https://cdn.plot.ly/plotly-2.11.1.min.js\"></script>                <div id=\"505e1ab0-27a0-4bbc-a3b4-e3820efba0e4\" class=\"plotly-graph-div\" style=\"height:525px; width:100%;\"></div>            <script type=\"text/javascript\">                                    window.PLOTLYENV=window.PLOTLYENV || {};                                    if (document.getElementById(\"505e1ab0-27a0-4bbc-a3b4-e3820efba0e4\")) {                    Plotly.newPlot(                        \"505e1ab0-27a0-4bbc-a3b4-e3820efba0e4\",                        [{\"hovertemplate\":\"variable=actual_y<br>date=%{x}<br>value=%{y}<extra></extra>\",\"legendgroup\":\"actual_y\",\"line\":{\"color\":\"#636efa\",\"dash\":\"solid\"},\"marker\":{\"symbol\":\"circle\"},\"mode\":\"lines\",\"name\":\"actual_y\",\"orientation\":\"v\",\"showlegend\":true,\"x\":[\"2020-09-14\",\"2020-09-13\",\"2020-09-12\",\"2020-09-11\",\"2020-09-10\",\"2020-09-09\",\"2020-09-08\",\"2020-09-07\",\"2020-09-06\",\"2020-09-05\"],\"xaxis\":\"x\",\"y\":[10314.3,10409.8,10363.9,10299.2,10329.1,10161.5,10175.6,10159.2,10178.4,10324.6],\"yaxis\":\"y\",\"type\":\"scatter\"},{\"hovertemplate\":\"variable=predicted_y<br>date=%{x}<br>value=%{y}<extra></extra>\",\"legendgroup\":\"predicted_y\",\"line\":{\"color\":\"#EF553B\",\"dash\":\"solid\"},\"marker\":{\"symbol\":\"circle\"},\"mode\":\"lines\",\"name\":\"predicted_y\",\"orientation\":\"v\",\"showlegend\":true,\"x\":[\"2020-09-14\",\"2020-09-13\",\"2020-09-12\",\"2020-09-11\",\"2020-09-10\",\"2020-09-09\",\"2020-09-08\",\"2020-09-07\",\"2020-09-06\",\"2020-09-05\"],\"xaxis\":\"x\",\"y\":[10388.046619416727,10337.436201070366,10298.611981465672,10275.237535814897,10157.706201274084,10163.48052954538,10156.737703604405,10209.844514505841,10335.93543291758,10588.904678141687],\"yaxis\":\"y\",\"type\":\"scatter\"}],                        {\"template\":{\"data\":{\"histogram2dcontour\":[{\"type\":\"histogram2dcontour\",\"colorbar\":{\"outlinewidth\":0,\"ticks\":\"\"},\"colorscale\":[[0.0,\"#0d0887\"],[0.1111111111111111,\"#46039f\"],[0.2222222222222222,\"#7201a8\"],[0.3333333333333333,\"#9c179e\"],[0.4444444444444444,\"#bd3786\"],[0.5555555555555556,\"#d8576b\"],[0.6666666666666666,\"#ed7953\"],[0.7777777777777778,\"#fb9f3a\"],[0.8888888888888888,\"#fdca26\"],[1.0,\"#f0f921\"]]}],\"choropleth\":[{\"type\":\"choropleth\",\"colorbar\":{\"outlinewidth\":0,\"ticks\":\"\"}}],\"histogram2d\":[{\"type\":\"histogram2d\",\"colorbar\":{\"outlinewidth\":0,\"ticks\":\"\"},\"colorscale\":[[0.0,\"#0d0887\"],[0.1111111111111111,\"#46039f\"],[0.2222222222222222,\"#7201a8\"],[0.3333333333333333,\"#9c179e\"],[0.4444444444444444,\"#bd3786\"],[0.5555555555555556,\"#d8576b\"],[0.6666666666666666,\"#ed7953\"],[0.7777777777777778,\"#fb9f3a\"],[0.8888888888888888,\"#fdca26\"],[1.0,\"#f0f921\"]]}],\"heatmap\":[{\"type\":\"heatmap\",\"colorbar\":{\"outlinewidth\":0,\"ticks\":\"\"},\"colorscale\":[[0.0,\"#0d0887\"],[0.1111111111111111,\"#46039f\"],[0.2222222222222222,\"#7201a8\"],[0.3333333333333333,\"#9c179e\"],[0.4444444444444444,\"#bd3786\"],[0.5555555555555556,\"#d8576b\"],[0.6666666666666666,\"#ed7953\"],[0.7777777777777778,\"#fb9f3a\"],[0.8888888888888888,\"#fdca26\"],[1.0,\"#f0f921\"]]}],\"heatmapgl\":[{\"type\":\"heatmapgl\",\"colorbar\":{\"outlinewidth\":0,\"ticks\":\"\"},\"colorscale\":[[0.0,\"#0d0887\"],[0.1111111111111111,\"#46039f\"],[0.2222222222222222,\"#7201a8\"],[0.3333333333333333,\"#9c179e\"],[0.4444444444444444,\"#bd3786\"],[0.5555555555555556,\"#d8576b\"],[0.6666666666666666,\"#ed7953\"],[0.7777777777777778,\"#fb9f3a\"],[0.8888888888888888,\"#fdca26\"],[1.0,\"#f0f921\"]]}],\"contourcarpet\":[{\"type\":\"contourcarpet\",\"colorbar\":{\"outlinewidth\":0,\"ticks\":\"\"}}],\"contour\":[{\"type\":\"contour\",\"colorbar\":{\"outlinewidth\":0,\"ticks\":\"\"},\"colorscale\":[[0.0,\"#0d0887\"],[0.1111111111111111,\"#46039f\"],[0.2222222222222222,\"#7201a8\"],[0.3333333333333333,\"#9c179e\"],[0.4444444444444444,\"#bd3786\"],[0.5555555555555556,\"#d8576b\"],[0.6666666666666666,\"#ed7953\"],[0.7777777777777778,\"#fb9f3a\"],[0.8888888888888888,\"#fdca26\"],[1.0,\"#f0f921\"]]}],\"surface\":[{\"type\":\"surface\",\"colorbar\":{\"outlinewidth\":0,\"ticks\":\"\"},\"colorscale\":[[0.0,\"#0d0887\"],[0.1111111111111111,\"#46039f\"],[0.2222222222222222,\"#7201a8\"],[0.3333333333333333,\"#9c179e\"],[0.4444444444444444,\"#bd3786\"],[0.5555555555555556,\"#d8576b\"],[0.6666666666666666,\"#ed7953\"],[0.7777777777777778,\"#fb9f3a\"],[0.8888888888888888,\"#fdca26\"],[1.0,\"#f0f921\"]]}],\"mesh3d\":[{\"type\":\"mesh3d\",\"colorbar\":{\"outlinewidth\":0,\"ticks\":\"\"}}],\"scatter\":[{\"fillpattern\":{\"fillmode\":\"overlay\",\"size\":10,\"solidity\":0.2},\"type\":\"scatter\"}],\"parcoords\":[{\"type\":\"parcoords\",\"line\":{\"colorbar\":{\"outlinewidth\":0,\"ticks\":\"\"}}}],\"scatterpolargl\":[{\"type\":\"scatterpolargl\",\"marker\":{\"colorbar\":{\"outlinewidth\":0,\"ticks\":\"\"}}}],\"bar\":[{\"error_x\":{\"color\":\"#2a3f5f\"},\"error_y\":{\"color\":\"#2a3f5f\"},\"marker\":{\"line\":{\"color\":\"#E5ECF6\",\"width\":0.5},\"pattern\":{\"fillmode\":\"overlay\",\"size\":10,\"solidity\":0.2}},\"type\":\"bar\"}],\"scattergeo\":[{\"type\":\"scattergeo\",\"marker\":{\"colorbar\":{\"outlinewidth\":0,\"ticks\":\"\"}}}],\"scatterpolar\":[{\"type\":\"scatterpolar\",\"marker\":{\"colorbar\":{\"outlinewidth\":0,\"ticks\":\"\"}}}],\"histogram\":[{\"marker\":{\"pattern\":{\"fillmode\":\"overlay\",\"size\":10,\"solidity\":0.2}},\"type\":\"histogram\"}],\"scattergl\":[{\"type\":\"scattergl\",\"marker\":{\"colorbar\":{\"outlinewidth\":0,\"ticks\":\"\"}}}],\"scatter3d\":[{\"type\":\"scatter3d\",\"line\":{\"colorbar\":{\"outlinewidth\":0,\"ticks\":\"\"}},\"marker\":{\"colorbar\":{\"outlinewidth\":0,\"ticks\":\"\"}}}],\"scattermapbox\":[{\"type\":\"scattermapbox\",\"marker\":{\"colorbar\":{\"outlinewidth\":0,\"ticks\":\"\"}}}],\"scatterternary\":[{\"type\":\"scatterternary\",\"marker\":{\"colorbar\":{\"outlinewidth\":0,\"ticks\":\"\"}}}],\"scattercarpet\":[{\"type\":\"scattercarpet\",\"marker\":{\"colorbar\":{\"outlinewidth\":0,\"ticks\":\"\"}}}],\"carpet\":[{\"aaxis\":{\"endlinecolor\":\"#2a3f5f\",\"gridcolor\":\"white\",\"linecolor\":\"white\",\"minorgridcolor\":\"white\",\"startlinecolor\":\"#2a3f5f\"},\"baxis\":{\"endlinecolor\":\"#2a3f5f\",\"gridcolor\":\"white\",\"linecolor\":\"white\",\"minorgridcolor\":\"white\",\"startlinecolor\":\"#2a3f5f\"},\"type\":\"carpet\"}],\"table\":[{\"cells\":{\"fill\":{\"color\":\"#EBF0F8\"},\"line\":{\"color\":\"white\"}},\"header\":{\"fill\":{\"color\":\"#C8D4E3\"},\"line\":{\"color\":\"white\"}},\"type\":\"table\"}],\"barpolar\":[{\"marker\":{\"line\":{\"color\":\"#E5ECF6\",\"width\":0.5},\"pattern\":{\"fillmode\":\"overlay\",\"size\":10,\"solidity\":0.2}},\"type\":\"barpolar\"}],\"pie\":[{\"automargin\":true,\"type\":\"pie\"}]},\"layout\":{\"autotypenumbers\":\"strict\",\"colorway\":[\"#636efa\",\"#EF553B\",\"#00cc96\",\"#ab63fa\",\"#FFA15A\",\"#19d3f3\",\"#FF6692\",\"#B6E880\",\"#FF97FF\",\"#FECB52\"],\"font\":{\"color\":\"#2a3f5f\"},\"hovermode\":\"closest\",\"hoverlabel\":{\"align\":\"left\"},\"paper_bgcolor\":\"white\",\"plot_bgcolor\":\"#E5ECF6\",\"polar\":{\"bgcolor\":\"#E5ECF6\",\"angularaxis\":{\"gridcolor\":\"white\",\"linecolor\":\"white\",\"ticks\":\"\"},\"radialaxis\":{\"gridcolor\":\"white\",\"linecolor\":\"white\",\"ticks\":\"\"}},\"ternary\":{\"bgcolor\":\"#E5ECF6\",\"aaxis\":{\"gridcolor\":\"white\",\"linecolor\":\"white\",\"ticks\":\"\"},\"baxis\":{\"gridcolor\":\"white\",\"linecolor\":\"white\",\"ticks\":\"\"},\"caxis\":{\"gridcolor\":\"white\",\"linecolor\":\"white\",\"ticks\":\"\"}},\"coloraxis\":{\"colorbar\":{\"outlinewidth\":0,\"ticks\":\"\"}},\"colorscale\":{\"sequential\":[[0.0,\"#0d0887\"],[0.1111111111111111,\"#46039f\"],[0.2222222222222222,\"#7201a8\"],[0.3333333333333333,\"#9c179e\"],[0.4444444444444444,\"#bd3786\"],[0.5555555555555556,\"#d8576b\"],[0.6666666666666666,\"#ed7953\"],[0.7777777777777778,\"#fb9f3a\"],[0.8888888888888888,\"#fdca26\"],[1.0,\"#f0f921\"]],\"sequentialminus\":[[0.0,\"#0d0887\"],[0.1111111111111111,\"#46039f\"],[0.2222222222222222,\"#7201a8\"],[0.3333333333333333,\"#9c179e\"],[0.4444444444444444,\"#bd3786\"],[0.5555555555555556,\"#d8576b\"],[0.6666666666666666,\"#ed7953\"],[0.7777777777777778,\"#fb9f3a\"],[0.8888888888888888,\"#fdca26\"],[1.0,\"#f0f921\"]],\"diverging\":[[0,\"#8e0152\"],[0.1,\"#c51b7d\"],[0.2,\"#de77ae\"],[0.3,\"#f1b6da\"],[0.4,\"#fde0ef\"],[0.5,\"#f7f7f7\"],[0.6,\"#e6f5d0\"],[0.7,\"#b8e186\"],[0.8,\"#7fbc41\"],[0.9,\"#4d9221\"],[1,\"#276419\"]]},\"xaxis\":{\"gridcolor\":\"white\",\"linecolor\":\"white\",\"ticks\":\"\",\"title\":{\"standoff\":15},\"zerolinecolor\":\"white\",\"automargin\":true,\"zerolinewidth\":2},\"yaxis\":{\"gridcolor\":\"white\",\"linecolor\":\"white\",\"ticks\":\"\",\"title\":{\"standoff\":15},\"zerolinecolor\":\"white\",\"automargin\":true,\"zerolinewidth\":2},\"scene\":{\"xaxis\":{\"backgroundcolor\":\"#E5ECF6\",\"gridcolor\":\"white\",\"linecolor\":\"white\",\"showbackground\":true,\"ticks\":\"\",\"zerolinecolor\":\"white\",\"gridwidth\":2},\"yaxis\":{\"backgroundcolor\":\"#E5ECF6\",\"gridcolor\":\"white\",\"linecolor\":\"white\",\"showbackground\":true,\"ticks\":\"\",\"zerolinecolor\":\"white\",\"gridwidth\":2},\"zaxis\":{\"backgroundcolor\":\"#E5ECF6\",\"gridcolor\":\"white\",\"linecolor\":\"white\",\"showbackground\":true,\"ticks\":\"\",\"zerolinecolor\":\"white\",\"gridwidth\":2}},\"shapedefaults\":{\"line\":{\"color\":\"#2a3f5f\"}},\"annotationdefaults\":{\"arrowcolor\":\"#2a3f5f\",\"arrowhead\":0,\"arrowwidth\":1},\"geo\":{\"bgcolor\":\"white\",\"landcolor\":\"#E5ECF6\",\"subunitcolor\":\"white\",\"showland\":true,\"showlakes\":true,\"lakecolor\":\"white\"},\"title\":{\"x\":0.05},\"mapbox\":{\"style\":\"light\"}}},\"xaxis\":{\"anchor\":\"y\",\"domain\":[0.0,1.0],\"title\":{\"text\":\"date\"}},\"yaxis\":{\"anchor\":\"x\",\"domain\":[0.0,1.0],\"title\":{\"text\":\"value\"}},\"legend\":{\"title\":{\"text\":\"variable\"},\"tracegroupgap\":0},\"margin\":{\"t\":60}},                        {\"responsive\": true}                    ).then(function(){\n                            \nvar gd = document.getElementById('505e1ab0-27a0-4bbc-a3b4-e3820efba0e4');\nvar x = new MutationObserver(function (mutations, observer) {{\n        var display = window.getComputedStyle(gd).display;\n        if (!display || display === 'none') {{\n            console.log([gd, 'removed!']);\n            Plotly.purge(gd);\n            observer.disconnect();\n        }}\n}});\n\n// Listen for the removal of the full notebook cells\nvar notebookContainer = gd.closest('#notebook-container');\nif (notebookContainer) {{\n    x.observe(notebookContainer, {childList: true});\n}}\n\n// Listen for the clearing of the current output cell\nvar outputEl = gd.closest('.output');\nif (outputEl) {{\n    x.observe(outputEl, {childList: true});\n}}\n\n                        })                };                            </script>        </div>\n</body>\n</html>"
     },
     "metadata": {},
     "output_type": "display_data"
    }
   ]
  },
  {
   "cell_type": "code",
   "metadata": {
    "tags": [],
    "deepnote_variable_name": "df_10",
    "sql_integration_id": "4a3995e6-e6c8-4cf8-aa3b-e89c56745f8f",
    "cell_id": "2c02751c589740acb0b7c061aff1c397",
    "deepnote_to_be_reexecuted": false,
    "source_hash": "db7375a2",
    "execution_start": 1651161437248,
    "execution_millis": 3490,
    "deepnote_sql_source": "SELECT orig_table.ds AS date, pred_table.y AS predicted_y, orig_table.y AS actual_y\nFROM btc_data.btc AS orig_table\nJOIN mindsdb.btc_pred AS pred_table\nWHERE orig_table.ds > LATEST;",
    "deepnote_cell_type": "sql",
    "deepnote_cell_height": 365.921875
   },
   "source": "\n\ndf_10 = _deepnote_execute_sql(\"\"\"SELECT orig_table.ds AS date, pred_table.y AS predicted_y, orig_table.y AS actual_y\nFROM btc_data.btc AS orig_table\nJOIN mindsdb.btc_pred AS pred_table\nWHERE orig_table.ds > LATEST;\n\"\"\", 'SQL_4A3995E6_E6C8_4CF8_AA3B_E89C56745F8F')\ndf_10",
   "execution_count": null,
   "outputs": [
    {
     "output_type": "execute_result",
     "execution_count": 75,
     "data": {
      "application/vnd.deepnote.dataframe.v3+json": {
       "column_count": 3,
       "row_count": 2,
       "columns": [
        {
         "name": "date",
         "dtype": "object",
         "stats": {
          "unique_count": 1,
          "nan_count": 1,
          "categories": [
           {
            "name": "2020-09-14",
            "count": 1
           },
           {
            "name": "Missing",
            "count": 1
           }
          ]
         }
        },
        {
         "name": "predicted_y",
         "dtype": "float64",
         "stats": {
          "unique_count": 1,
          "nan_count": 1,
          "min": "7537.247701719254",
          "max": "7537.247701719254",
          "histogram": [
           {
            "bin_start": 7536.747701719254,
            "bin_end": 7536.8477017192545,
            "count": 0
           },
           {
            "bin_start": 7536.8477017192545,
            "bin_end": 7536.947701719254,
            "count": 0
           },
           {
            "bin_start": 7536.947701719254,
            "bin_end": 7537.047701719254,
            "count": 0
           },
           {
            "bin_start": 7537.047701719254,
            "bin_end": 7537.147701719254,
            "count": 0
           },
           {
            "bin_start": 7537.147701719254,
            "bin_end": 7537.247701719254,
            "count": 0
           },
           {
            "bin_start": 7537.247701719254,
            "bin_end": 7537.3477017192545,
            "count": 1
           },
           {
            "bin_start": 7537.3477017192545,
            "bin_end": 7537.447701719254,
            "count": 0
           },
           {
            "bin_start": 7537.447701719254,
            "bin_end": 7537.547701719254,
            "count": 0
           },
           {
            "bin_start": 7537.547701719254,
            "bin_end": 7537.647701719254,
            "count": 0
           },
           {
            "bin_start": 7537.647701719254,
            "bin_end": 7537.747701719254,
            "count": 0
           }
          ]
         }
        },
        {
         "name": "actual_y",
         "dtype": "float64",
         "stats": {
          "unique_count": 1,
          "nan_count": 1,
          "min": "10314.3",
          "max": "10314.3",
          "histogram": [
           {
            "bin_start": 10313.8,
            "bin_end": 10313.9,
            "count": 0
           },
           {
            "bin_start": 10313.9,
            "bin_end": 10314,
            "count": 0
           },
           {
            "bin_start": 10314,
            "bin_end": 10314.099999999999,
            "count": 0
           },
           {
            "bin_start": 10314.099999999999,
            "bin_end": 10314.199999999999,
            "count": 0
           },
           {
            "bin_start": 10314.199999999999,
            "bin_end": 10314.3,
            "count": 0
           },
           {
            "bin_start": 10314.3,
            "bin_end": 10314.4,
            "count": 1
           },
           {
            "bin_start": 10314.4,
            "bin_end": 10314.5,
            "count": 0
           },
           {
            "bin_start": 10314.5,
            "bin_end": 10314.599999999999,
            "count": 0
           },
           {
            "bin_start": 10314.599999999999,
            "bin_end": 10314.699999999999,
            "count": 0
           },
           {
            "bin_start": 10314.699999999999,
            "bin_end": 10314.8,
            "count": 0
           }
          ]
         }
        },
        {
         "name": "_deepnote_index_column",
         "dtype": "int64"
        }
       ],
       "rows": [
        {
         "date": "2020-09-14",
         "predicted_y": "nan",
         "actual_y": 10314.3,
         "_deepnote_index_column": 0
        },
        {
         "date": "None",
         "predicted_y": 7537.247701719254,
         "actual_y": "nan",
         "_deepnote_index_column": 1
        }
       ]
      },
      "text/plain": "         date  predicted_y  actual_y\n0  2020-09-14          NaN   10314.3\n1        None  7537.247702       NaN",
      "text/html": "<div>\n<style scoped>\n    .dataframe tbody tr th:only-of-type {\n        vertical-align: middle;\n    }\n\n    .dataframe tbody tr th {\n        vertical-align: top;\n    }\n\n    .dataframe thead th {\n        text-align: right;\n    }\n</style>\n<table border=\"1\" class=\"dataframe\">\n  <thead>\n    <tr style=\"text-align: right;\">\n      <th></th>\n      <th>date</th>\n      <th>predicted_y</th>\n      <th>actual_y</th>\n    </tr>\n  </thead>\n  <tbody>\n    <tr>\n      <th>0</th>\n      <td>2020-09-14</td>\n      <td>NaN</td>\n      <td>10314.3</td>\n    </tr>\n    <tr>\n      <th>1</th>\n      <td>None</td>\n      <td>7537.247702</td>\n      <td>NaN</td>\n    </tr>\n  </tbody>\n</table>\n</div>"
     },
     "metadata": {}
    }
   ]
  },
  {
   "cell_type": "code",
   "metadata": {
    "tags": [],
    "deepnote_variable_name": "pred_all_df",
    "sql_integration_id": "4a3995e6-e6c8-4cf8-aa3b-e89c56745f8f",
    "cell_id": "41f61140525f414aadb35fdb6a69cf90",
    "deepnote_to_be_reexecuted": false,
    "source_hash": "99e80dfc",
    "execution_start": 1651161448270,
    "execution_millis": 28209,
    "deepnote_sql_source": "SELECT orig_table.ds AS date, pred_table.y AS predicted_y, orig_table.y AS actual_y\nFROM btc_data.btc AS orig_table\nJOIN mindsdb.btc_pred AS pred_table\nWHERE orig_table.ds > '2011-12-30';",
    "deepnote_cell_type": "sql",
    "deepnote_cell_height": 693.875
   },
   "source": "\n\npred_all_df = _deepnote_execute_sql(\"\"\"SELECT orig_table.ds AS date, pred_table.y AS predicted_y, orig_table.y AS actual_y\nFROM btc_data.btc AS orig_table\nJOIN mindsdb.btc_pred AS pred_table\nWHERE orig_table.ds > '2011-12-30';\n\"\"\", 'SQL_4A3995E6_E6C8_4CF8_AA3B_E89C56745F8F')\npred_all_df",
   "execution_count": null,
   "outputs": [
    {
     "output_type": "execute_result",
     "execution_count": 76,
     "data": {
      "application/vnd.deepnote.dataframe.v3+json": {
       "column_count": 3,
       "row_count": 3181,
       "columns": [
        {
         "name": "date",
         "dtype": "object",
         "stats": {
          "unique_count": 3181,
          "nan_count": 0,
          "categories": [
           {
            "name": "2020-09-14",
            "count": 1
           },
           {
            "name": "2020-09-13",
            "count": 1
           },
           {
            "name": "3179 others",
            "count": 3179
           }
          ]
         }
        },
        {
         "name": "predicted_y",
         "dtype": "float64",
         "stats": {
          "unique_count": 3180,
          "nan_count": 0,
          "min": "0.3270298581233173",
          "max": "18778.335484740408",
          "histogram": [
           {
            "bin_start": 0.3270298581233173,
            "bin_end": 1878.1278753463519,
            "count": 1967
           },
           {
            "bin_start": 1878.1278753463519,
            "bin_end": 3755.9287208345804,
            "count": 146
           },
           {
            "bin_start": 3755.9287208345804,
            "bin_end": 5633.72956632281,
            "count": 182
           },
           {
            "bin_start": 5633.72956632281,
            "bin_end": 7511.530411811038,
            "count": 293
           },
           {
            "bin_start": 7511.530411811038,
            "bin_end": 9389.331257299265,
            "count": 298
           },
           {
            "bin_start": 9389.331257299265,
            "bin_end": 11267.132102787495,
            "count": 190
           },
           {
            "bin_start": 11267.132102787495,
            "bin_end": 13144.932948275722,
            "count": 65
           },
           {
            "bin_start": 13144.932948275722,
            "bin_end": 15022.733793763951,
            "count": 23
           },
           {
            "bin_start": 15022.733793763951,
            "bin_end": 16900.53463925218,
            "count": 11
           },
           {
            "bin_start": 16900.53463925218,
            "bin_end": 18778.335484740408,
            "count": 6
           }
          ]
         }
        },
        {
         "name": "actual_y",
         "dtype": "float64",
         "stats": {
          "unique_count": 3178,
          "nan_count": 0,
          "min": "4.33167",
          "max": "19199.2",
          "histogram": [
           {
            "bin_start": 4.33167,
            "bin_end": 1923.8185030000002,
            "count": 1967
           },
           {
            "bin_start": 1923.8185030000002,
            "bin_end": 3843.3053360000004,
            "count": 172
           },
           {
            "bin_start": 3843.3053360000004,
            "bin_end": 5762.792169,
            "count": 165
           },
           {
            "bin_start": 5762.792169,
            "bin_end": 7682.279002,
            "count": 303
           },
           {
            "bin_start": 7682.279002,
            "bin_end": 9601.765835,
            "count": 312
           },
           {
            "bin_start": 9601.765835,
            "bin_end": 11521.252668000001,
            "count": 177
           },
           {
            "bin_start": 11521.252668000001,
            "bin_end": 13440.739501,
            "count": 47
           },
           {
            "bin_start": 13440.739501,
            "bin_end": 15360.226334,
            "count": 21
           },
           {
            "bin_start": 15360.226334,
            "bin_end": 17279.713167,
            "count": 13
           },
           {
            "bin_start": 17279.713167,
            "bin_end": 19199.2,
            "count": 4
           }
          ]
         }
        },
        {
         "name": "_deepnote_index_column",
         "dtype": "int64"
        }
       ],
       "rows": [
        {
         "date": "2020-09-14",
         "predicted_y": 10388.046619416727,
         "actual_y": 10314.3,
         "_deepnote_index_column": 0
        },
        {
         "date": "2020-09-13",
         "predicted_y": 10337.436201070366,
         "actual_y": 10409.8,
         "_deepnote_index_column": 1
        },
        {
         "date": "2020-09-12",
         "predicted_y": 10298.611981465672,
         "actual_y": 10363.9,
         "_deepnote_index_column": 2
        },
        {
         "date": "2020-09-11",
         "predicted_y": 10275.237535814897,
         "actual_y": 10299.2,
         "_deepnote_index_column": 3
        },
        {
         "date": "2020-09-10",
         "predicted_y": 10157.706201274084,
         "actual_y": 10329.1,
         "_deepnote_index_column": 4
        },
        {
         "date": "2020-09-09",
         "predicted_y": 10163.48052954538,
         "actual_y": 10161.5,
         "_deepnote_index_column": 5
        },
        {
         "date": "2020-09-08",
         "predicted_y": 10156.737703604405,
         "actual_y": 10175.6,
         "_deepnote_index_column": 6
        },
        {
         "date": "2020-09-07",
         "predicted_y": 10209.844514505841,
         "actual_y": 10159.2,
         "_deepnote_index_column": 7
        },
        {
         "date": "2020-09-06",
         "predicted_y": 10335.93543291758,
         "actual_y": 10178.4,
         "_deepnote_index_column": 8
        },
        {
         "date": "2020-09-05",
         "predicted_y": 10588.904678141687,
         "actual_y": 10324.6,
         "_deepnote_index_column": 9
        }
       ]
      },
      "text/plain": "            date   predicted_y     actual_y\n0     2020-09-14  10388.046619  10314.30000\n1     2020-09-13  10337.436201  10409.80000\n2     2020-09-12  10298.611981  10363.90000\n3     2020-09-11  10275.237536  10299.20000\n4     2020-09-10  10157.706201  10329.10000\n...          ...           ...          ...\n3176  2012-01-04     10.712260      5.20816\n3177  2012-01-03     11.000825      5.25250\n3178  2012-01-02     11.302678      5.00000\n3179  2012-01-01     12.703381      4.71000\n3180  2011-12-31    169.043316      4.47160\n\n[3181 rows x 3 columns]",
      "text/html": "<div>\n<style scoped>\n    .dataframe tbody tr th:only-of-type {\n        vertical-align: middle;\n    }\n\n    .dataframe tbody tr th {\n        vertical-align: top;\n    }\n\n    .dataframe thead th {\n        text-align: right;\n    }\n</style>\n<table border=\"1\" class=\"dataframe\">\n  <thead>\n    <tr style=\"text-align: right;\">\n      <th></th>\n      <th>date</th>\n      <th>predicted_y</th>\n      <th>actual_y</th>\n    </tr>\n  </thead>\n  <tbody>\n    <tr>\n      <th>0</th>\n      <td>2020-09-14</td>\n      <td>10388.046619</td>\n      <td>10314.30000</td>\n    </tr>\n    <tr>\n      <th>1</th>\n      <td>2020-09-13</td>\n      <td>10337.436201</td>\n      <td>10409.80000</td>\n    </tr>\n    <tr>\n      <th>2</th>\n      <td>2020-09-12</td>\n      <td>10298.611981</td>\n      <td>10363.90000</td>\n    </tr>\n    <tr>\n      <th>3</th>\n      <td>2020-09-11</td>\n      <td>10275.237536</td>\n      <td>10299.20000</td>\n    </tr>\n    <tr>\n      <th>4</th>\n      <td>2020-09-10</td>\n      <td>10157.706201</td>\n      <td>10329.10000</td>\n    </tr>\n    <tr>\n      <th>...</th>\n      <td>...</td>\n      <td>...</td>\n      <td>...</td>\n    </tr>\n    <tr>\n      <th>3176</th>\n      <td>2012-01-04</td>\n      <td>10.712260</td>\n      <td>5.20816</td>\n    </tr>\n    <tr>\n      <th>3177</th>\n      <td>2012-01-03</td>\n      <td>11.000825</td>\n      <td>5.25250</td>\n    </tr>\n    <tr>\n      <th>3178</th>\n      <td>2012-01-02</td>\n      <td>11.302678</td>\n      <td>5.00000</td>\n    </tr>\n    <tr>\n      <th>3179</th>\n      <td>2012-01-01</td>\n      <td>12.703381</td>\n      <td>4.71000</td>\n    </tr>\n    <tr>\n      <th>3180</th>\n      <td>2011-12-31</td>\n      <td>169.043316</td>\n      <td>4.47160</td>\n    </tr>\n  </tbody>\n</table>\n<p>3181 rows × 3 columns</p>\n</div>"
     },
     "metadata": {}
    }
   ]
  },
  {
   "cell_type": "code",
   "metadata": {
    "cell_id": "5391c441fe1e44ecbc737e07d9b9a127",
    "tags": [],
    "deepnote_to_be_reexecuted": false,
    "source_hash": "78850b43",
    "execution_start": 1651161482882,
    "execution_millis": 115,
    "deepnote_cell_type": "code",
    "deepnote_cell_height": 80.953125
   },
   "source": "btc_pred_df = spark.createDataFrame(pred_all_df)",
   "execution_count": null,
   "outputs": []
  },
  {
   "cell_type": "code",
   "metadata": {
    "cell_id": "f76507bf34994b3f818b497d6fa07e18",
    "tags": [],
    "deepnote_to_be_reexecuted": false,
    "source_hash": "be10b6dc",
    "execution_start": 1651161494694,
    "execution_millis": 1674,
    "deepnote_cell_type": "code",
    "deepnote_cell_height": 170.953125
   },
   "source": "(btc_pred_df.write\n    .format(\"singlestore\")\n    .option(\"loadDataCompression\", \"LZ4\")\n    .mode(\"overwrite\")\n    .save(\"btc_db.pred\")\n)",
   "execution_count": null,
   "outputs": []
  },
  {
   "cell_type": "markdown",
   "source": "<a style='text-decoration:none;line-height:16px;display:flex;color:#5B5B62;padding:10px;justify-content:end;' href='https://deepnote.com?utm_source=created-in-deepnote-cell&projectId=342fcb27-ae26-4515-a337-32741b0b3da9' target=\"_blank\">\n<img alt='Created in deepnote.com' style='display:inline;max-height:16px;margin:0px;margin-right:7.5px;' src='data:image/svg+xml;base64,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' > </img>\nCreated in <span style='font-weight:600;margin-left:4px;'>Deepnote</span></a>",
   "metadata": {
    "tags": [],
    "created_in_deepnote_cell": true,
    "deepnote_cell_type": "markdown"
   }
  }
 ],
 "nbformat": 4,
 "nbformat_minor": 2,
 "metadata": {
  "orig_nbformat": 2,
  "deepnote": {
   "is_reactive": false
  },
  "deepnote_notebook_id": "389454c6-6712-4ea2-9c46-a303774296ad",
  "deepnote_execution_queue": []
 }
}