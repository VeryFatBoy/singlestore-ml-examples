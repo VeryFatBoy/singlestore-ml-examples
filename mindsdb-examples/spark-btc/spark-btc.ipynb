{
 "cells": [
  {
   "cell_type": "markdown",
   "source": "## 0. Setup",
   "metadata": {
    "cell_id": "3a922ff091734befa754d5e97637c31e",
    "tags": [],
    "deepnote_cell_type": "markdown",
    "deepnote_cell_height": 69.96875
   }
  },
  {
   "cell_type": "markdown",
   "source": "### 0.1 Install PySpark",
   "metadata": {
    "cell_id": "8dbb07e91a2242dcaeec804502eab01d",
    "tags": [],
    "deepnote_cell_type": "markdown",
    "deepnote_cell_height": 61.953125
   }
  },
  {
   "cell_type": "code",
   "metadata": {
    "tags": [],
    "cell_id": "d9c54568-39a0-4320-b6f6-86580d8157d3",
    "deepnote_to_be_reexecuted": false,
    "source_hash": "40d82c83",
    "execution_start": 1651161164592,
    "execution_millis": 7757,
    "output_cleared": true,
    "deepnote_cell_type": "code",
    "deepnote_cell_height": 134.953125
   },
   "source": "! sudo apt-get update\n! sudo mkdir -p /usr/share/man/man1\n! sudo apt-get install -y openjdk-11-jdk\n! pip install pyspark==3.2.1",
   "execution_count": null,
   "outputs": []
  },
  {
   "cell_type": "code",
   "metadata": {
    "cell_id": "d5db84eff1b44085aa0e321831634455",
    "tags": [],
    "deepnote_to_be_reexecuted": false,
    "source_hash": "4498c376",
    "execution_start": 1651161183089,
    "execution_millis": 3,
    "deepnote_cell_type": "code",
    "deepnote_cell_height": 278.953125
   },
   "source": "from pyspark.sql import SparkSession\n\nspark = (SparkSession\n            .builder\n            .config(\n                \"spark.jars\",\n                \"jars/singlestore-jdbc-client-1.0.1.jar, \\\n                jars/singlestore-spark-connector_2.12-4.0.0-spark-3.2.0.jar, \\\n                jars/spray-json_3-1.3.6.jar\"\n            )\n            .getOrCreate()\n        )",
   "execution_count": null,
   "outputs": []
  },
  {
   "cell_type": "code",
   "metadata": {
    "cell_id": "4981b0f419ee4663a9d52b63246092e4",
    "tags": [],
    "deepnote_to_be_reexecuted": false,
    "source_hash": "3041d852",
    "execution_start": 1651161186124,
    "execution_millis": 4,
    "output_cleared": true,
    "deepnote_cell_type": "code",
    "deepnote_cell_height": 80.953125,
    "deepnote_output_heights": [
     21.1875
    ]
   },
   "source": "spark.version",
   "execution_count": null,
   "outputs": []
  },
  {
   "cell_type": "markdown",
   "source": "### 0.2 Connect to SingleStore DB",
   "metadata": {
    "cell_id": "951c1b17cbfc4b148ac151f15051134a",
    "tags": [],
    "deepnote_cell_type": "markdown",
    "deepnote_cell_height": 61.953125
   }
  },
  {
   "cell_type": "code",
   "metadata": {
    "cell_id": "4d1973aa8080433296c514bf775f1a5e",
    "tags": [],
    "deepnote_to_be_reexecuted": false,
    "source_hash": "119ba9f1",
    "execution_start": 1651161193028,
    "execution_millis": 16,
    "deepnote_cell_type": "code",
    "deepnote_cell_height": 152.96875
   },
   "source": "server = \"<TO DO>\"\npassword = \"<TO DO>\"\n \nport = \"3306\"\ncluster = server + \":\" + port",
   "execution_count": null,
   "outputs": []
  },
  {
   "cell_type": "code",
   "metadata": {
    "cell_id": "8564a3d6893b4ed1a25fd9daa9176abe",
    "tags": [],
    "deepnote_to_be_reexecuted": false,
    "source_hash": "f03039ad",
    "execution_start": 1651161196648,
    "execution_millis": 12,
    "deepnote_cell_type": "code",
    "deepnote_cell_height": 134.953125
   },
   "source": "spark.conf.set(\"spark.datasource.singlestore.ddlEndpoint\", cluster)\nspark.conf.set(\"spark.datasource.singlestore.user\", \"admin\")\nspark.conf.set(\"spark.datasource.singlestore.password\", password)\nspark.conf.set(\"spark.datasource.singlestore.disablePushdown\", \"false\")",
   "execution_count": null,
   "outputs": []
  },
  {
   "cell_type": "markdown",
   "source": "## 1. Apache Spark",
   "metadata": {
    "cell_id": "5bbdb1fefcab4f0a8cc081f8f6a7da32",
    "tags": [],
    "deepnote_cell_type": "markdown",
    "deepnote_cell_height": 69.96875
   }
  },
  {
   "cell_type": "markdown",
   "source": "### 1.1 Create Spark Dataframe",
   "metadata": {
    "cell_id": "459ff5293a364f7db8d76c62c2bb88fb",
    "tags": [],
    "deepnote_cell_type": "markdown",
    "deepnote_cell_height": 61.953125
   }
  },
  {
   "cell_type": "code",
   "metadata": {
    "cell_id": "8f23c6c5232b4ae396fb30a9ae0d8e9a",
    "tags": [],
    "deepnote_to_be_reexecuted": false,
    "source_hash": "c07369b0",
    "execution_start": 1651161203627,
    "execution_millis": 629,
    "deepnote_cell_type": "code",
    "deepnote_cell_height": 152.96875
   },
   "source": "iris_df = spark.read.csv(\n                    \"data/iris.csv\",\n                    header = True,\n                    inferSchema = True\n                )",
   "execution_count": null,
   "outputs": []
  },
  {
   "cell_type": "code",
   "metadata": {
    "cell_id": "6b4ae6750add49ea9ab687eb41584e36",
    "tags": [],
    "deepnote_to_be_reexecuted": false,
    "source_hash": "c7430197",
    "execution_start": 1651161207350,
    "execution_millis": 257,
    "output_cleared": true,
    "deepnote_cell_type": "code",
    "deepnote_cell_height": 80.953125
   },
   "source": "iris_df.show(5)",
   "execution_count": null,
   "outputs": []
  },
  {
   "cell_type": "markdown",
   "source": "### 1.2 Exploratory Data Analysis (EDA)",
   "metadata": {
    "cell_id": "4ad5e357a1b54e9688982985b71f547e",
    "tags": [],
    "deepnote_cell_type": "markdown",
    "deepnote_cell_height": 61.953125
   }
  },
  {
   "cell_type": "code",
   "metadata": {
    "cell_id": "f2411f5e97c246968c2d2bb865976ff8",
    "tags": [],
    "deepnote_to_be_reexecuted": false,
    "source_hash": "6c71c9cc",
    "execution_start": 1651161218121,
    "execution_millis": 402,
    "output_cleared": true,
    "deepnote_cell_type": "code",
    "deepnote_cell_height": 152.96875
   },
   "source": "(iris_df\n    .groupBy(\"species\")\n    .count()\n    .show()\n)",
   "execution_count": null,
   "outputs": []
  },
  {
   "cell_type": "code",
   "metadata": {
    "cell_id": "1d7466cc63a74154937c8aa41039b4f0",
    "tags": [],
    "deepnote_to_be_reexecuted": false,
    "source_hash": "79deba3c",
    "execution_start": 1651161222625,
    "execution_millis": 573,
    "output_cleared": true,
    "deepnote_cell_type": "code",
    "deepnote_cell_height": 224.953125
   },
   "source": "(iris_df\n    .describe(\n        \"sepal_length\",\n        \"sepal_width\",\n        \"petal_length\",\n        \"petal_width\"\n    )\n    .show()\n)",
   "execution_count": null,
   "outputs": []
  },
  {
   "cell_type": "code",
   "metadata": {
    "cell_id": "fe0e0476f59043cdbb286b96ee1dcc8f",
    "tags": [],
    "deepnote_to_be_reexecuted": false,
    "source_hash": "83efdc84",
    "execution_start": 1651161228155,
    "execution_millis": 410,
    "output_cleared": true,
    "deepnote_cell_type": "code",
    "deepnote_cell_height": 440.953125,
    "deepnote_output_heights": [
     526.984375
    ]
   },
   "source": "# https://plotly.com/python/pca-visualization/\n\nimport plotly.express as px\nfrom sklearn.decomposition import PCA\nimport pandas as pd\n\npandas_iris_df = iris_df.toPandas()\n\nX = pandas_iris_df[[\"sepal_length\", \"sepal_width\", \"petal_length\", \"petal_width\"]]\n\npca = PCA(n_components = 2)\ncomponents = pca.fit_transform(X)\n\npca_fig = px.scatter(\n    components,\n    x = 0,\n    y = 1,\n    color = pandas_iris_df[\"species\"]\n)\n\npca_fig.show()",
   "execution_count": null,
   "outputs": []
  },
  {
   "cell_type": "code",
   "metadata": {
    "cell_id": "1d03e8e995804aebb69221af7763f1d9",
    "tags": [],
    "deepnote_to_be_reexecuted": false,
    "source_hash": "a36d6dec",
    "execution_start": 1651161232454,
    "execution_millis": 328,
    "output_cleared": true,
    "deepnote_cell_type": "code",
    "deepnote_cell_height": 314.953125,
    "deepnote_output_heights": [
     21.1875,
     266.984375
    ]
   },
   "source": "# More about correlations:\n# https://www.w3schools.com/python/pandas/pandas_correlations.asp\n\nimport matplotlib.pyplot as plt\nimport seaborn as sns\n\nsns.heatmap(\n    pandas_iris_df.corr(),\n    cmap = \"OrRd\",\n    annot = True\n)\n\nplt.title(\"Correlations\")\nplt.plot()",
   "execution_count": null,
   "outputs": []
  },
  {
   "cell_type": "markdown",
   "source": "### 1.3 Write Spark Dataframe to SingleStore DB",
   "metadata": {
    "cell_id": "9d7799091843408e98eb6865e553fc57",
    "tags": [],
    "deepnote_cell_type": "markdown",
    "deepnote_cell_height": 61.953125
   }
  },
  {
   "cell_type": "code",
   "metadata": {
    "cell_id": "5fe4d4d37d6448eabfa4ac47abddd850",
    "tags": [],
    "deepnote_to_be_reexecuted": false,
    "source_hash": "2b8d4c12",
    "execution_start": 1651161238200,
    "execution_millis": 1492,
    "deepnote_cell_type": "code",
    "deepnote_cell_height": 170.953125
   },
   "source": "(iris_df.write\n    .format(\"singlestore\")\n    .option(\"loadDataCompression\", \"LZ4\")\n    .mode(\"overwrite\")\n    .save(\"iris_db.iris\")\n)",
   "execution_count": null,
   "outputs": []
  },
  {
   "cell_type": "markdown",
   "source": "## 2. MindsDB",
   "metadata": {
    "cell_id": "e6b19ddb65ac460787c99cdd63bc74b6",
    "tags": [],
    "deepnote_cell_type": "markdown",
    "deepnote_cell_height": 69.96875
   }
  },
  {
   "cell_type": "markdown",
   "source": "### 2.1 Create Spark Dataframe",
   "metadata": {
    "cell_id": "565a6744626c443a9073746ac05a85df",
    "tags": [],
    "deepnote_cell_type": "markdown",
    "deepnote_cell_height": 61.953125
   }
  },
  {
   "cell_type": "code",
   "metadata": {
    "cell_id": "d0545a3f69c24f10a81ad360584f4c24",
    "tags": [],
    "deepnote_to_be_reexecuted": false,
    "source_hash": "25a0f9fd",
    "execution_start": 1651161246028,
    "execution_millis": 6,
    "deepnote_cell_type": "code",
    "deepnote_cell_height": 170.953125
   },
   "source": "from pyspark.sql.types import *\n\nbtc_schema = StructType([\n    StructField(\"ds\", DateType(), True),\n    StructField(\"y\", FloatType(), True)\n])",
   "execution_count": null,
   "outputs": []
  },
  {
   "cell_type": "code",
   "metadata": {
    "cell_id": "0c4ed9e7ebda4806805eb8c8d7c63a75",
    "tags": [],
    "deepnote_to_be_reexecuted": false,
    "source_hash": "ef769fb3",
    "execution_start": 1651161249996,
    "execution_millis": 51,
    "deepnote_cell_type": "code",
    "deepnote_cell_height": 170.953125
   },
   "source": "btc_df = spark.read.csv(\n                    \"data/btc_data.csv\",\n                    header = True,\n                    dateFormat = \"YYYY-MM-DD\",\n                    schema = btc_schema\n                )",
   "execution_count": null,
   "outputs": []
  },
  {
   "cell_type": "code",
   "metadata": {
    "cell_id": "f4ebdc6ee0364c8db6c7ad254b358149",
    "tags": [],
    "deepnote_to_be_reexecuted": false,
    "source_hash": "6b617055",
    "execution_start": 1651161253896,
    "execution_millis": 173,
    "output_cleared": true,
    "deepnote_cell_type": "code",
    "deepnote_cell_height": 80.953125
   },
   "source": "btc_df.show(5)",
   "execution_count": null,
   "outputs": []
  },
  {
   "cell_type": "markdown",
   "source": "### 2.2 Write Spark Dataframe to SingleStore DB",
   "metadata": {
    "cell_id": "03d7e507f7e74ea399cf64088b21b3b8",
    "tags": [],
    "deepnote_cell_type": "markdown",
    "deepnote_cell_height": 61.953125
   }
  },
  {
   "cell_type": "code",
   "metadata": {
    "cell_id": "d73358aab3cf457588a4ccb294ed76a8",
    "tags": [],
    "deepnote_to_be_reexecuted": false,
    "source_hash": "846dad0c",
    "execution_start": 1651161266450,
    "execution_millis": 2302,
    "deepnote_cell_type": "code",
    "deepnote_cell_height": 170.953125
   },
   "source": "(btc_df.write\n    .format(\"singlestore\")\n    .option(\"loadDataCompression\", \"LZ4\")\n    .mode(\"overwrite\")\n    .save(\"btc_db.btc\")\n)",
   "execution_count": null,
   "outputs": []
  },
  {
   "cell_type": "markdown",
   "source": "### 2.3 Create MindsDB Datasource",
   "metadata": {
    "cell_id": "e6f3c0aa6aa04efda3973be761070b69",
    "tags": [],
    "deepnote_cell_type": "markdown",
    "deepnote_cell_height": 61.953125
   }
  },
  {
   "cell_type": "code",
   "metadata": {
    "tags": [],
    "deepnote_variable_name": "df_1",
    "sql_integration_id": "4a3995e6-e6c8-4cf8-aa3b-e89c56745f8f",
    "cell_id": "913ca81d269a4b6cb0a728ae0eb5160f",
    "deepnote_to_be_reexecuted": false,
    "source_hash": "2f92ff38",
    "execution_start": 1651161274401,
    "execution_millis": 2308,
    "deepnote_sql_source": "DROP DATASOURCE btc_data;",
    "deepnote_cell_type": "sql",
    "deepnote_cell_height": 120.953125
   },
   "source": "\n\ndf_1 = _deepnote_execute_sql(\"\"\"DROP DATASOURCE btc_data;\n\"\"\", 'SQL_4A3995E6_E6C8_4CF8_AA3B_E89C56745F8F')\ndf_1",
   "execution_count": null,
   "outputs": []
  },
  {
   "cell_type": "code",
   "metadata": {
    "tags": [],
    "deepnote_variable_name": "df_2",
    "sql_integration_id": "4a3995e6-e6c8-4cf8-aa3b-e89c56745f8f",
    "cell_id": "933835da01474f38a5f6c400ef7a3b62",
    "deepnote_to_be_reexecuted": false,
    "source_hash": "254f5ab5",
    "execution_start": 1651161282575,
    "execution_millis": 2884,
    "deepnote_sql_source": "CREATE DATASOURCE btc_data\nWITH ENGINE = \"singlestore\",\n    PARAMETERS = {\n        \"user\" : \"admin\",\n        \"password\" : \"<TO DO>\",\n        \"host\" : \"<TO DO>\",\n        \"port\" : 3306,\n        \"database\" : \"btc_db\"\n    }",
    "deepnote_cell_type": "sql",
    "deepnote_cell_height": 264.953125
   },
   "source": "\n\ndf_2 = _deepnote_execute_sql(\"\"\"CREATE DATASOURCE btc_data\nWITH ENGINE = \"singlestore\",\n    PARAMETERS = {\n        \"user\" : \"admin\",\n        \"password\" : \"<TO DO>\",\n        \"host\" : \"<TO DO>\",\n        \"port\" : 3306,\n        \"database\" : \"btc_db\"\n    }\n\"\"\", 'SQL_4A3995E6_E6C8_4CF8_AA3B_E89C56745F8F')\ndf_2",
   "execution_count": null,
   "outputs": []
  },
  {
   "cell_type": "code",
   "metadata": {
    "tags": [],
    "deepnote_variable_name": "df_3",
    "sql_integration_id": "4a3995e6-e6c8-4cf8-aa3b-e89c56745f8f",
    "cell_id": "3f81d83057a74b00a4d9723b88b649e3",
    "deepnote_to_be_reexecuted": false,
    "source_hash": "4780f177",
    "execution_start": 1651161291140,
    "execution_millis": 3022,
    "deepnote_sql_source": "SELECT *\nFROM btc_data.btc\nORDER BY ds\nLIMIT 5;",
    "output_cleared": true,
    "deepnote_cell_type": "sql",
    "deepnote_cell_height": 174.953125
   },
   "source": "\n\ndf_3 = _deepnote_execute_sql(\"\"\"SELECT *\nFROM btc_data.btc\nORDER BY ds\nLIMIT 5;\n\"\"\", 'SQL_4A3995E6_E6C8_4CF8_AA3B_E89C56745F8F')\ndf_3",
   "execution_count": null,
   "outputs": []
  },
  {
   "cell_type": "markdown",
   "source": "### 2.4 Create MindsDB Predictor",
   "metadata": {
    "cell_id": "3e6b9bbfaec049908992dfb9988b5645",
    "tags": [],
    "deepnote_cell_type": "markdown",
    "deepnote_cell_height": 61.953125
   }
  },
  {
   "cell_type": "code",
   "metadata": {
    "tags": [],
    "deepnote_variable_name": "df_4",
    "sql_integration_id": "4a3995e6-e6c8-4cf8-aa3b-e89c56745f8f",
    "cell_id": "b95d44675d2b4035ad131ba65cc50ee9",
    "deepnote_to_be_reexecuted": false,
    "source_hash": "d01ba6a",
    "execution_start": 1651161303709,
    "execution_millis": 1938,
    "deepnote_sql_source": "DROP PREDICTOR mindsdb.btc_pred;",
    "deepnote_cell_type": "sql",
    "deepnote_cell_height": 120.953125
   },
   "source": "\n\ndf_4 = _deepnote_execute_sql(\"\"\"DROP PREDICTOR mindsdb.btc_pred;\n\"\"\", 'SQL_4A3995E6_E6C8_4CF8_AA3B_E89C56745F8F')\ndf_4",
   "execution_count": null,
   "outputs": []
  },
  {
   "cell_type": "code",
   "metadata": {
    "tags": [],
    "deepnote_variable_name": "df_5",
    "sql_integration_id": "4a3995e6-e6c8-4cf8-aa3b-e89c56745f8f",
    "cell_id": "38e61fb0da1443cb8ae2ff7eca8d3876",
    "deepnote_to_be_reexecuted": false,
    "source_hash": "d8b72a66",
    "execution_start": 1651161308833,
    "execution_millis": 11635,
    "deepnote_sql_source": "CREATE PREDICTOR btc_pred\nFROM btc_data\n    (SELECT * FROM btc)\nPREDICT y\nORDER BY ds\nWINDOW 1;",
    "deepnote_cell_type": "sql",
    "deepnote_cell_height": 210.953125
   },
   "source": "\n\ndf_5 = _deepnote_execute_sql(\"\"\"CREATE PREDICTOR btc_pred\nFROM btc_data\n    (SELECT * FROM btc)\nPREDICT y\nORDER BY ds\nWINDOW 1;\n\"\"\", 'SQL_4A3995E6_E6C8_4CF8_AA3B_E89C56745F8F')\ndf_5",
   "execution_count": null,
   "outputs": []
  },
  {
   "cell_type": "code",
   "metadata": {
    "tags": [],
    "deepnote_variable_name": "df_6",
    "sql_integration_id": "4a3995e6-e6c8-4cf8-aa3b-e89c56745f8f",
    "cell_id": "6678bfec55654685bc0c4295e4545813",
    "deepnote_to_be_reexecuted": false,
    "source_hash": "42a166ee",
    "execution_start": 1651161366321,
    "execution_millis": 2217,
    "deepnote_sql_source": "SHOW PREDICTORS;",
    "output_cleared": true,
    "deepnote_cell_type": "sql",
    "deepnote_cell_height": 120.953125
   },
   "source": "\n\ndf_6 = _deepnote_execute_sql(\"\"\"SHOW PREDICTORS;\n\"\"\", 'SQL_4A3995E6_E6C8_4CF8_AA3B_E89C56745F8F')\ndf_6",
   "execution_count": null,
   "outputs": []
  },
  {
   "cell_type": "code",
   "metadata": {
    "tags": [],
    "deepnote_variable_name": "df_7",
    "sql_integration_id": "4a3995e6-e6c8-4cf8-aa3b-e89c56745f8f",
    "cell_id": "11787eac4efb49e288d69ea0366909ed",
    "deepnote_to_be_reexecuted": false,
    "source_hash": "ab1f57d9",
    "execution_start": 1651161376498,
    "execution_millis": 1824,
    "deepnote_sql_source": "DESCRIBE btc_pred;",
    "output_cleared": true,
    "deepnote_cell_type": "sql",
    "deepnote_cell_height": 120.953125
   },
   "source": "\n\ndf_7 = _deepnote_execute_sql(\"\"\"DESCRIBE btc_pred;\n\"\"\", 'SQL_4A3995E6_E6C8_4CF8_AA3B_E89C56745F8F')\ndf_7",
   "execution_count": null,
   "outputs": []
  },
  {
   "cell_type": "code",
   "metadata": {
    "tags": [],
    "deepnote_variable_name": "df_8",
    "sql_integration_id": "4a3995e6-e6c8-4cf8-aa3b-e89c56745f8f",
    "cell_id": "742be6c284b448708f14b5b88d70cd0a",
    "deepnote_to_be_reexecuted": false,
    "source_hash": "75bae673",
    "execution_start": 1651161382358,
    "execution_millis": 1971,
    "deepnote_sql_source": "DESCRIBE btc_pred.features;",
    "output_cleared": true,
    "deepnote_cell_type": "sql",
    "deepnote_cell_height": 120.953125
   },
   "source": "\n\ndf_8 = _deepnote_execute_sql(\"\"\"DESCRIBE btc_pred.features;\n\"\"\", 'SQL_4A3995E6_E6C8_4CF8_AA3B_E89C56745F8F')\ndf_8",
   "execution_count": null,
   "outputs": []
  },
  {
   "cell_type": "markdown",
   "source": "### 2.5 Show MindsDB Predictions",
   "metadata": {
    "cell_id": "31a8d0f4521e479da4adf9dedc93003f",
    "tags": [],
    "deepnote_cell_type": "markdown",
    "deepnote_cell_height": 61.953125
   }
  },
  {
   "cell_type": "code",
   "metadata": {
    "tags": [],
    "deepnote_variable_name": "pred_10_df",
    "sql_integration_id": "4a3995e6-e6c8-4cf8-aa3b-e89c56745f8f",
    "cell_id": "66a45ff8926841bc9a50fbbbcb37bb30",
    "deepnote_to_be_reexecuted": false,
    "source_hash": "286c95be",
    "execution_start": 1651161391500,
    "execution_millis": 29242,
    "deepnote_sql_source": "SELECT orig_table.ds AS date, pred_table.y AS predicted_y, orig_table.y AS actual_y\nFROM btc_data.btc AS orig_table\nJOIN mindsdb.btc_pred AS pred_table\nWHERE orig_table.ds > '2011-12-30'\nLIMIT 10;",
    "deepnote_table_state": {
     "pageSize": 10,
     "pageIndex": 0,
     "filters": [],
     "sortBy": []
    },
    "deepnote_table_loading": false,
    "output_cleared": true,
    "deepnote_cell_type": "sql",
    "deepnote_cell_height": 192.96875
   },
   "source": "\n\npred_10_df = _deepnote_execute_sql(\"\"\"SELECT orig_table.ds AS date, pred_table.y AS predicted_y, orig_table.y AS actual_y\nFROM btc_data.btc AS orig_table\nJOIN mindsdb.btc_pred AS pred_table\nWHERE orig_table.ds > '2011-12-30'\nLIMIT 10;\n\"\"\", 'SQL_4A3995E6_E6C8_4CF8_AA3B_E89C56745F8F')\npred_10_df",
   "execution_count": null,
   "outputs": []
  },
  {
   "cell_type": "code",
   "metadata": {
    "cell_id": "b838f2b413a6488fb4cb93634b52fc79",
    "tags": [],
    "deepnote_to_be_reexecuted": false,
    "source_hash": "da6562ac",
    "execution_start": 1651161427164,
    "execution_millis": 70,
    "output_cleared": true,
    "deepnote_cell_type": "code",
    "deepnote_cell_height": 188.953125,
    "deepnote_output_heights": [
     526.984375
    ]
   },
   "source": "line_fig = px.line(\n                pred_10_df,\n                x = \"date\",\n                y = [\"actual_y\", \"predicted_y\"]\n            )\n\nline_fig.show()",
   "execution_count": null,
   "outputs": []
  },
  {
   "cell_type": "code",
   "metadata": {
    "tags": [],
    "deepnote_variable_name": "df_10",
    "sql_integration_id": "4a3995e6-e6c8-4cf8-aa3b-e89c56745f8f",
    "cell_id": "2c02751c589740acb0b7c061aff1c397",
    "deepnote_to_be_reexecuted": false,
    "source_hash": "db7375a2",
    "execution_start": 1651161437248,
    "execution_millis": 3490,
    "deepnote_sql_source": "SELECT orig_table.ds AS date, pred_table.y AS predicted_y, orig_table.y AS actual_y\nFROM btc_data.btc AS orig_table\nJOIN mindsdb.btc_pred AS pred_table\nWHERE orig_table.ds > LATEST;",
    "output_cleared": true,
    "deepnote_cell_type": "sql",
    "deepnote_cell_height": 174.953125
   },
   "source": "\n\ndf_10 = _deepnote_execute_sql(\"\"\"SELECT orig_table.ds AS date, pred_table.y AS predicted_y, orig_table.y AS actual_y\nFROM btc_data.btc AS orig_table\nJOIN mindsdb.btc_pred AS pred_table\nWHERE orig_table.ds > LATEST;\n\"\"\", 'SQL_4A3995E6_E6C8_4CF8_AA3B_E89C56745F8F')\ndf_10",
   "execution_count": null,
   "outputs": []
  },
  {
   "cell_type": "code",
   "metadata": {
    "tags": [],
    "deepnote_variable_name": "pred_all_df",
    "sql_integration_id": "4a3995e6-e6c8-4cf8-aa3b-e89c56745f8f",
    "cell_id": "41f61140525f414aadb35fdb6a69cf90",
    "deepnote_to_be_reexecuted": false,
    "source_hash": "99e80dfc",
    "execution_start": 1651161448270,
    "execution_millis": 28209,
    "deepnote_sql_source": "SELECT orig_table.ds AS date, pred_table.y AS predicted_y, orig_table.y AS actual_y\nFROM btc_data.btc AS orig_table\nJOIN mindsdb.btc_pred AS pred_table\nWHERE orig_table.ds > '2011-12-30';",
    "owner_user_id": "a27dcf47-1642-4655-8008-a5f08cb81572",
    "output_cleared": true,
    "deepnote_cell_type": "sql",
    "deepnote_cell_height": 693.875
   },
   "source": "\n\npred_all_df = _deepnote_execute_sql(\"\"\"SELECT orig_table.ds AS date, pred_table.y AS predicted_y, orig_table.y AS actual_y\nFROM btc_data.btc AS orig_table\nJOIN mindsdb.btc_pred AS pred_table\nWHERE orig_table.ds > '2011-12-30';\n\"\"\", 'SQL_4A3995E6_E6C8_4CF8_AA3B_E89C56745F8F')\npred_all_df",
   "execution_count": null,
   "outputs": []
  },
  {
   "cell_type": "code",
   "metadata": {
    "cell_id": "5391c441fe1e44ecbc737e07d9b9a127",
    "tags": [],
    "deepnote_to_be_reexecuted": false,
    "source_hash": "78850b43",
    "execution_start": 1651161482882,
    "execution_millis": 115,
    "deepnote_cell_type": "code",
    "deepnote_cell_height": 80.953125
   },
   "source": "btc_pred_df = spark.createDataFrame(pred_all_df)",
   "execution_count": null,
   "outputs": []
  },
  {
   "cell_type": "code",
   "metadata": {
    "cell_id": "f76507bf34994b3f818b497d6fa07e18",
    "tags": [],
    "deepnote_to_be_reexecuted": false,
    "source_hash": "be10b6dc",
    "execution_start": 1651161494694,
    "execution_millis": 1674,
    "deepnote_cell_type": "code",
    "deepnote_cell_height": 170.953125
   },
   "source": "(btc_pred_df.write\n    .format(\"singlestore\")\n    .option(\"loadDataCompression\", \"LZ4\")\n    .mode(\"overwrite\")\n    .save(\"btc_db.pred\")\n)",
   "execution_count": null,
   "outputs": []
  },
  {
   "cell_type": "markdown",
   "source": "<a style='text-decoration:none;line-height:16px;display:flex;color:#5B5B62;padding:10px;justify-content:end;' href='https://deepnote.com?utm_source=created-in-deepnote-cell&projectId=342fcb27-ae26-4515-a337-32741b0b3da9' target=\"_blank\">\n<img alt='Created in deepnote.com' style='display:inline;max-height:16px;margin:0px;margin-right:7.5px;' src='data:image/svg+xml;base64,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' > </img>\nCreated in <span style='font-weight:600;margin-left:4px;'>Deepnote</span></a>",
   "metadata": {
    "tags": [],
    "created_in_deepnote_cell": true,
    "deepnote_cell_type": "markdown"
   }
  }
 ],
 "nbformat": 4,
 "nbformat_minor": 2,
 "metadata": {
  "orig_nbformat": 2,
  "deepnote": {
   "is_reactive": false
  },
  "deepnote_notebook_id": "389454c6-6712-4ea2-9c46-a303774296ad",
  "deepnote_execution_queue": []
 }
}